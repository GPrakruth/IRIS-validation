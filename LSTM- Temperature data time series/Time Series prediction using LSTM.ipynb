{
 "cells": [
  {
   "cell_type": "markdown",
   "metadata": {
    "colab_type": "text",
    "id": "AM1a6txtBz1l"
   },
   "source": [
    "## Time Series Prediction using LSTM"
   ]
  },
  {
   "cell_type": "markdown",
   "metadata": {
    "colab_type": "text",
    "id": "_wKB0AFnBz1n"
   },
   "source": [
    "### Download Data\n",
    "Link: https://datamarket.com/data/set/2324/daily-minimum-temperatures-in-melbourne-australia-1981-1990#!ds=2324&display=line\n",
    "\n",
    "#### Description\n",
    "Daily minimum temperatures in Melbourne, Australia, 1981-1990\n",
    "\n",
    "Units: Degrees Celcius\n",
    "\n",
    "#### Steps before loading\n",
    "- Rename the column name with temprature values to \"Temprature\"\n",
    "- In the last, there is one extra row in the data, remove it by opening the file and save it again.\n",
    "- There are some values in Temprature column which have a \"?\" before them, they will give error, remove \"?\" before them and save the file\n",
    "- If you don't want to do these steps, just load the data file given by Great Learning."
   ]
  },
  {
   "cell_type": "markdown",
   "metadata": {
    "colab_type": "text",
    "id": "QQieWWLsBz1o"
   },
   "source": [
    "#### Mount google drive"
   ]
  },
  {
   "cell_type": "code",
   "execution_count": 1,
   "metadata": {
    "colab": {
     "base_uri": "https://localhost:8080/",
     "height": 34
    },
    "colab_type": "code",
    "id": "VjoLRSg57qlt",
    "outputId": "1bd84044-813f-42b9-c743-63653fbef694"
   },
   "outputs": [
    {
     "name": "stdout",
     "output_type": "stream",
     "text": [
      "Drive already mounted at /gdrive; to attempt to forcibly remount, call drive.mount(\"/gdrive\", force_remount=True).\n"
     ]
    }
   ],
   "source": [
    "#Connect Google drive to colab\n",
    "from google.colab import drive\n",
    "drive.mount('/gdrive')\n"
   ]
  },
  {
   "cell_type": "markdown",
   "metadata": {
    "colab_type": "text",
    "id": "4eICp8YtBz1v"
   },
   "source": [
    "### Load your data file"
   ]
  },
  {
   "cell_type": "code",
   "execution_count": 2,
   "metadata": {
    "colab": {
     "base_uri": "https://localhost:8080/",
     "height": 79
    },
    "colab_type": "code",
    "id": "AanHqGBu7Jw2",
    "outputId": "84e918ff-208a-4205-b8e6-695cc1229b4c"
   },
   "outputs": [
    {
     "name": "stderr",
     "output_type": "stream",
     "text": [
      "Using TensorFlow backend.\n"
     ]
    },
    {
     "data": {
      "text/html": [
       "<p style=\"color: red;\">\n",
       "The default version of TensorFlow in Colab will soon switch to TensorFlow 2.x.<br>\n",
       "We recommend you <a href=\"https://www.tensorflow.org/guide/migrate\" target=\"_blank\">upgrade</a> now \n",
       "or ensure your notebook will continue to use TensorFlow 1.x via the <code>%tensorflow_version 1.x</code> magic:\n",
       "<a href=\"https://colab.research.google.com/notebooks/tensorflow_version.ipynb\" target=\"_blank\">more info</a>.</p>\n"
      ],
      "text/plain": [
       "<IPython.core.display.HTML object>"
      ]
     },
     "metadata": {
      "tags": []
     },
     "output_type": "display_data"
    }
   ],
   "source": [
    "import numpy as np\n",
    "import keras\n",
    "import tensorflow as tf\n",
    "from sklearn.model_selection import train_test_split\n",
    "from keras.models import Sequential\n",
    "from matplotlib import pyplot as plt\n",
    "import seaborn as sns\n",
    "from keras.layers import BatchNormalization\n",
    "from keras.layers import MaxPooling2D\n",
    "from keras.layers import Flatten\n",
    "import pandas as pd\n",
    "from tqdm import tqdm\n",
    "import cv2\n",
    "import matplotlib.pyplot as plt\n",
    "import numpy as np\n",
    "from keras.optimizers import adam\n"
   ]
  },
  {
   "cell_type": "code",
   "execution_count": 0,
   "metadata": {
    "colab": {},
    "colab_type": "code",
    "id": "XquBwcpaCXQt"
   },
   "outputs": [],
   "source": [
    "data = pd.read_csv(\"daily-minimum-temperatures-in-me.csv\",index_col='Date')"
   ]
  },
  {
   "cell_type": "markdown",
   "metadata": {
    "colab_type": "text",
    "id": "Moslgh6KBz1x"
   },
   "source": [
    "#### Plot data"
   ]
  },
  {
   "cell_type": "code",
   "execution_count": 4,
   "metadata": {
    "colab": {
     "base_uri": "https://localhost:8080/",
     "height": 225
    },
    "colab_type": "code",
    "id": "bn4gmxB4Bz1y",
    "outputId": "907b9e90-1c50-4423-bedd-d33b51d8409a"
   },
   "outputs": [
    {
     "data": {
      "text/html": [
       "<div>\n",
       "<style scoped>\n",
       "    .dataframe tbody tr th:only-of-type {\n",
       "        vertical-align: middle;\n",
       "    }\n",
       "\n",
       "    .dataframe tbody tr th {\n",
       "        vertical-align: top;\n",
       "    }\n",
       "\n",
       "    .dataframe thead th {\n",
       "        text-align: right;\n",
       "    }\n",
       "</style>\n",
       "<table border=\"1\" class=\"dataframe\">\n",
       "  <thead>\n",
       "    <tr style=\"text-align: right;\">\n",
       "      <th></th>\n",
       "      <th>Temperature</th>\n",
       "    </tr>\n",
       "    <tr>\n",
       "      <th>Date</th>\n",
       "      <th></th>\n",
       "    </tr>\n",
       "  </thead>\n",
       "  <tbody>\n",
       "    <tr>\n",
       "      <th>1981-01-01</th>\n",
       "      <td>20.7</td>\n",
       "    </tr>\n",
       "    <tr>\n",
       "      <th>1981-01-02</th>\n",
       "      <td>17.9</td>\n",
       "    </tr>\n",
       "    <tr>\n",
       "      <th>1981-01-03</th>\n",
       "      <td>18.8</td>\n",
       "    </tr>\n",
       "    <tr>\n",
       "      <th>1981-01-04</th>\n",
       "      <td>14.6</td>\n",
       "    </tr>\n",
       "    <tr>\n",
       "      <th>1981-01-05</th>\n",
       "      <td>15.8</td>\n",
       "    </tr>\n",
       "  </tbody>\n",
       "</table>\n",
       "</div>"
      ],
      "text/plain": [
       "            Temperature\n",
       "Date                   \n",
       "1981-01-01         20.7\n",
       "1981-01-02         17.9\n",
       "1981-01-03         18.8\n",
       "1981-01-04         14.6\n",
       "1981-01-05         15.8"
      ]
     },
     "execution_count": 4,
     "metadata": {
      "tags": []
     },
     "output_type": "execute_result"
    }
   ],
   "source": [
    "data.head()"
   ]
  },
  {
   "cell_type": "markdown",
   "metadata": {
    "colab_type": "text",
    "id": "uQyAtFt5Bz10"
   },
   "source": [
    "#### Descibe your dataframe"
   ]
  },
  {
   "cell_type": "code",
   "execution_count": 5,
   "metadata": {
    "colab": {
     "base_uri": "https://localhost:8080/",
     "height": 296
    },
    "colab_type": "code",
    "id": "oBWNA_kG7JxC",
    "outputId": "f5a43192-da48-4f2d-8eee-2279ee0a67a9"
   },
   "outputs": [
    {
     "data": {
      "text/plain": [
       "<matplotlib.axes._subplots.AxesSubplot at 0x7f66bc177908>"
      ]
     },
     "execution_count": 5,
     "metadata": {
      "tags": []
     },
     "output_type": "execute_result"
    },
    {
     "data": {
      "image/png": "[encoded data removed]",
      "text/plain": [
       "<Figure size 432x288 with 1 Axes>"
      ]
     },
     "metadata": {
      "tags": []
     },
     "output_type": "display_data"
    }
   ],
   "source": [
    "data.plot()"
   ]
  },
  {
   "cell_type": "code",
   "execution_count": 6,
   "metadata": {
    "colab": {
     "base_uri": "https://localhost:8080/",
     "height": 77
    },
    "colab_type": "code",
    "id": "HJjoKQ8zC5dW",
    "outputId": "e51b70b7-bf01-4b31-8afa-d2fc98b4abb6"
   },
   "outputs": [
    {
     "data": {
      "text/html": [
       "<div>\n",
       "<style scoped>\n",
       "    .dataframe tbody tr th:only-of-type {\n",
       "        vertical-align: middle;\n",
       "    }\n",
       "\n",
       "    .dataframe tbody tr th {\n",
       "        vertical-align: top;\n",
       "    }\n",
       "\n",
       "    .dataframe thead th {\n",
       "        text-align: right;\n",
       "    }\n",
       "</style>\n",
       "<table border=\"1\" class=\"dataframe\">\n",
       "  <thead>\n",
       "    <tr style=\"text-align: right;\">\n",
       "      <th></th>\n",
       "      <th>count</th>\n",
       "      <th>mean</th>\n",
       "      <th>std</th>\n",
       "      <th>min</th>\n",
       "      <th>25%</th>\n",
       "      <th>50%</th>\n",
       "      <th>75%</th>\n",
       "      <th>max</th>\n",
       "    </tr>\n",
       "  </thead>\n",
       "  <tbody>\n",
       "    <tr>\n",
       "      <th>Temperature</th>\n",
       "      <td>3650.0</td>\n",
       "      <td>11.177753</td>\n",
       "      <td>4.071837</td>\n",
       "      <td>0.0</td>\n",
       "      <td>8.3</td>\n",
       "      <td>11.0</td>\n",
       "      <td>14.0</td>\n",
       "      <td>26.3</td>\n",
       "    </tr>\n",
       "  </tbody>\n",
       "</table>\n",
       "</div>"
      ],
      "text/plain": [
       "              count       mean       std  min  25%   50%   75%   max\n",
       "Temperature  3650.0  11.177753  4.071837  0.0  8.3  11.0  14.0  26.3"
      ]
     },
     "execution_count": 6,
     "metadata": {
      "tags": []
     },
     "output_type": "execute_result"
    }
   ],
   "source": [
    "data.describe().T"
   ]
  },
  {
   "cell_type": "markdown",
   "metadata": {
    "colab_type": "text",
    "id": "lO-XvlOhBz12"
   },
   "source": [
    "#### Check for null values"
   ]
  },
  {
   "cell_type": "code",
   "execution_count": 7,
   "metadata": {
    "colab": {
     "base_uri": "https://localhost:8080/",
     "height": 50
    },
    "colab_type": "code",
    "id": "97MVIy_N7JxH",
    "outputId": "f133a83b-4b61-4c5d-8c29-578f5328d2ef"
   },
   "outputs": [
    {
     "data": {
      "text/plain": [
       "Temperature    0\n",
       "dtype: int64"
      ]
     },
     "execution_count": 7,
     "metadata": {
      "tags": []
     },
     "output_type": "execute_result"
    }
   ],
   "source": [
    "data.isnull().sum()"
   ]
  },
  {
   "cell_type": "code",
   "execution_count": 8,
   "metadata": {
    "colab": {
     "base_uri": "https://localhost:8080/",
     "height": 50
    },
    "colab_type": "code",
    "id": "kUcFToQYDR9E",
    "outputId": "5b456712-edd3-41ff-8bdd-b0c9d4046adb"
   },
   "outputs": [
    {
     "data": {
      "text/plain": [
       "Temperature    float64\n",
       "dtype: object"
      ]
     },
     "execution_count": 8,
     "metadata": {
      "tags": []
     },
     "output_type": "execute_result"
    }
   ],
   "source": [
    "data.dtypes"
   ]
  },
  {
   "cell_type": "markdown",
   "metadata": {
    "colab_type": "text",
    "id": "GfnWLAfDBz15"
   },
   "source": [
    "#### Drop null values"
   ]
  },
  {
   "cell_type": "code",
   "execution_count": 0,
   "metadata": {
    "colab": {},
    "colab_type": "code",
    "id": "fgh7mdOI7JxS"
   },
   "outputs": [],
   "source": [
    "#"
   ]
  },
  {
   "cell_type": "markdown",
   "metadata": {
    "colab_type": "text",
    "id": "y61bBro8Bz17"
   },
   "source": [
    "#### Get the representation of the distribution of data in the form of histogram"
   ]
  },
  {
   "cell_type": "code",
   "execution_count": 10,
   "metadata": {
    "colab": {
     "base_uri": "https://localhost:8080/",
     "height": 314
    },
    "colab_type": "code",
    "id": "659sLAx27Jxc",
    "outputId": "339317fc-89e3-4332-8222-fd73f2e343bf"
   },
   "outputs": [
    {
     "data": {
      "text/plain": [
       "array([[<matplotlib.axes._subplots.AxesSubplot object at 0x7f66bbc8eda0>]],\n",
       "      dtype=object)"
      ]
     },
     "execution_count": 10,
     "metadata": {
      "tags": []
     },
     "output_type": "execute_result"
    },
    {
     "data": {
      "image/png": "[encoded data removed]",
      "text/plain": [
       "<Figure size 432x288 with 1 Axes>"
      ]
     },
     "metadata": {
      "tags": []
     },
     "output_type": "display_data"
    }
   ],
   "source": [
    "data.hist()"
   ]
  },
  {
   "cell_type": "markdown",
   "metadata": {
    "colab_type": "text",
    "id": "smIoou8LBz1-"
   },
   "source": [
    "#### Check the maximum and minimum values"
   ]
  },
  {
   "cell_type": "code",
   "execution_count": 11,
   "metadata": {
    "colab": {
     "base_uri": "https://localhost:8080/",
     "height": 50
    },
    "colab_type": "code",
    "id": "WmkjCx8c7Jxn",
    "outputId": "d2f25f13-e581-4316-d6c7-bbc57a562481"
   },
   "outputs": [
    {
     "name": "stdout",
     "output_type": "stream",
     "text": [
      "26.3\n",
      "0.0\n"
     ]
    }
   ],
   "source": [
    "print(max(data.Temperature))\n",
    "print(min(data.Temperature))"
   ]
  },
  {
   "cell_type": "markdown",
   "metadata": {
    "colab_type": "text",
    "id": "pnwX6BDoBz2B"
   },
   "source": [
    "### Normalize the data"
   ]
  },
  {
   "cell_type": "code",
   "execution_count": 0,
   "metadata": {
    "colab": {},
    "colab_type": "code",
    "id": "fb4SNzD27Jxw"
   },
   "outputs": [],
   "source": [
    "from sklearn.preprocessing import MinMaxScaler\n",
    "\n",
    "scaler = MinMaxScaler(feature_range=(0, 1))\n",
    "scaled = scaler.fit_transform(data)"
   ]
  },
  {
   "cell_type": "code",
   "execution_count": 0,
   "metadata": {
    "colab": {},
    "colab_type": "code",
    "id": "0oFH3ARIHYt0"
   },
   "outputs": [],
   "source": [
    "scaled_data = pd.DataFrame(data=scaled,columns=['Temperature'],index=data.index)"
   ]
  },
  {
   "cell_type": "code",
   "execution_count": 14,
   "metadata": {
    "colab": {
     "base_uri": "https://localhost:8080/",
     "height": 225
    },
    "colab_type": "code",
    "id": "hWu0msq4JMXU",
    "outputId": "d63a4a46-e619-487f-c704-5f978321d497"
   },
   "outputs": [
    {
     "data": {
      "text/html": [
       "<div>\n",
       "<style scoped>\n",
       "    .dataframe tbody tr th:only-of-type {\n",
       "        vertical-align: middle;\n",
       "    }\n",
       "\n",
       "    .dataframe tbody tr th {\n",
       "        vertical-align: top;\n",
       "    }\n",
       "\n",
       "    .dataframe thead th {\n",
       "        text-align: right;\n",
       "    }\n",
       "</style>\n",
       "<table border=\"1\" class=\"dataframe\">\n",
       "  <thead>\n",
       "    <tr style=\"text-align: right;\">\n",
       "      <th></th>\n",
       "      <th>Temperature</th>\n",
       "    </tr>\n",
       "    <tr>\n",
       "      <th>Date</th>\n",
       "      <th></th>\n",
       "    </tr>\n",
       "  </thead>\n",
       "  <tbody>\n",
       "    <tr>\n",
       "      <th>1981-01-01</th>\n",
       "      <td>0.787072</td>\n",
       "    </tr>\n",
       "    <tr>\n",
       "      <th>1981-01-02</th>\n",
       "      <td>0.680608</td>\n",
       "    </tr>\n",
       "    <tr>\n",
       "      <th>1981-01-03</th>\n",
       "      <td>0.714829</td>\n",
       "    </tr>\n",
       "    <tr>\n",
       "      <th>1981-01-04</th>\n",
       "      <td>0.555133</td>\n",
       "    </tr>\n",
       "    <tr>\n",
       "      <th>1981-01-05</th>\n",
       "      <td>0.600760</td>\n",
       "    </tr>\n",
       "  </tbody>\n",
       "</table>\n",
       "</div>"
      ],
      "text/plain": [
       "            Temperature\n",
       "Date                   \n",
       "1981-01-01     0.787072\n",
       "1981-01-02     0.680608\n",
       "1981-01-03     0.714829\n",
       "1981-01-04     0.555133\n",
       "1981-01-05     0.600760"
      ]
     },
     "execution_count": 14,
     "metadata": {
      "tags": []
     },
     "output_type": "execute_result"
    }
   ],
   "source": [
    "scaled_data.head()"
   ]
  },
  {
   "cell_type": "markdown",
   "metadata": {
    "colab_type": "text",
    "id": "QvqqetbUBz2D"
   },
   "source": [
    "#### Check the maximum and minimum values of scaled data"
   ]
  },
  {
   "cell_type": "code",
   "execution_count": 15,
   "metadata": {
    "colab": {
     "base_uri": "https://localhost:8080/",
     "height": 50
    },
    "colab_type": "code",
    "id": "7us4Yd1oGpjo",
    "outputId": "a2c02a3a-3873-4fcc-a8e5-e13b5e7b7b09"
   },
   "outputs": [
    {
     "name": "stdout",
     "output_type": "stream",
     "text": [
      "[1.]\n",
      "[0.]\n"
     ]
    }
   ],
   "source": [
    "print(max(scaled))\n",
    "print(min(scaled))"
   ]
  },
  {
   "cell_type": "markdown",
   "metadata": {
    "colab_type": "text",
    "id": "dk_Sj2V8Bz2G"
   },
   "source": [
    "#### Look into some of the scaled values"
   ]
  },
  {
   "cell_type": "code",
   "execution_count": 16,
   "metadata": {
    "colab": {
     "base_uri": "https://localhost:8080/",
     "height": 225
    },
    "colab_type": "code",
    "id": "Xq9CBinO7Jx9",
    "outputId": "d117e3db-f503-4e8d-c099-d6ebaa7afbd2"
   },
   "outputs": [
    {
     "data": {
      "text/html": [
       "<div>\n",
       "<style scoped>\n",
       "    .dataframe tbody tr th:only-of-type {\n",
       "        vertical-align: middle;\n",
       "    }\n",
       "\n",
       "    .dataframe tbody tr th {\n",
       "        vertical-align: top;\n",
       "    }\n",
       "\n",
       "    .dataframe thead th {\n",
       "        text-align: right;\n",
       "    }\n",
       "</style>\n",
       "<table border=\"1\" class=\"dataframe\">\n",
       "  <thead>\n",
       "    <tr style=\"text-align: right;\">\n",
       "      <th></th>\n",
       "      <th>Temperature</th>\n",
       "    </tr>\n",
       "    <tr>\n",
       "      <th>Date</th>\n",
       "      <th></th>\n",
       "    </tr>\n",
       "  </thead>\n",
       "  <tbody>\n",
       "    <tr>\n",
       "      <th>1981-01-01</th>\n",
       "      <td>0.787072</td>\n",
       "    </tr>\n",
       "    <tr>\n",
       "      <th>1981-01-02</th>\n",
       "      <td>0.680608</td>\n",
       "    </tr>\n",
       "    <tr>\n",
       "      <th>1981-01-03</th>\n",
       "      <td>0.714829</td>\n",
       "    </tr>\n",
       "    <tr>\n",
       "      <th>1981-01-04</th>\n",
       "      <td>0.555133</td>\n",
       "    </tr>\n",
       "    <tr>\n",
       "      <th>1981-01-05</th>\n",
       "      <td>0.600760</td>\n",
       "    </tr>\n",
       "  </tbody>\n",
       "</table>\n",
       "</div>"
      ],
      "text/plain": [
       "            Temperature\n",
       "Date                   \n",
       "1981-01-01     0.787072\n",
       "1981-01-02     0.680608\n",
       "1981-01-03     0.714829\n",
       "1981-01-04     0.555133\n",
       "1981-01-05     0.600760"
      ]
     },
     "execution_count": 16,
     "metadata": {
      "tags": []
     },
     "output_type": "execute_result"
    }
   ],
   "source": [
    "scaled_data.head()"
   ]
  },
  {
   "cell_type": "markdown",
   "metadata": {
    "colab_type": "text",
    "id": "n5TrZ7OXBz2I"
   },
   "source": [
    "### Split data into Training and Testing"
   ]
  },
  {
   "cell_type": "code",
   "execution_count": 0,
   "metadata": {
    "colab": {},
    "colab_type": "code",
    "id": "-0Uh7lCO7JyD"
   },
   "outputs": [],
   "source": [
    "\n",
    "train_data = scaled_data[:int((len(scaled_data))*.70)] \n",
    "test_data = scaled_data[int(len(scaled_data)*.70):]"
   ]
  },
  {
   "cell_type": "markdown",
   "metadata": {
    "colab_type": "text",
    "id": "cglvpgkFBz2L"
   },
   "source": [
    "#### Print train and test size"
   ]
  },
  {
   "cell_type": "code",
   "execution_count": 18,
   "metadata": {
    "colab": {
     "base_uri": "https://localhost:8080/",
     "height": 286
    },
    "colab_type": "code",
    "id": "fN05JkWoBz2L",
    "outputId": "e7539fd8-ed2b-49a0-cd73-88d5134fa56c"
   },
   "outputs": [
    {
     "name": "stdout",
     "output_type": "stream",
     "text": [
      "(2555, 1)\n",
      "            Temperature\n",
      "Date                   \n",
      "1988-01-01     0.581749\n",
      "1988-01-02     0.543726\n",
      "1988-01-03     0.513308\n",
      "1988-01-04     0.570342\n",
      "1988-01-05     0.517110\n",
      "...                 ...\n",
      "1990-12-27     0.532319\n",
      "1990-12-28     0.517110\n",
      "1990-12-29     0.513308\n",
      "1990-12-30     0.596958\n",
      "1990-12-31     0.494297\n",
      "\n",
      "[1095 rows x 1 columns]\n"
     ]
    }
   ],
   "source": [
    "print(train_data.shape)\n",
    "print(test_data)"
   ]
  },
  {
   "cell_type": "markdown",
   "metadata": {
    "colab_type": "text",
    "id": "FEYNCENOBz2N"
   },
   "source": [
    "## Create the sequential data\n",
    "Map the temprature at a particular time t to the temprature at time t+n, where n is any number you define.\n",
    "\n",
    "For example: to map tempratures of consecutive days, use t+1, i.e. loop_back = 1"
   ]
  },
  {
   "cell_type": "markdown",
   "metadata": {
    "colab_type": "text",
    "id": "w57gBp39Bz2O"
   },
   "source": [
    "#### Define your function to create dataset"
   ]
  },
  {
   "cell_type": "code",
   "execution_count": 0,
   "metadata": {
    "colab": {},
    "colab_type": "code",
    "id": "jWIvInPB7JyK"
   },
   "outputs": [],
   "source": [
    "#window - how long the sequence will be\n",
    "#def seq_data(dataset):\n",
    " #   scaled_data['next_temp'] = scaled_data.shift(periods = -1 )['Temperature'] \n",
    " #   T_x = scaled_data['Temperature']\n",
    " #   T_y = scaled_data['next_temp']\n",
    " #   return T_x, T_y"
   ]
  },
  {
   "cell_type": "code",
   "execution_count": 0,
   "metadata": {
    "colab": {},
    "colab_type": "code",
    "id": "oP1xW9M7UY4Q"
   },
   "outputs": [],
   "source": [
    "def add_col(dffile):\n",
    "  dffile['Nexttemp']=dffile['Temperature'].shift(-1)\n",
    "  dffile=dffile[:-1]"
   ]
  },
  {
   "cell_type": "code",
   "execution_count": 21,
   "metadata": {
    "colab": {
     "base_uri": "https://localhost:8080/",
     "height": 118
    },
    "colab_type": "code",
    "id": "ZV9Px-g9Ueca",
    "outputId": "d1b3854e-605d-468a-d94d-be346a76e83e"
   },
   "outputs": [
    {
     "name": "stderr",
     "output_type": "stream",
     "text": [
      "/usr/local/lib/python3.6/dist-packages/ipykernel_launcher.py:2: SettingWithCopyWarning: \n",
      "A value is trying to be set on a copy of a slice from a DataFrame.\n",
      "Try using .loc[row_indexer,col_indexer] = value instead\n",
      "\n",
      "See the caveats in the documentation: http://pandas.pydata.org/pandas-docs/stable/user_guide/indexing.html#returning-a-view-versus-a-copy\n",
      "  \n"
     ]
    }
   ],
   "source": [
    "add_col(train_data)"
   ]
  },
  {
   "cell_type": "code",
   "execution_count": 22,
   "metadata": {
    "colab": {
     "base_uri": "https://localhost:8080/",
     "height": 225
    },
    "colab_type": "code",
    "id": "JzzsZEGJUlkh",
    "outputId": "b4334407-078a-4ba1-a7b9-8c370e85021d"
   },
   "outputs": [
    {
     "data": {
      "text/html": [
       "<div>\n",
       "<style scoped>\n",
       "    .dataframe tbody tr th:only-of-type {\n",
       "        vertical-align: middle;\n",
       "    }\n",
       "\n",
       "    .dataframe tbody tr th {\n",
       "        vertical-align: top;\n",
       "    }\n",
       "\n",
       "    .dataframe thead th {\n",
       "        text-align: right;\n",
       "    }\n",
       "</style>\n",
       "<table border=\"1\" class=\"dataframe\">\n",
       "  <thead>\n",
       "    <tr style=\"text-align: right;\">\n",
       "      <th></th>\n",
       "      <th>Temperature</th>\n",
       "      <th>Nexttemp</th>\n",
       "    </tr>\n",
       "    <tr>\n",
       "      <th>Date</th>\n",
       "      <th></th>\n",
       "      <th></th>\n",
       "    </tr>\n",
       "  </thead>\n",
       "  <tbody>\n",
       "    <tr>\n",
       "      <th>1987-12-26</th>\n",
       "      <td>0.482890</td>\n",
       "      <td>0.615970</td>\n",
       "    </tr>\n",
       "    <tr>\n",
       "      <th>1987-12-27</th>\n",
       "      <td>0.615970</td>\n",
       "      <td>0.539924</td>\n",
       "    </tr>\n",
       "    <tr>\n",
       "      <th>1987-12-28</th>\n",
       "      <td>0.539924</td>\n",
       "      <td>0.543726</td>\n",
       "    </tr>\n",
       "    <tr>\n",
       "      <th>1987-12-29</th>\n",
       "      <td>0.543726</td>\n",
       "      <td>0.505703</td>\n",
       "    </tr>\n",
       "    <tr>\n",
       "      <th>1987-12-30</th>\n",
       "      <td>0.505703</td>\n",
       "      <td>0.634981</td>\n",
       "    </tr>\n",
       "  </tbody>\n",
       "</table>\n",
       "</div>"
      ],
      "text/plain": [
       "            Temperature  Nexttemp\n",
       "Date                             \n",
       "1987-12-26     0.482890  0.615970\n",
       "1987-12-27     0.615970  0.539924\n",
       "1987-12-28     0.539924  0.543726\n",
       "1987-12-29     0.543726  0.505703\n",
       "1987-12-30     0.505703  0.634981"
      ]
     },
     "execution_count": 22,
     "metadata": {
      "tags": []
     },
     "output_type": "execute_result"
    }
   ],
   "source": [
    "train_data=train_data[:-1]\n",
    "train_data.tail()"
   ]
  },
  {
   "cell_type": "code",
   "execution_count": 23,
   "metadata": {
    "colab": {
     "base_uri": "https://localhost:8080/",
     "height": 326
    },
    "colab_type": "code",
    "id": "KM91nUiMUn4h",
    "outputId": "94a6d646-692c-4b5a-effa-d53e3180fd33"
   },
   "outputs": [
    {
     "name": "stderr",
     "output_type": "stream",
     "text": [
      "/usr/local/lib/python3.6/dist-packages/ipykernel_launcher.py:2: SettingWithCopyWarning: \n",
      "A value is trying to be set on a copy of a slice from a DataFrame.\n",
      "Try using .loc[row_indexer,col_indexer] = value instead\n",
      "\n",
      "See the caveats in the documentation: http://pandas.pydata.org/pandas-docs/stable/user_guide/indexing.html#returning-a-view-versus-a-copy\n",
      "  \n"
     ]
    },
    {
     "data": {
      "text/html": [
       "<div>\n",
       "<style scoped>\n",
       "    .dataframe tbody tr th:only-of-type {\n",
       "        vertical-align: middle;\n",
       "    }\n",
       "\n",
       "    .dataframe tbody tr th {\n",
       "        vertical-align: top;\n",
       "    }\n",
       "\n",
       "    .dataframe thead th {\n",
       "        text-align: right;\n",
       "    }\n",
       "</style>\n",
       "<table border=\"1\" class=\"dataframe\">\n",
       "  <thead>\n",
       "    <tr style=\"text-align: right;\">\n",
       "      <th></th>\n",
       "      <th>Temperature</th>\n",
       "      <th>Nexttemp</th>\n",
       "    </tr>\n",
       "    <tr>\n",
       "      <th>Date</th>\n",
       "      <th></th>\n",
       "      <th></th>\n",
       "    </tr>\n",
       "  </thead>\n",
       "  <tbody>\n",
       "    <tr>\n",
       "      <th>1990-12-26</th>\n",
       "      <td>0.555133</td>\n",
       "      <td>0.532319</td>\n",
       "    </tr>\n",
       "    <tr>\n",
       "      <th>1990-12-27</th>\n",
       "      <td>0.532319</td>\n",
       "      <td>0.517110</td>\n",
       "    </tr>\n",
       "    <tr>\n",
       "      <th>1990-12-28</th>\n",
       "      <td>0.517110</td>\n",
       "      <td>0.513308</td>\n",
       "    </tr>\n",
       "    <tr>\n",
       "      <th>1990-12-29</th>\n",
       "      <td>0.513308</td>\n",
       "      <td>0.596958</td>\n",
       "    </tr>\n",
       "    <tr>\n",
       "      <th>1990-12-30</th>\n",
       "      <td>0.596958</td>\n",
       "      <td>0.494297</td>\n",
       "    </tr>\n",
       "  </tbody>\n",
       "</table>\n",
       "</div>"
      ],
      "text/plain": [
       "            Temperature  Nexttemp\n",
       "Date                             \n",
       "1990-12-26     0.555133  0.532319\n",
       "1990-12-27     0.532319  0.517110\n",
       "1990-12-28     0.517110  0.513308\n",
       "1990-12-29     0.513308  0.596958\n",
       "1990-12-30     0.596958  0.494297"
      ]
     },
     "execution_count": 23,
     "metadata": {
      "tags": []
     },
     "output_type": "execute_result"
    }
   ],
   "source": [
    "add_col(test_data)\n",
    "test_data=test_data[:-1]\n",
    "test_data.tail()"
   ]
  },
  {
   "cell_type": "code",
   "execution_count": 0,
   "metadata": {
    "colab": {},
    "colab_type": "code",
    "id": "onMkDH4jUrcb"
   },
   "outputs": [],
   "source": [
    "X_train=train_data['Temperature']\n",
    "y_train=train_data['Nexttemp']\n",
    "X_test=test_data['Temperature']\n",
    "y_test=test_data['Nexttemp']"
   ]
  },
  {
   "cell_type": "markdown",
   "metadata": {
    "colab_type": "text",
    "id": "X54YP5DfBz2U"
   },
   "source": [
    "#### Transform the prepared train and test input data into the expected structure using numpy.reshape()"
   ]
  },
  {
   "cell_type": "code",
   "execution_count": 25,
   "metadata": {
    "colab": {
     "base_uri": "https://localhost:8080/",
     "height": 50
    },
    "colab_type": "code",
    "id": "UJZ4VB4N7JyV",
    "outputId": "86dd10f8-7d31-4a4c-bb7f-b31695aaf7c2"
   },
   "outputs": [
    {
     "name": "stdout",
     "output_type": "stream",
     "text": [
      "(2554, 1, 1)\n",
      "(1094, 1, 1)\n"
     ]
    }
   ],
   "source": [
    "#Make it 3 Dimensional Data - needed for LSTM\n",
    "X_train = np.reshape(np.array(X_train), (X_train.shape[0],1, 1))\n",
    "X_test = np.reshape(np.array(X_test), (X_test.shape[0],1, 1))\n",
    "print(X_train.shape)\n",
    "print(X_test.shape)"
   ]
  },
  {
   "cell_type": "markdown",
   "metadata": {
    "colab_type": "text",
    "id": "86E-0scgBz2Y"
   },
   "source": [
    "## Define Model"
   ]
  },
  {
   "cell_type": "markdown",
   "metadata": {
    "colab_type": "text",
    "id": "yEDZwAYLBz2Y"
   },
   "source": [
    "### Define sequntial model, add LSTM layer and compile the model"
   ]
  },
  {
   "cell_type": "code",
   "execution_count": 26,
   "metadata": {
    "colab": {
     "base_uri": "https://localhost:8080/",
     "height": 87
    },
    "colab_type": "code",
    "id": "yRW-Txvt7Jya",
    "outputId": "68af8717-04a0-480a-99a0-380b257d125e"
   },
   "outputs": [
    {
     "name": "stdout",
     "output_type": "stream",
     "text": [
      "WARNING:tensorflow:From /usr/local/lib/python3.6/dist-packages/tensorflow_core/python/ops/resource_variable_ops.py:1630: calling BaseResourceVariable.__init__ (from tensorflow.python.ops.resource_variable_ops) with constraint is deprecated and will be removed in a future version.\n",
      "Instructions for updating:\n",
      "If using Keras pass *_constraint arguments to layers.\n"
     ]
    }
   ],
   "source": [
    "tf.keras.backend.clear_session()\n",
    "model = tf.keras.Sequential()\n",
    "model.add(tf.keras.layers.LSTM(32, input_shape=(1, 1)))\n"
   ]
  },
  {
   "cell_type": "code",
   "execution_count": 27,
   "metadata": {
    "colab": {
     "base_uri": "https://localhost:8080/",
     "height": 34
    },
    "colab_type": "code",
    "id": "0u4ufP7YNBKm",
    "outputId": "ac823e57-e360-48f9-9577-aefb7f8a96cb"
   },
   "outputs": [
    {
     "data": {
      "text/plain": [
       "<tf.Tensor 'lstm/strided_slice_7:0' shape=(?, 32) dtype=float32>"
      ]
     },
     "execution_count": 27,
     "metadata": {
      "tags": []
     },
     "output_type": "execute_result"
    }
   ],
   "source": [
    "model.output"
   ]
  },
  {
   "cell_type": "code",
   "execution_count": 0,
   "metadata": {
    "colab": {},
    "colab_type": "code",
    "id": "CGIes_RwNDa9"
   },
   "outputs": [],
   "source": [
    "model.add(tf.keras.layers.Dense(1))\n",
    "model.compile(optimizer='sgd', loss='mse',metrics=['accuracy'])"
   ]
  },
  {
   "cell_type": "markdown",
   "metadata": {
    "colab_type": "text",
    "id": "FIBA9CvHBz2b"
   },
   "source": [
    "### Summarize your model"
   ]
  },
  {
   "cell_type": "code",
   "execution_count": 36,
   "metadata": {
    "colab": {
     "base_uri": "https://localhost:8080/",
     "height": 286
    },
    "colab_type": "code",
    "id": "vrzzX_tnBz2b",
    "outputId": "942c65d5-41d3-4816-97a3-1d96a2402835"
   },
   "outputs": [
    {
     "name": "stdout",
     "output_type": "stream",
     "text": [
      "Model: \"sequential\"\n",
      "_________________________________________________________________\n",
      "Layer (type)                 Output Shape              Param #   \n",
      "=================================================================\n",
      "lstm (LSTM)                  (None, 32)                4352      \n",
      "_________________________________________________________________\n",
      "dense (Dense)                (None, 1)                 33        \n",
      "_________________________________________________________________\n",
      "dense_1 (Dense)              (None, 1)                 2         \n",
      "_________________________________________________________________\n",
      "dense_2 (Dense)              (None, 1)                 2         \n",
      "=================================================================\n",
      "Total params: 4,389\n",
      "Trainable params: 4,389\n",
      "Non-trainable params: 0\n",
      "_________________________________________________________________\n"
     ]
    }
   ],
   "source": [
    "model.summary()"
   ]
  },
  {
   "cell_type": "markdown",
   "metadata": {
    "colab_type": "text",
    "id": "LggMm-WsBz2d"
   },
   "source": [
    "### Train the model"
   ]
  },
  {
   "cell_type": "code",
   "execution_count": 37,
   "metadata": {
    "colab": {
     "base_uri": "https://localhost:8080/",
     "height": 1000
    },
    "colab_type": "code",
    "id": "Y4kfmsx8Bz2e",
    "outputId": "a16fdf3a-dc71-4f43-96c4-5c8b5f1ccbbc"
   },
   "outputs": [
    {
     "name": "stdout",
     "output_type": "stream",
     "text": [
      "Train on 2554 samples, validate on 1094 samples\n",
      "Epoch 1/200\n",
      "2554/2554 [==============================] - 1s 279us/sample - loss: 0.0874 - acc: 7.8309e-04 - val_loss: 0.0328 - val_acc: 0.0000e+00\n",
      "Epoch 2/200\n",
      "2554/2554 [==============================] - 0s 102us/sample - loss: 0.0253 - acc: 7.8309e-04 - val_loss: 0.0236 - val_acc: 0.0000e+00\n",
      "Epoch 3/200\n",
      "2554/2554 [==============================] - 0s 98us/sample - loss: 0.0233 - acc: 7.8309e-04 - val_loss: 0.0224 - val_acc: 0.0000e+00\n",
      "Epoch 4/200\n",
      "2554/2554 [==============================] - 0s 104us/sample - loss: 0.0227 - acc: 7.8309e-04 - val_loss: 0.0218 - val_acc: 0.0000e+00\n",
      "Epoch 5/200\n",
      "2554/2554 [==============================] - 0s 96us/sample - loss: 0.0223 - acc: 7.8309e-04 - val_loss: 0.0214 - val_acc: 0.0000e+00\n",
      "Epoch 6/200\n",
      "2554/2554 [==============================] - 0s 101us/sample - loss: 0.0218 - acc: 7.8309e-04 - val_loss: 0.0209 - val_acc: 0.0000e+00\n",
      "Epoch 7/200\n",
      "2554/2554 [==============================] - 0s 96us/sample - loss: 0.0213 - acc: 7.8309e-04 - val_loss: 0.0204 - val_acc: 0.0000e+00\n",
      "Epoch 8/200\n",
      "2554/2554 [==============================] - 0s 97us/sample - loss: 0.0209 - acc: 7.8309e-04 - val_loss: 0.0200 - val_acc: 0.0000e+00\n",
      "Epoch 9/200\n",
      "2554/2554 [==============================] - 0s 98us/sample - loss: 0.0205 - acc: 7.8309e-04 - val_loss: 0.0195 - val_acc: 0.0000e+00\n",
      "Epoch 10/200\n",
      "2554/2554 [==============================] - 0s 103us/sample - loss: 0.0200 - acc: 7.8309e-04 - val_loss: 0.0192 - val_acc: 0.0000e+00\n",
      "Epoch 11/200\n",
      "2554/2554 [==============================] - 0s 98us/sample - loss: 0.0196 - acc: 7.8309e-04 - val_loss: 0.0187 - val_acc: 0.0000e+00\n",
      "Epoch 12/200\n",
      "2554/2554 [==============================] - 0s 102us/sample - loss: 0.0192 - acc: 7.8309e-04 - val_loss: 0.0182 - val_acc: 0.0000e+00\n",
      "Epoch 13/200\n",
      "2554/2554 [==============================] - 0s 97us/sample - loss: 0.0188 - acc: 7.8309e-04 - val_loss: 0.0179 - val_acc: 0.0000e+00\n",
      "Epoch 14/200\n",
      "2554/2554 [==============================] - 0s 102us/sample - loss: 0.0184 - acc: 7.8309e-04 - val_loss: 0.0175 - val_acc: 0.0000e+00\n",
      "Epoch 15/200\n",
      "2554/2554 [==============================] - 0s 100us/sample - loss: 0.0180 - acc: 0.0012 - val_loss: 0.0170 - val_acc: 0.0000e+00\n",
      "Epoch 16/200\n",
      "2554/2554 [==============================] - 0s 101us/sample - loss: 0.0176 - acc: 0.0012 - val_loss: 0.0167 - val_acc: 0.0000e+00\n",
      "Epoch 17/200\n",
      "2554/2554 [==============================] - 0s 98us/sample - loss: 0.0172 - acc: 0.0012 - val_loss: 0.0163 - val_acc: 0.0000e+00\n",
      "Epoch 18/200\n",
      "2554/2554 [==============================] - 0s 102us/sample - loss: 0.0169 - acc: 0.0012 - val_loss: 0.0160 - val_acc: 0.0000e+00\n",
      "Epoch 19/200\n",
      "2554/2554 [==============================] - 0s 101us/sample - loss: 0.0165 - acc: 0.0012 - val_loss: 0.0155 - val_acc: 0.0000e+00\n",
      "Epoch 20/200\n",
      "2554/2554 [==============================] - 0s 98us/sample - loss: 0.0161 - acc: 0.0012 - val_loss: 0.0152 - val_acc: 0.0000e+00\n",
      "Epoch 21/200\n",
      "2554/2554 [==============================] - 0s 105us/sample - loss: 0.0158 - acc: 0.0012 - val_loss: 0.0149 - val_acc: 0.0000e+00\n",
      "Epoch 22/200\n",
      "2554/2554 [==============================] - 0s 100us/sample - loss: 0.0155 - acc: 0.0012 - val_loss: 0.0146 - val_acc: 0.0000e+00\n",
      "Epoch 23/200\n",
      "2554/2554 [==============================] - 0s 100us/sample - loss: 0.0151 - acc: 0.0012 - val_loss: 0.0142 - val_acc: 0.0000e+00\n",
      "Epoch 24/200\n",
      "2554/2554 [==============================] - 0s 107us/sample - loss: 0.0148 - acc: 0.0012 - val_loss: 0.0138 - val_acc: 0.0000e+00\n",
      "Epoch 25/200\n",
      "2554/2554 [==============================] - 0s 104us/sample - loss: 0.0145 - acc: 0.0012 - val_loss: 0.0135 - val_acc: 0.0000e+00\n",
      "Epoch 26/200\n",
      "2554/2554 [==============================] - 0s 97us/sample - loss: 0.0142 - acc: 0.0012 - val_loss: 0.0132 - val_acc: 0.0000e+00\n",
      "Epoch 27/200\n",
      "2554/2554 [==============================] - 0s 103us/sample - loss: 0.0139 - acc: 0.0012 - val_loss: 0.0129 - val_acc: 0.0000e+00\n",
      "Epoch 28/200\n",
      "2554/2554 [==============================] - 0s 104us/sample - loss: 0.0136 - acc: 0.0012 - val_loss: 0.0126 - val_acc: 0.0000e+00\n",
      "Epoch 29/200\n",
      "2554/2554 [==============================] - 0s 102us/sample - loss: 0.0134 - acc: 0.0012 - val_loss: 0.0124 - val_acc: 0.0000e+00\n",
      "Epoch 30/200\n",
      "2554/2554 [==============================] - 0s 102us/sample - loss: 0.0131 - acc: 0.0012 - val_loss: 0.0121 - val_acc: 0.0000e+00\n",
      "Epoch 31/200\n",
      "2554/2554 [==============================] - 0s 97us/sample - loss: 0.0129 - acc: 0.0012 - val_loss: 0.0118 - val_acc: 0.0000e+00\n",
      "Epoch 32/200\n",
      "2554/2554 [==============================] - 0s 102us/sample - loss: 0.0126 - acc: 0.0012 - val_loss: 0.0116 - val_acc: 0.0000e+00\n",
      "Epoch 33/200\n",
      "2554/2554 [==============================] - 0s 100us/sample - loss: 0.0124 - acc: 0.0012 - val_loss: 0.0115 - val_acc: 0.0000e+00\n",
      "Epoch 34/200\n",
      "2554/2554 [==============================] - 0s 98us/sample - loss: 0.0122 - acc: 0.0012 - val_loss: 0.0112 - val_acc: 0.0000e+00\n",
      "Epoch 35/200\n",
      "2554/2554 [==============================] - 0s 106us/sample - loss: 0.0120 - acc: 0.0012 - val_loss: 0.0110 - val_acc: 0.0000e+00\n",
      "Epoch 36/200\n",
      "2554/2554 [==============================] - 0s 98us/sample - loss: 0.0118 - acc: 0.0012 - val_loss: 0.0107 - val_acc: 0.0000e+00\n",
      "Epoch 37/200\n",
      "2554/2554 [==============================] - 0s 100us/sample - loss: 0.0116 - acc: 0.0012 - val_loss: 0.0106 - val_acc: 0.0000e+00\n",
      "Epoch 38/200\n",
      "2554/2554 [==============================] - 0s 98us/sample - loss: 0.0115 - acc: 0.0012 - val_loss: 0.0104 - val_acc: 0.0000e+00\n",
      "Epoch 39/200\n",
      "2554/2554 [==============================] - 0s 98us/sample - loss: 0.0113 - acc: 0.0012 - val_loss: 0.0103 - val_acc: 0.0000e+00\n",
      "Epoch 40/200\n",
      "2554/2554 [==============================] - 0s 98us/sample - loss: 0.0112 - acc: 0.0012 - val_loss: 0.0101 - val_acc: 0.0000e+00\n",
      "Epoch 41/200\n",
      "2554/2554 [==============================] - 0s 97us/sample - loss: 0.0111 - acc: 0.0012 - val_loss: 0.0101 - val_acc: 0.0000e+00\n",
      "Epoch 42/200\n",
      "2554/2554 [==============================] - 0s 98us/sample - loss: 0.0110 - acc: 0.0012 - val_loss: 0.0099 - val_acc: 0.0000e+00\n",
      "Epoch 43/200\n",
      "2554/2554 [==============================] - 0s 99us/sample - loss: 0.0108 - acc: 0.0012 - val_loss: 0.0098 - val_acc: 0.0000e+00\n",
      "Epoch 44/200\n",
      "2554/2554 [==============================] - 0s 97us/sample - loss: 0.0107 - acc: 0.0012 - val_loss: 0.0097 - val_acc: 0.0000e+00\n",
      "Epoch 45/200\n",
      "2554/2554 [==============================] - 0s 103us/sample - loss: 0.0107 - acc: 0.0012 - val_loss: 0.0096 - val_acc: 0.0000e+00\n",
      "Epoch 46/200\n",
      "2554/2554 [==============================] - 0s 101us/sample - loss: 0.0106 - acc: 0.0012 - val_loss: 0.0095 - val_acc: 0.0000e+00\n",
      "Epoch 47/200\n",
      "2554/2554 [==============================] - 0s 107us/sample - loss: 0.0105 - acc: 0.0012 - val_loss: 0.0094 - val_acc: 0.0000e+00\n",
      "Epoch 48/200\n",
      "2554/2554 [==============================] - 0s 101us/sample - loss: 0.0104 - acc: 0.0012 - val_loss: 0.0093 - val_acc: 0.0000e+00\n",
      "Epoch 49/200\n",
      "2554/2554 [==============================] - 0s 99us/sample - loss: 0.0104 - acc: 0.0012 - val_loss: 0.0093 - val_acc: 0.0000e+00\n",
      "Epoch 50/200\n",
      "2554/2554 [==============================] - 0s 99us/sample - loss: 0.0103 - acc: 0.0012 - val_loss: 0.0092 - val_acc: 0.0000e+00\n",
      "Epoch 51/200\n",
      "2554/2554 [==============================] - 0s 98us/sample - loss: 0.0103 - acc: 0.0012 - val_loss: 0.0093 - val_acc: 0.0000e+00\n",
      "Epoch 52/200\n",
      "2554/2554 [==============================] - 0s 100us/sample - loss: 0.0102 - acc: 0.0012 - val_loss: 0.0092 - val_acc: 0.0000e+00\n",
      "Epoch 53/200\n",
      "2554/2554 [==============================] - 0s 99us/sample - loss: 0.0102 - acc: 0.0012 - val_loss: 0.0091 - val_acc: 0.0000e+00\n",
      "Epoch 54/200\n",
      "2554/2554 [==============================] - 0s 99us/sample - loss: 0.0102 - acc: 0.0012 - val_loss: 0.0091 - val_acc: 0.0000e+00\n",
      "Epoch 55/200\n",
      "2554/2554 [==============================] - 0s 100us/sample - loss: 0.0101 - acc: 0.0012 - val_loss: 0.0090 - val_acc: 0.0000e+00\n",
      "Epoch 56/200\n",
      "2554/2554 [==============================] - 0s 97us/sample - loss: 0.0101 - acc: 0.0012 - val_loss: 0.0090 - val_acc: 0.0000e+00\n",
      "Epoch 57/200\n",
      "2554/2554 [==============================] - 0s 103us/sample - loss: 0.0101 - acc: 0.0012 - val_loss: 0.0089 - val_acc: 0.0000e+00\n",
      "Epoch 58/200\n",
      "2554/2554 [==============================] - 0s 97us/sample - loss: 0.0101 - acc: 0.0012 - val_loss: 0.0090 - val_acc: 0.0000e+00\n",
      "Epoch 59/200\n",
      "2554/2554 [==============================] - 0s 107us/sample - loss: 0.0100 - acc: 0.0012 - val_loss: 0.0089 - val_acc: 0.0000e+00\n",
      "Epoch 60/200\n",
      "2554/2554 [==============================] - 0s 102us/sample - loss: 0.0100 - acc: 0.0012 - val_loss: 0.0089 - val_acc: 0.0000e+00\n",
      "Epoch 61/200\n",
      "2554/2554 [==============================] - 0s 102us/sample - loss: 0.0100 - acc: 0.0012 - val_loss: 0.0088 - val_acc: 0.0000e+00\n",
      "Epoch 62/200\n",
      "2554/2554 [==============================] - 0s 95us/sample - loss: 0.0100 - acc: 0.0012 - val_loss: 0.0089 - val_acc: 0.0000e+00\n",
      "Epoch 63/200\n",
      "2554/2554 [==============================] - 0s 103us/sample - loss: 0.0100 - acc: 0.0012 - val_loss: 0.0088 - val_acc: 0.0000e+00\n",
      "Epoch 64/200\n",
      "2554/2554 [==============================] - 0s 106us/sample - loss: 0.0100 - acc: 0.0012 - val_loss: 0.0088 - val_acc: 0.0000e+00\n",
      "Epoch 65/200\n",
      "2554/2554 [==============================] - 0s 103us/sample - loss: 0.0100 - acc: 0.0012 - val_loss: 0.0088 - val_acc: 0.0000e+00\n",
      "Epoch 66/200\n",
      "2554/2554 [==============================] - 0s 96us/sample - loss: 0.0100 - acc: 0.0012 - val_loss: 0.0088 - val_acc: 0.0000e+00\n",
      "Epoch 67/200\n",
      "2554/2554 [==============================] - 0s 97us/sample - loss: 0.0100 - acc: 0.0012 - val_loss: 0.0088 - val_acc: 0.0000e+00\n",
      "Epoch 68/200\n",
      "2554/2554 [==============================] - 0s 98us/sample - loss: 0.0100 - acc: 0.0012 - val_loss: 0.0087 - val_acc: 0.0000e+00\n",
      "Epoch 69/200\n",
      "2554/2554 [==============================] - 0s 98us/sample - loss: 0.0100 - acc: 0.0012 - val_loss: 0.0088 - val_acc: 0.0000e+00\n",
      "Epoch 70/200\n",
      "2554/2554 [==============================] - 0s 100us/sample - loss: 0.0100 - acc: 0.0012 - val_loss: 0.0088 - val_acc: 0.0000e+00\n",
      "Epoch 71/200\n",
      "2554/2554 [==============================] - 0s 97us/sample - loss: 0.0100 - acc: 0.0012 - val_loss: 0.0088 - val_acc: 0.0000e+00\n",
      "Epoch 72/200\n",
      "2554/2554 [==============================] - 0s 98us/sample - loss: 0.0100 - acc: 0.0012 - val_loss: 0.0087 - val_acc: 0.0000e+00\n",
      "Epoch 73/200\n",
      "2554/2554 [==============================] - 0s 105us/sample - loss: 0.0099 - acc: 0.0012 - val_loss: 0.0087 - val_acc: 0.0000e+00\n",
      "Epoch 74/200\n",
      "2554/2554 [==============================] - 0s 103us/sample - loss: 0.0099 - acc: 0.0012 - val_loss: 0.0088 - val_acc: 0.0000e+00\n",
      "Epoch 75/200\n",
      "2554/2554 [==============================] - 0s 98us/sample - loss: 0.0099 - acc: 0.0012 - val_loss: 0.0087 - val_acc: 0.0000e+00\n",
      "Epoch 76/200\n",
      "2554/2554 [==============================] - 0s 101us/sample - loss: 0.0099 - acc: 0.0012 - val_loss: 0.0087 - val_acc: 0.0000e+00\n",
      "Epoch 77/200\n",
      "2554/2554 [==============================] - 0s 98us/sample - loss: 0.0099 - acc: 0.0012 - val_loss: 0.0087 - val_acc: 0.0000e+00\n",
      "Epoch 78/200\n",
      "2554/2554 [==============================] - 0s 100us/sample - loss: 0.0099 - acc: 0.0012 - val_loss: 0.0087 - val_acc: 0.0000e+00\n",
      "Epoch 79/200\n",
      "2554/2554 [==============================] - 0s 100us/sample - loss: 0.0099 - acc: 0.0012 - val_loss: 0.0087 - val_acc: 0.0000e+00\n",
      "Epoch 80/200\n",
      "2554/2554 [==============================] - 0s 98us/sample - loss: 0.0099 - acc: 0.0012 - val_loss: 0.0087 - val_acc: 0.0000e+00\n",
      "Epoch 81/200\n",
      "2554/2554 [==============================] - 0s 101us/sample - loss: 0.0099 - acc: 0.0012 - val_loss: 0.0087 - val_acc: 0.0000e+00\n",
      "Epoch 82/200\n",
      "2554/2554 [==============================] - 0s 99us/sample - loss: 0.0099 - acc: 0.0012 - val_loss: 0.0088 - val_acc: 0.0000e+00\n",
      "Epoch 83/200\n",
      "2554/2554 [==============================] - 0s 107us/sample - loss: 0.0099 - acc: 0.0012 - val_loss: 0.0087 - val_acc: 0.0000e+00\n",
      "Epoch 84/200\n",
      "2554/2554 [==============================] - 0s 99us/sample - loss: 0.0099 - acc: 0.0012 - val_loss: 0.0088 - val_acc: 0.0000e+00\n",
      "Epoch 85/200\n",
      "2554/2554 [==============================] - 0s 105us/sample - loss: 0.0099 - acc: 0.0012 - val_loss: 0.0087 - val_acc: 0.0000e+00\n",
      "Epoch 86/200\n",
      "2554/2554 [==============================] - 0s 97us/sample - loss: 0.0099 - acc: 0.0012 - val_loss: 0.0087 - val_acc: 0.0000e+00\n",
      "Epoch 87/200\n",
      "2554/2554 [==============================] - 0s 100us/sample - loss: 0.0099 - acc: 0.0012 - val_loss: 0.0087 - val_acc: 0.0000e+00\n",
      "Epoch 88/200\n",
      "2554/2554 [==============================] - 0s 98us/sample - loss: 0.0099 - acc: 0.0012 - val_loss: 0.0087 - val_acc: 0.0000e+00\n",
      "Epoch 89/200\n",
      "2554/2554 [==============================] - 0s 98us/sample - loss: 0.0099 - acc: 0.0012 - val_loss: 0.0087 - val_acc: 0.0000e+00\n",
      "Epoch 90/200\n",
      "2554/2554 [==============================] - 0s 98us/sample - loss: 0.0099 - acc: 0.0012 - val_loss: 0.0087 - val_acc: 0.0000e+00\n",
      "Epoch 91/200\n",
      "2554/2554 [==============================] - 0s 97us/sample - loss: 0.0099 - acc: 0.0012 - val_loss: 0.0087 - val_acc: 0.0000e+00\n",
      "Epoch 92/200\n",
      "2554/2554 [==============================] - 0s 101us/sample - loss: 0.0099 - acc: 0.0012 - val_loss: 0.0087 - val_acc: 0.0000e+00\n",
      "Epoch 93/200\n",
      "2554/2554 [==============================] - 0s 97us/sample - loss: 0.0099 - acc: 0.0012 - val_loss: 0.0087 - val_acc: 0.0000e+00\n",
      "Epoch 94/200\n",
      "2554/2554 [==============================] - 0s 105us/sample - loss: 0.0099 - acc: 0.0012 - val_loss: 0.0087 - val_acc: 0.0000e+00\n",
      "Epoch 95/200\n",
      "2554/2554 [==============================] - 0s 106us/sample - loss: 0.0099 - acc: 0.0012 - val_loss: 0.0087 - val_acc: 0.0000e+00\n",
      "Epoch 96/200\n",
      "2554/2554 [==============================] - 0s 102us/sample - loss: 0.0099 - acc: 0.0012 - val_loss: 0.0087 - val_acc: 0.0000e+00\n",
      "Epoch 97/200\n",
      "2554/2554 [==============================] - 0s 101us/sample - loss: 0.0099 - acc: 0.0012 - val_loss: 0.0087 - val_acc: 0.0000e+00\n",
      "Epoch 98/200\n",
      "2554/2554 [==============================] - 0s 104us/sample - loss: 0.0099 - acc: 0.0012 - val_loss: 0.0088 - val_acc: 0.0000e+00\n",
      "Epoch 99/200\n",
      "2554/2554 [==============================] - 0s 104us/sample - loss: 0.0099 - acc: 0.0012 - val_loss: 0.0087 - val_acc: 0.0000e+00\n",
      "Epoch 100/200\n",
      "2554/2554 [==============================] - 0s 110us/sample - loss: 0.0099 - acc: 0.0012 - val_loss: 0.0087 - val_acc: 0.0000e+00\n",
      "Epoch 101/200\n",
      "2554/2554 [==============================] - 0s 110us/sample - loss: 0.0099 - acc: 0.0012 - val_loss: 0.0087 - val_acc: 0.0000e+00\n",
      "Epoch 102/200\n",
      "2554/2554 [==============================] - 0s 110us/sample - loss: 0.0099 - acc: 0.0012 - val_loss: 0.0087 - val_acc: 0.0000e+00\n",
      "Epoch 103/200\n",
      "2554/2554 [==============================] - 0s 104us/sample - loss: 0.0099 - acc: 0.0012 - val_loss: 0.0087 - val_acc: 0.0000e+00\n",
      "Epoch 104/200\n",
      "2554/2554 [==============================] - 0s 114us/sample - loss: 0.0099 - acc: 0.0012 - val_loss: 0.0087 - val_acc: 0.0000e+00\n",
      "Epoch 105/200\n",
      "2554/2554 [==============================] - 0s 108us/sample - loss: 0.0099 - acc: 0.0012 - val_loss: 0.0087 - val_acc: 0.0000e+00\n",
      "Epoch 106/200\n",
      "2554/2554 [==============================] - 0s 104us/sample - loss: 0.0099 - acc: 0.0012 - val_loss: 0.0087 - val_acc: 0.0000e+00\n",
      "Epoch 107/200\n",
      "2554/2554 [==============================] - 0s 109us/sample - loss: 0.0099 - acc: 0.0012 - val_loss: 0.0087 - val_acc: 0.0000e+00\n",
      "Epoch 108/200\n",
      "2554/2554 [==============================] - 0s 113us/sample - loss: 0.0099 - acc: 0.0012 - val_loss: 0.0087 - val_acc: 0.0000e+00\n",
      "Epoch 109/200\n",
      "2554/2554 [==============================] - 0s 109us/sample - loss: 0.0099 - acc: 0.0012 - val_loss: 0.0087 - val_acc: 0.0000e+00\n",
      "Epoch 110/200\n",
      "2554/2554 [==============================] - 0s 98us/sample - loss: 0.0099 - acc: 0.0012 - val_loss: 0.0088 - val_acc: 0.0000e+00\n",
      "Epoch 111/200\n",
      "2554/2554 [==============================] - 0s 105us/sample - loss: 0.0099 - acc: 0.0012 - val_loss: 0.0087 - val_acc: 0.0000e+00\n",
      "Epoch 112/200\n",
      "2554/2554 [==============================] - 0s 112us/sample - loss: 0.0099 - acc: 0.0012 - val_loss: 0.0087 - val_acc: 0.0000e+00\n",
      "Epoch 113/200\n",
      "2554/2554 [==============================] - 0s 107us/sample - loss: 0.0099 - acc: 0.0012 - val_loss: 0.0087 - val_acc: 0.0000e+00\n",
      "Epoch 114/200\n",
      "2554/2554 [==============================] - 0s 104us/sample - loss: 0.0099 - acc: 0.0012 - val_loss: 0.0087 - val_acc: 0.0000e+00\n",
      "Epoch 115/200\n",
      "2554/2554 [==============================] - 0s 106us/sample - loss: 0.0099 - acc: 0.0012 - val_loss: 0.0087 - val_acc: 0.0000e+00\n",
      "Epoch 116/200\n",
      "2554/2554 [==============================] - 0s 107us/sample - loss: 0.0099 - acc: 0.0012 - val_loss: 0.0087 - val_acc: 0.0000e+00\n",
      "Epoch 117/200\n",
      "2554/2554 [==============================] - 0s 101us/sample - loss: 0.0099 - acc: 0.0012 - val_loss: 0.0087 - val_acc: 0.0000e+00\n",
      "Epoch 118/200\n",
      "2554/2554 [==============================] - 0s 108us/sample - loss: 0.0099 - acc: 0.0012 - val_loss: 0.0087 - val_acc: 0.0000e+00\n",
      "Epoch 119/200\n",
      "2554/2554 [==============================] - 0s 105us/sample - loss: 0.0099 - acc: 0.0012 - val_loss: 0.0087 - val_acc: 0.0000e+00\n",
      "Epoch 120/200\n",
      "2554/2554 [==============================] - 0s 103us/sample - loss: 0.0099 - acc: 0.0012 - val_loss: 0.0087 - val_acc: 0.0000e+00\n",
      "Epoch 121/200\n",
      "2554/2554 [==============================] - 0s 107us/sample - loss: 0.0099 - acc: 0.0012 - val_loss: 0.0087 - val_acc: 0.0000e+00\n",
      "Epoch 122/200\n",
      "2554/2554 [==============================] - 0s 104us/sample - loss: 0.0099 - acc: 0.0012 - val_loss: 0.0087 - val_acc: 0.0000e+00\n",
      "Epoch 123/200\n",
      "2554/2554 [==============================] - 0s 103us/sample - loss: 0.0099 - acc: 0.0012 - val_loss: 0.0087 - val_acc: 0.0000e+00\n",
      "Epoch 124/200\n",
      "2554/2554 [==============================] - 0s 102us/sample - loss: 0.0099 - acc: 0.0012 - val_loss: 0.0087 - val_acc: 0.0000e+00\n",
      "Epoch 125/200\n",
      "2554/2554 [==============================] - 0s 103us/sample - loss: 0.0099 - acc: 0.0012 - val_loss: 0.0087 - val_acc: 0.0000e+00\n",
      "Epoch 126/200\n",
      "2554/2554 [==============================] - 0s 100us/sample - loss: 0.0099 - acc: 0.0012 - val_loss: 0.0087 - val_acc: 0.0000e+00\n",
      "Epoch 127/200\n",
      "2554/2554 [==============================] - 0s 105us/sample - loss: 0.0099 - acc: 0.0012 - val_loss: 0.0087 - val_acc: 0.0000e+00\n",
      "Epoch 128/200\n",
      "2554/2554 [==============================] - 0s 102us/sample - loss: 0.0099 - acc: 0.0012 - val_loss: 0.0087 - val_acc: 0.0000e+00\n",
      "Epoch 129/200\n",
      "2554/2554 [==============================] - 0s 102us/sample - loss: 0.0099 - acc: 0.0012 - val_loss: 0.0087 - val_acc: 0.0000e+00\n",
      "Epoch 130/200\n",
      "2554/2554 [==============================] - 0s 102us/sample - loss: 0.0099 - acc: 0.0012 - val_loss: 0.0087 - val_acc: 0.0000e+00\n",
      "Epoch 131/200\n",
      "2554/2554 [==============================] - 0s 105us/sample - loss: 0.0099 - acc: 0.0012 - val_loss: 0.0087 - val_acc: 0.0000e+00\n",
      "Epoch 132/200\n",
      "2554/2554 [==============================] - 0s 100us/sample - loss: 0.0099 - acc: 0.0012 - val_loss: 0.0087 - val_acc: 0.0000e+00\n",
      "Epoch 133/200\n",
      "2554/2554 [==============================] - 0s 104us/sample - loss: 0.0099 - acc: 0.0012 - val_loss: 0.0087 - val_acc: 0.0000e+00\n",
      "Epoch 134/200\n",
      "2554/2554 [==============================] - 0s 97us/sample - loss: 0.0099 - acc: 0.0012 - val_loss: 0.0087 - val_acc: 0.0000e+00\n",
      "Epoch 135/200\n",
      "2554/2554 [==============================] - 0s 102us/sample - loss: 0.0099 - acc: 0.0012 - val_loss: 0.0087 - val_acc: 0.0000e+00\n",
      "Epoch 136/200\n",
      "2554/2554 [==============================] - 0s 97us/sample - loss: 0.0099 - acc: 0.0012 - val_loss: 0.0087 - val_acc: 0.0000e+00\n",
      "Epoch 137/200\n",
      "2554/2554 [==============================] - 0s 102us/sample - loss: 0.0099 - acc: 0.0012 - val_loss: 0.0087 - val_acc: 0.0000e+00\n",
      "Epoch 138/200\n",
      "2554/2554 [==============================] - 0s 96us/sample - loss: 0.0099 - acc: 0.0012 - val_loss: 0.0087 - val_acc: 0.0000e+00\n",
      "Epoch 139/200\n",
      "2554/2554 [==============================] - 0s 102us/sample - loss: 0.0099 - acc: 0.0012 - val_loss: 0.0087 - val_acc: 0.0000e+00\n",
      "Epoch 140/200\n",
      "2554/2554 [==============================] - 0s 98us/sample - loss: 0.0099 - acc: 0.0012 - val_loss: 0.0087 - val_acc: 0.0000e+00\n",
      "Epoch 141/200\n",
      "2554/2554 [==============================] - 0s 104us/sample - loss: 0.0099 - acc: 0.0012 - val_loss: 0.0088 - val_acc: 0.0000e+00\n",
      "Epoch 142/200\n",
      "2554/2554 [==============================] - 0s 99us/sample - loss: 0.0099 - acc: 0.0012 - val_loss: 0.0087 - val_acc: 0.0000e+00\n",
      "Epoch 143/200\n",
      "2554/2554 [==============================] - 0s 109us/sample - loss: 0.0099 - acc: 0.0012 - val_loss: 0.0087 - val_acc: 0.0000e+00\n",
      "Epoch 144/200\n",
      "2554/2554 [==============================] - 0s 103us/sample - loss: 0.0099 - acc: 0.0012 - val_loss: 0.0087 - val_acc: 0.0000e+00\n",
      "Epoch 145/200\n",
      "2554/2554 [==============================] - 0s 100us/sample - loss: 0.0099 - acc: 0.0012 - val_loss: 0.0087 - val_acc: 0.0000e+00\n",
      "Epoch 146/200\n",
      "2554/2554 [==============================] - 0s 97us/sample - loss: 0.0099 - acc: 0.0012 - val_loss: 0.0087 - val_acc: 0.0000e+00\n",
      "Epoch 147/200\n",
      "2554/2554 [==============================] - 0s 96us/sample - loss: 0.0099 - acc: 0.0012 - val_loss: 0.0087 - val_acc: 0.0000e+00\n",
      "Epoch 148/200\n",
      "2554/2554 [==============================] - 0s 98us/sample - loss: 0.0099 - acc: 0.0012 - val_loss: 0.0087 - val_acc: 0.0000e+00\n",
      "Epoch 149/200\n",
      "2554/2554 [==============================] - 0s 96us/sample - loss: 0.0099 - acc: 0.0012 - val_loss: 0.0087 - val_acc: 0.0000e+00\n",
      "Epoch 150/200\n",
      "2554/2554 [==============================] - 0s 98us/sample - loss: 0.0099 - acc: 0.0012 - val_loss: 0.0087 - val_acc: 0.0000e+00\n",
      "Epoch 151/200\n",
      "2554/2554 [==============================] - 0s 98us/sample - loss: 0.0099 - acc: 0.0012 - val_loss: 0.0087 - val_acc: 0.0000e+00\n",
      "Epoch 152/200\n",
      "2554/2554 [==============================] - 0s 96us/sample - loss: 0.0099 - acc: 0.0012 - val_loss: 0.0087 - val_acc: 0.0000e+00\n",
      "Epoch 153/200\n",
      "2554/2554 [==============================] - 0s 98us/sample - loss: 0.0099 - acc: 0.0012 - val_loss: 0.0087 - val_acc: 0.0000e+00\n",
      "Epoch 154/200\n",
      "2554/2554 [==============================] - 0s 96us/sample - loss: 0.0099 - acc: 0.0012 - val_loss: 0.0087 - val_acc: 0.0000e+00\n",
      "Epoch 155/200\n",
      "2554/2554 [==============================] - 0s 106us/sample - loss: 0.0099 - acc: 0.0012 - val_loss: 0.0087 - val_acc: 0.0000e+00\n",
      "Epoch 156/200\n",
      "2554/2554 [==============================] - 0s 98us/sample - loss: 0.0099 - acc: 0.0012 - val_loss: 0.0087 - val_acc: 0.0000e+00\n",
      "Epoch 157/200\n",
      "2554/2554 [==============================] - 0s 99us/sample - loss: 0.0099 - acc: 0.0012 - val_loss: 0.0087 - val_acc: 0.0000e+00\n",
      "Epoch 158/200\n",
      "2554/2554 [==============================] - 0s 107us/sample - loss: 0.0099 - acc: 0.0012 - val_loss: 0.0087 - val_acc: 0.0000e+00\n",
      "Epoch 159/200\n",
      "2554/2554 [==============================] - 0s 96us/sample - loss: 0.0099 - acc: 0.0012 - val_loss: 0.0087 - val_acc: 0.0000e+00\n",
      "Epoch 160/200\n",
      "2554/2554 [==============================] - 0s 96us/sample - loss: 0.0099 - acc: 0.0012 - val_loss: 0.0087 - val_acc: 0.0000e+00\n",
      "Epoch 161/200\n",
      "2554/2554 [==============================] - 0s 98us/sample - loss: 0.0099 - acc: 0.0012 - val_loss: 0.0087 - val_acc: 0.0000e+00\n",
      "Epoch 162/200\n",
      "2554/2554 [==============================] - 0s 105us/sample - loss: 0.0099 - acc: 0.0012 - val_loss: 0.0087 - val_acc: 0.0000e+00\n",
      "Epoch 163/200\n",
      "2554/2554 [==============================] - 0s 97us/sample - loss: 0.0099 - acc: 0.0012 - val_loss: 0.0087 - val_acc: 0.0000e+00\n",
      "Epoch 164/200\n",
      "2554/2554 [==============================] - 0s 99us/sample - loss: 0.0099 - acc: 0.0012 - val_loss: 0.0087 - val_acc: 0.0000e+00\n",
      "Epoch 165/200\n",
      "2554/2554 [==============================] - 0s 103us/sample - loss: 0.0099 - acc: 0.0012 - val_loss: 0.0087 - val_acc: 0.0000e+00\n",
      "Epoch 166/200\n",
      "2554/2554 [==============================] - 0s 101us/sample - loss: 0.0099 - acc: 0.0012 - val_loss: 0.0087 - val_acc: 0.0000e+00\n",
      "Epoch 167/200\n",
      "2554/2554 [==============================] - 0s 100us/sample - loss: 0.0099 - acc: 0.0012 - val_loss: 0.0087 - val_acc: 0.0000e+00\n",
      "Epoch 168/200\n",
      "2554/2554 [==============================] - 0s 99us/sample - loss: 0.0099 - acc: 0.0012 - val_loss: 0.0088 - val_acc: 0.0000e+00\n",
      "Epoch 169/200\n",
      "2554/2554 [==============================] - 0s 105us/sample - loss: 0.0099 - acc: 0.0012 - val_loss: 0.0087 - val_acc: 0.0000e+00\n",
      "Epoch 170/200\n",
      "2554/2554 [==============================] - 0s 101us/sample - loss: 0.0099 - acc: 0.0012 - val_loss: 0.0087 - val_acc: 0.0000e+00\n",
      "Epoch 171/200\n",
      "2554/2554 [==============================] - 0s 95us/sample - loss: 0.0099 - acc: 0.0012 - val_loss: 0.0087 - val_acc: 0.0000e+00\n",
      "Epoch 172/200\n",
      "2554/2554 [==============================] - 0s 97us/sample - loss: 0.0099 - acc: 0.0012 - val_loss: 0.0087 - val_acc: 0.0000e+00\n",
      "Epoch 173/200\n",
      "2554/2554 [==============================] - 0s 100us/sample - loss: 0.0099 - acc: 0.0012 - val_loss: 0.0088 - val_acc: 0.0000e+00\n",
      "Epoch 174/200\n",
      "2554/2554 [==============================] - 0s 96us/sample - loss: 0.0099 - acc: 0.0012 - val_loss: 0.0087 - val_acc: 0.0000e+00\n",
      "Epoch 175/200\n",
      "2554/2554 [==============================] - 0s 100us/sample - loss: 0.0099 - acc: 0.0012 - val_loss: 0.0087 - val_acc: 0.0000e+00\n",
      "Epoch 176/200\n",
      "2554/2554 [==============================] - 0s 98us/sample - loss: 0.0099 - acc: 0.0012 - val_loss: 0.0087 - val_acc: 0.0000e+00\n",
      "Epoch 177/200\n",
      "2554/2554 [==============================] - 0s 98us/sample - loss: 0.0099 - acc: 0.0012 - val_loss: 0.0087 - val_acc: 0.0000e+00\n",
      "Epoch 178/200\n",
      "2554/2554 [==============================] - 0s 98us/sample - loss: 0.0099 - acc: 0.0012 - val_loss: 0.0087 - val_acc: 0.0000e+00\n",
      "Epoch 179/200\n",
      "2554/2554 [==============================] - 0s 106us/sample - loss: 0.0099 - acc: 0.0012 - val_loss: 0.0087 - val_acc: 0.0000e+00\n",
      "Epoch 180/200\n",
      "2554/2554 [==============================] - 0s 97us/sample - loss: 0.0099 - acc: 0.0012 - val_loss: 0.0087 - val_acc: 0.0000e+00\n",
      "Epoch 181/200\n",
      "2554/2554 [==============================] - 0s 103us/sample - loss: 0.0099 - acc: 0.0012 - val_loss: 0.0087 - val_acc: 0.0000e+00\n",
      "Epoch 182/200\n",
      "2554/2554 [==============================] - 0s 101us/sample - loss: 0.0099 - acc: 0.0012 - val_loss: 0.0087 - val_acc: 0.0000e+00\n",
      "Epoch 183/200\n",
      "2554/2554 [==============================] - 0s 104us/sample - loss: 0.0099 - acc: 0.0012 - val_loss: 0.0087 - val_acc: 0.0000e+00\n",
      "Epoch 184/200\n",
      "2554/2554 [==============================] - 0s 99us/sample - loss: 0.0099 - acc: 0.0012 - val_loss: 0.0087 - val_acc: 0.0000e+00\n",
      "Epoch 185/200\n",
      "2554/2554 [==============================] - 0s 96us/sample - loss: 0.0099 - acc: 0.0012 - val_loss: 0.0087 - val_acc: 0.0000e+00\n",
      "Epoch 186/200\n",
      "2554/2554 [==============================] - 0s 103us/sample - loss: 0.0099 - acc: 0.0012 - val_loss: 0.0087 - val_acc: 0.0000e+00\n",
      "Epoch 187/200\n",
      "2554/2554 [==============================] - 0s 98us/sample - loss: 0.0099 - acc: 0.0012 - val_loss: 0.0087 - val_acc: 0.0000e+00\n",
      "Epoch 188/200\n",
      "2554/2554 [==============================] - 0s 96us/sample - loss: 0.0099 - acc: 0.0012 - val_loss: 0.0087 - val_acc: 0.0000e+00\n",
      "Epoch 189/200\n",
      "2554/2554 [==============================] - 0s 102us/sample - loss: 0.0099 - acc: 0.0012 - val_loss: 0.0087 - val_acc: 0.0000e+00\n",
      "Epoch 190/200\n",
      "2554/2554 [==============================] - 0s 98us/sample - loss: 0.0099 - acc: 0.0012 - val_loss: 0.0087 - val_acc: 0.0000e+00\n",
      "Epoch 191/200\n",
      "2554/2554 [==============================] - 0s 100us/sample - loss: 0.0099 - acc: 0.0012 - val_loss: 0.0087 - val_acc: 0.0000e+00\n",
      "Epoch 192/200\n",
      "2554/2554 [==============================] - 0s 99us/sample - loss: 0.0099 - acc: 0.0012 - val_loss: 0.0087 - val_acc: 0.0000e+00\n",
      "Epoch 193/200\n",
      "2554/2554 [==============================] - 0s 100us/sample - loss: 0.0099 - acc: 0.0012 - val_loss: 0.0087 - val_acc: 0.0000e+00\n",
      "Epoch 194/200\n",
      "2554/2554 [==============================] - 0s 100us/sample - loss: 0.0099 - acc: 0.0012 - val_loss: 0.0087 - val_acc: 0.0000e+00\n",
      "Epoch 195/200\n",
      "2554/2554 [==============================] - 0s 98us/sample - loss: 0.0099 - acc: 0.0012 - val_loss: 0.0087 - val_acc: 0.0000e+00\n",
      "Epoch 196/200\n",
      "2554/2554 [==============================] - 0s 107us/sample - loss: 0.0099 - acc: 0.0012 - val_loss: 0.0087 - val_acc: 0.0000e+00\n",
      "Epoch 197/200\n",
      "2554/2554 [==============================] - 0s 97us/sample - loss: 0.0099 - acc: 0.0012 - val_loss: 0.0087 - val_acc: 0.0000e+00\n",
      "Epoch 198/200\n",
      "2554/2554 [==============================] - 0s 100us/sample - loss: 0.0099 - acc: 0.0012 - val_loss: 0.0087 - val_acc: 0.0000e+00\n",
      "Epoch 199/200\n",
      "2554/2554 [==============================] - 0s 94us/sample - loss: 0.0099 - acc: 0.0012 - val_loss: 0.0087 - val_acc: 0.0000e+00\n",
      "Epoch 200/200\n",
      "2554/2554 [==============================] - 0s 98us/sample - loss: 0.0099 - acc: 0.0012 - val_loss: 0.0087 - val_acc: 0.0000e+00\n"
     ]
    },
    {
     "data": {
      "text/plain": [
       "<tensorflow.python.keras.callbacks.History at 0x7f66a9ef9f28>"
      ]
     },
     "execution_count": 37,
     "metadata": {
      "tags": []
     },
     "output_type": "execute_result"
    }
   ],
   "source": [
    "model.fit(X_train, y_train, epochs=200, validation_data=(X_test, y_test), batch_size=32)"
   ]
  },
  {
   "cell_type": "markdown",
   "metadata": {
    "colab_type": "text",
    "id": "LFqkj16QBz2g"
   },
   "source": [
    "## Make Predictions and Evaluate your model"
   ]
  },
  {
   "cell_type": "code",
   "execution_count": 0,
   "metadata": {
    "colab": {},
    "colab_type": "code",
    "id": "85Ip5wrq7Jyi"
   },
   "outputs": [],
   "source": [
    "#Get prediction for both Training and Test Data\n",
    "trainPredict = model.predict(X_train)\n",
    "testPredict = model.predict(X_test)"
   ]
  },
  {
   "cell_type": "code",
   "execution_count": 0,
   "metadata": {
    "colab": {},
    "colab_type": "code",
    "id": "fwvhIG6POMTg"
   },
   "outputs": [],
   "source": [
    "#Un-normalize the predited data\n",
    "trainPredict = scaler.inverse_transform(trainPredict)\n",
    "testPredict = scaler.inverse_transform(testPredict)"
   ]
  },
  {
   "cell_type": "markdown",
   "metadata": {
    "colab_type": "text",
    "id": "ZUOw1YyqBz2j"
   },
   "source": [
    "## Plot the results"
   ]
  },
  {
   "cell_type": "code",
   "execution_count": 34,
   "metadata": {
    "colab": {
     "base_uri": "https://localhost:8080/",
     "height": 612
    },
    "colab_type": "code",
    "id": "FHbIWp-D7Jyn",
    "outputId": "ec36ec29-d84f-4b51-8fe5-6f2b47d0f007"
   },
   "outputs": [
    {
     "data": {
      "image/png": "[encoded data removed]",
      "text/plain": [
       "<Figure size 1440x720 with 1 Axes>"
      ]
     },
     "metadata": {
      "tags": []
     },
     "output_type": "display_data"
    }
   ],
   "source": [
    "trainPredictPlot = np.empty_like(scaled)\n",
    "trainPredictPlot[:, :] = np.nan\n",
    "trainPredictPlot[1:len(trainPredict)+1, :] = trainPredict\n",
    "\n",
    "# shift test predictions for plotting\n",
    "testPredictPlot = np.empty_like(scaled)\n",
    "testPredictPlot[:, :] = np.nan\n",
    "testPredictPlot[len(trainPredict)+(1*2):len(scaled), :] = testPredict\n",
    "\n",
    "# plot baseline and predictions\n",
    "plt.figure(figsize=(20,10))\n",
    "plt.plot(scaler.inverse_transform(scaled))\n",
    "plt.plot(trainPredictPlot)\n",
    "plt.plot(testPredictPlot)\n",
    "plt.show()"
   ]
  }
 ],
 "metadata": {
  "colab": {
   "collapsed_sections": [],
   "name": "download.ipynb",
   "provenance": [],
   "toc_visible": true
  },
  "kernelspec": {
   "display_name": "Python 3",
   "language": "python",
   "name": "python3"
  },
  "language_info": {
   "codemirror_mode": {
    "name": "ipython",
    "version": 3
   },
   "file_extension": ".py",
   "mimetype": "text/x-python",
   "name": "python",
   "nbconvert_exporter": "python",
   "pygments_lexer": "ipython3",
   "version": "3.7.6"
  }
 },
 "nbformat": 4,
 "nbformat_minor": 1
}
