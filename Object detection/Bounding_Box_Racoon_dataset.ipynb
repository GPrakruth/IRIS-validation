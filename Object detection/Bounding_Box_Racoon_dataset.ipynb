{
 "cells": [
  {
   "cell_type": "markdown",
   "metadata": {
    "colab_type": "text",
    "id": "I-P5m4iA_xe7"
   },
   "source": [
    "# Bounding box detection - Racoon data\n",
    "\n",
    "\n",
    "## Data files\n",
    "- images_racoon.rar: contain images of racoons\n",
    "- train_labels.cv: contains coordinates for bounding box for every image"
   ]
  },
  {
   "cell_type": "markdown",
   "metadata": {
    "colab_type": "text",
    "id": "d8M5gzwKWGiU"
   },
   "source": [
    "### Import the necessary libraries"
   ]
  },
  {
   "cell_type": "code",
   "execution_count": 1,
   "metadata": {
    "colab": {
     "base_uri": "https://localhost:8080/",
     "height": 121
    },
    "colab_type": "code",
    "id": "VOMKpZJcWGiV",
    "outputId": "e30b0d5f-5c40-4f0e-f859-900d7e036ec9"
   },
   "outputs": [
    {
     "name": "stdout",
     "output_type": "stream",
     "text": [
      "Cloning into 'models'...\n",
      "remote: Enumerating objects: 33643, done.\u001b[K\n",
      "remote: Total 33643 (delta 0), reused 0 (delta 0), pack-reused 33643\u001b[K\n",
      "Receiving objects: 100% (33643/33643), 512.07 MiB | 33.44 MiB/s, done.\n",
      "Resolving deltas: 100% (21525/21525), done.\n",
      "Checking out files: 100% (3194/3194), done.\n"
     ]
    }
   ],
   "source": [
    "!git clone https://github.com/tensorflow/models"
   ]
  },
  {
   "cell_type": "code",
   "execution_count": 2,
   "metadata": {
    "colab": {
     "base_uri": "https://localhost:8080/",
     "height": 1000
    },
    "colab_type": "code",
    "id": "ulKdMd9N5fRo",
    "outputId": "5614aa64-4223-45b3-ff76-2118069df20c"
   },
   "outputs": [
    {
     "name": "stdout",
     "output_type": "stream",
     "text": [
      "total 280\n",
      "drwxr-xr-x  2 root root 4096 Jan 12 04:00 a3c_blogpost\n",
      "drwxr-xr-x  2 root root 4096 Jan 12 04:00 adversarial_crypto\n",
      "drwxr-xr-x  4 root root 4096 Jan 12 04:00 adversarial_logit_pairing\n",
      "drwxr-xr-x  3 root root 4096 Jan 12 04:00 adversarial_text\n",
      "drwxr-xr-x  2 root root 4096 Jan 12 04:00 adv_imagenet_models\n",
      "drwxr-xr-x  2 root root 4096 Jan 12 04:00 astronet\n",
      "drwxr-xr-x  3 root root 4096 Jan 12 04:00 attention_ocr\n",
      "drwxr-xr-x  4 root root 4096 Jan 12 04:00 audioset\n",
      "drwxr-xr-x  2 root root 4096 Jan 12 04:00 autoaugment\n",
      "drwxr-xr-x  3 root root 4096 Jan 12 04:00 autoencoder\n",
      "drwxr-xr-x  4 root root 4096 Jan 12 04:00 brain_coder\n",
      "drwxr-xr-x 11 root root 4096 Jan 12 04:00 cognitive_mapping_and_planning\n",
      "drwxr-xr-x  4 root root 4096 Jan 12 04:00 cognitive_planning\n",
      "drwxr-xr-x  4 root root 4096 Jan 12 04:00 compression\n",
      "drwxr-xr-x  7 root root 4096 Jan 12 04:00 cvt_text\n",
      "drwxr-xr-x  3 root root 4096 Jan 12 04:00 deep_contextual_bandits\n",
      "drwxr-xr-x  9 root root 4096 Jan 12 04:00 deeplab\n",
      "drwxr-xr-x  3 root root 4096 Jan 12 04:00 deep_speech\n",
      "drwxr-xr-x  3 root root 4096 Jan 12 04:00 delf\n",
      "drwxr-xr-x  2 root root 4096 Jan 12 04:00 differential_privacy\n",
      "drwxr-xr-x  5 root root 4096 Jan 12 04:00 domain_adaptation\n",
      "drwxr-xr-x  8 root root 4096 Jan 12 04:00 efficient-hrl\n",
      "drwxr-xr-x  5 root root 4096 Jan 12 04:00 feelvos\n",
      "drwxr-xr-x  5 root root 4096 Jan 12 04:00 fivo\n",
      "drwxr-xr-x 12 root root 4096 Jan 12 04:00 gan\n",
      "drwxr-xr-x  2 root root 4096 Jan 12 04:00 global_objectives\n",
      "drwxr-xr-x  5 root root 4096 Jan 12 04:00 im2txt\n",
      "drwxr-xr-x  4 root root 4096 Jan 12 04:00 inception\n",
      "drwxr-xr-x  3 root root 4096 Jan 12 04:00 keypointnet\n",
      "drwxr-xr-x  4 root root 4096 Jan 12 04:00 learned_optimizer\n",
      "drwxr-xr-x  2 root root 4096 Jan 12 04:00 learning_to_remember_rare_events\n",
      "drwxr-xr-x  5 root root 4096 Jan 12 04:00 learning_unsupervised_learning\n",
      "drwxr-xr-x  2 root root 4096 Jan 12 04:00 lexnet_nc\n",
      "drwxr-xr-x  3 root root 4096 Jan 12 04:00 lfads\n",
      "drwxr-xr-x  2 root root 4096 Jan 12 04:00 lm_1b\n",
      "drwxr-xr-x  2 root root 4096 Jan 12 04:00 lm_commonsense\n",
      "drwxr-xr-x 13 root root 4096 Jan 12 04:00 lstm_object_detection\n",
      "drwxr-xr-x  2 root root 4096 Jan 12 04:00 marco\n",
      "drwxr-xr-x  8 root root 4096 Jan 12 04:00 maskgan\n",
      "drwxr-xr-x  7 root root 4096 Jan 12 04:00 morph_net\n",
      "drwxr-xr-x  2 root root 4096 Jan 12 04:00 namignizer\n",
      "drwxr-xr-x  2 root root 4096 Jan 12 04:00 neural_gpu\n",
      "drwxr-xr-x  2 root root 4096 Jan 12 04:00 neural_programmer\n",
      "drwxr-xr-x  4 root root 4096 Jan 12 04:00 next_frame_prediction\n",
      "drwxr-xr-x  2 root root 4096 Jan 12 04:00 nst_blogpost\n",
      "drwxr-xr-x 25 root root 4096 Jan 12 04:00 object_detection\n",
      "drwxr-xr-x  2 root root 4096 Jan 12 04:00 pcl_rl\n",
      "drwxr-xr-x  3 root root 4096 Jan 12 04:00 ptn\n",
      "drwxr-xr-x  5 root root 4096 Jan 12 04:00 qa_kg\n",
      "-rw-r--r--  1 root root 5008 Jan 12 04:00 README.md\n",
      "drwxr-xr-x  2 root root 4096 Jan 12 04:00 real_nvp\n",
      "drwxr-xr-x  2 root root 4096 Jan 12 04:00 rebar\n",
      "drwxr-xr-x  3 root root 4096 Jan 12 04:00 resnet\n",
      "drwxr-xr-x  3 root root 4096 Jan 12 04:00 sentiment_analysis\n",
      "drwxr-xr-x  3 root root 4096 Jan 12 04:00 seq2species\n",
      "-rw-r--r--  1 root root  446 Jan 12 04:00 setup.py\n",
      "drwxr-xr-x  3 root root 4096 Jan 12 04:00 skip_thoughts\n",
      "drwxr-xr-x  7 root root 4096 Jan 12 04:00 slim\n",
      "drwxr-xr-x  3 root root 4096 Jan 12 04:00 steve\n",
      "drwxr-xr-x  6 root root 4096 Jan 12 04:00 street\n",
      "drwxr-xr-x  2 root root 4096 Jan 12 04:00 struct2depth\n",
      "drwxr-xr-x  2 root root 4096 Jan 12 04:00 swivel\n",
      "drwxr-xr-x 11 root root 4096 Jan 12 04:00 syntaxnet\n",
      "drwxr-xr-x  7 root root 4096 Jan 12 04:00 tcn\n",
      "drwxr-xr-x  2 root root 4096 Jan 12 04:00 tensorrt\n",
      "drwxr-xr-x  3 root root 4096 Jan 12 04:00 textsum\n",
      "drwxr-xr-x  3 root root 4096 Jan 12 04:00 transformer\n",
      "drwxr-xr-x  5 root root 4096 Jan 12 04:00 vid2depth\n",
      "drwxr-xr-x  2 root root 4096 Jan 12 04:00 video_prediction\n"
     ]
    }
   ],
   "source": [
    "#Multiple folders including object_detection should exist in models/research folder\n",
    "!ls -l models/research/"
   ]
  },
  {
   "cell_type": "code",
   "execution_count": 3,
   "metadata": {
    "colab": {
     "base_uri": "https://localhost:8080/",
     "height": 674
    },
    "colab_type": "code",
    "id": "Zlx5Wjuf5fOu",
    "outputId": "c2ea67a0-6c60-4075-ba0d-59694dd2be58"
   },
   "outputs": [
    {
     "name": "stdout",
     "output_type": "stream",
     "text": [
      "Selecting previously unselected package python-bs4.\n",
      "(Reading database ... 135004 files and directories currently installed.)\n",
      "Preparing to unpack .../0-python-bs4_4.6.0-1_all.deb ...\n",
      "Unpacking python-bs4 (4.6.0-1) ...\n",
      "Selecting previously unselected package python-pkg-resources.\n",
      "Preparing to unpack .../1-python-pkg-resources_39.0.1-2_all.deb ...\n",
      "Unpacking python-pkg-resources (39.0.1-2) ...\n",
      "Selecting previously unselected package python-chardet.\n",
      "Preparing to unpack .../2-python-chardet_3.0.4-1_all.deb ...\n",
      "Unpacking python-chardet (3.0.4-1) ...\n",
      "Selecting previously unselected package python-six.\n",
      "Preparing to unpack .../3-python-six_1.11.0-2_all.deb ...\n",
      "Unpacking python-six (1.11.0-2) ...\n",
      "Selecting previously unselected package python-webencodings.\n",
      "Preparing to unpack .../4-python-webencodings_0.5-2_all.deb ...\n",
      "Unpacking python-webencodings (0.5-2) ...\n",
      "Selecting previously unselected package python-html5lib.\n",
      "Preparing to unpack .../5-python-html5lib_0.999999999-1_all.deb ...\n",
      "Unpacking python-html5lib (0.999999999-1) ...\n",
      "Selecting previously unselected package python-lxml:amd64.\n",
      "Preparing to unpack .../6-python-lxml_4.2.1-1ubuntu0.1_amd64.deb ...\n",
      "Unpacking python-lxml:amd64 (4.2.1-1ubuntu0.1) ...\n",
      "Selecting previously unselected package python-olefile.\n",
      "Preparing to unpack .../7-python-olefile_0.45.1-1_all.deb ...\n",
      "Unpacking python-olefile (0.45.1-1) ...\n",
      "Selecting previously unselected package python-pil:amd64.\n",
      "Preparing to unpack .../8-python-pil_5.1.0-1_amd64.deb ...\n",
      "Unpacking python-pil:amd64 (5.1.0-1) ...\n",
      "Setting up python-pkg-resources (39.0.1-2) ...\n",
      "Setting up python-six (1.11.0-2) ...\n",
      "Setting up python-bs4 (4.6.0-1) ...\n",
      "Setting up python-lxml:amd64 (4.2.1-1ubuntu0.1) ...\n",
      "Setting up python-olefile (0.45.1-1) ...\n",
      "Setting up python-pil:amd64 (5.1.0-1) ...\n",
      "Setting up python-webencodings (0.5-2) ...\n",
      "Setting up python-chardet (3.0.4-1) ...\n",
      "Setting up python-html5lib (0.999999999-1) ...\n",
      "Processing triggers for man-db (2.8.3-2ubuntu0.1) ...\n"
     ]
    }
   ],
   "source": [
    "!apt-get -qq install protobuf-compiler python-pil python-lxml python-tk\n",
    "!pip install --user Cython  --quiet\n",
    "!pip install --user contextlib2 --quiet\n",
    "!pip install --user jupyter --quiet\n",
    "!pip install --user matplotlib --quiet"
   ]
  },
  {
   "cell_type": "code",
   "execution_count": 4,
   "metadata": {
    "colab": {
     "base_uri": "https://localhost:8080/",
     "height": 34
    },
    "colab_type": "code",
    "id": "V8YHF8Nu5fGO",
    "outputId": "a56d6966-f57c-4418-e771-91e8a47c665d"
   },
   "outputs": [
    {
     "name": "stdout",
     "output_type": "stream",
     "text": [
      "/content/models/research\n"
     ]
    }
   ],
   "source": [
    "#Move to models/research folder\n",
    "%cd models/research\n",
    "\n",
    "#Convert protobuf files to Python code using Protobuf compiler installed in previous step\n",
    "!protoc object_detection/protos/*.proto --python_out=."
   ]
  },
  {
   "cell_type": "code",
   "execution_count": 5,
   "metadata": {
    "colab": {
     "base_uri": "https://localhost:8080/",
     "height": 34
    },
    "colab_type": "code",
    "id": "kqIRn4Cj5laM",
    "outputId": "2d49b940-53ed-47b9-a9e2-c3af390b3eb2"
   },
   "outputs": [
    {
     "name": "stdout",
     "output_type": "stream",
     "text": [
      "env: PYTHONPATH=$PYTHONPATH:/content/models/research:/content/models/research/slim\n"
     ]
    }
   ],
   "source": [
    "#Change path to models/research and models/research/slim folders based on where you have cloned github repository above\n",
    "%set_env PYTHONPATH=$PYTHONPATH:/content/models/research:/content/models/research/slim"
   ]
  },
  {
   "cell_type": "code",
   "execution_count": 6,
   "metadata": {
    "colab": {
     "base_uri": "https://localhost:8080/",
     "height": 918
    },
    "colab_type": "code",
    "id": "mGbEZJnK5lSJ",
    "outputId": "f82af0bf-1bfc-4610-cf83-e9b66f3e8478"
   },
   "outputs": [
    {
     "name": "stdout",
     "output_type": "stream",
     "text": [
      "WARNING:tensorflow:\n",
      "The TensorFlow contrib module will not be included in TensorFlow 2.0.\n",
      "For more information, please see:\n",
      "  * https://github.com/tensorflow/community/blob/master/rfcs/20180907-contrib-sunset.md\n",
      "  * https://github.com/tensorflow/addons\n",
      "  * https://github.com/tensorflow/io (for I/O related ops)\n",
      "If you depend on functionality not listed there, please file an issue.\n",
      "\n",
      "WARNING:tensorflow:From /content/models/research/slim/nets/inception_resnet_v2.py:374: The name tf.GraphKeys is deprecated. Please use tf.compat.v1.GraphKeys instead.\n",
      "\n",
      "WARNING:tensorflow:From /content/models/research/slim/nets/mobilenet/mobilenet.py:397: The name tf.nn.avg_pool is deprecated. Please use tf.nn.avg_pool2d instead.\n",
      "\n",
      "Running tests under Python 3.6.9: /usr/bin/python3\n",
      "[ RUN      ] ModelBuilderTest.test_create_experimental_model\n",
      "[       OK ] ModelBuilderTest.test_create_experimental_model\n",
      "[ RUN      ] ModelBuilderTest.test_create_faster_rcnn_model_from_config_with_example_miner\n",
      "[       OK ] ModelBuilderTest.test_create_faster_rcnn_model_from_config_with_example_miner\n",
      "[ RUN      ] ModelBuilderTest.test_create_faster_rcnn_models_from_config_faster_rcnn_with_matmul\n",
      "[       OK ] ModelBuilderTest.test_create_faster_rcnn_models_from_config_faster_rcnn_with_matmul\n",
      "[ RUN      ] ModelBuilderTest.test_create_faster_rcnn_models_from_config_faster_rcnn_without_matmul\n",
      "[       OK ] ModelBuilderTest.test_create_faster_rcnn_models_from_config_faster_rcnn_without_matmul\n",
      "[ RUN      ] ModelBuilderTest.test_create_faster_rcnn_models_from_config_mask_rcnn_with_matmul\n",
      "[       OK ] ModelBuilderTest.test_create_faster_rcnn_models_from_config_mask_rcnn_with_matmul\n",
      "[ RUN      ] ModelBuilderTest.test_create_faster_rcnn_models_from_config_mask_rcnn_without_matmul\n",
      "[       OK ] ModelBuilderTest.test_create_faster_rcnn_models_from_config_mask_rcnn_without_matmul\n",
      "[ RUN      ] ModelBuilderTest.test_create_rfcn_model_from_config\n",
      "[       OK ] ModelBuilderTest.test_create_rfcn_model_from_config\n",
      "[ RUN      ] ModelBuilderTest.test_create_ssd_fpn_model_from_config\n",
      "[       OK ] ModelBuilderTest.test_create_ssd_fpn_model_from_config\n",
      "[ RUN      ] ModelBuilderTest.test_create_ssd_models_from_config\n",
      "[       OK ] ModelBuilderTest.test_create_ssd_models_from_config\n",
      "[ RUN      ] ModelBuilderTest.test_invalid_faster_rcnn_batchnorm_update\n",
      "[       OK ] ModelBuilderTest.test_invalid_faster_rcnn_batchnorm_update\n",
      "[ RUN      ] ModelBuilderTest.test_invalid_first_stage_nms_iou_threshold\n",
      "[       OK ] ModelBuilderTest.test_invalid_first_stage_nms_iou_threshold\n",
      "[ RUN      ] ModelBuilderTest.test_invalid_model_config_proto\n",
      "[       OK ] ModelBuilderTest.test_invalid_model_config_proto\n",
      "[ RUN      ] ModelBuilderTest.test_invalid_second_stage_batch_size\n",
      "[       OK ] ModelBuilderTest.test_invalid_second_stage_batch_size\n",
      "[ RUN      ] ModelBuilderTest.test_session\n",
      "[  SKIPPED ] ModelBuilderTest.test_session\n",
      "[ RUN      ] ModelBuilderTest.test_unknown_faster_rcnn_feature_extractor\n",
      "[       OK ] ModelBuilderTest.test_unknown_faster_rcnn_feature_extractor\n",
      "[ RUN      ] ModelBuilderTest.test_unknown_meta_architecture\n",
      "[       OK ] ModelBuilderTest.test_unknown_meta_architecture\n",
      "[ RUN      ] ModelBuilderTest.test_unknown_ssd_feature_extractor\n",
      "[       OK ] ModelBuilderTest.test_unknown_ssd_feature_extractor\n",
      "----------------------------------------------------------------------\n",
      "Ran 17 tests in 0.252s\n",
      "\n",
      "OK (skipped=1)\n"
     ]
    }
   ],
   "source": [
    "#To be run from models/research folder\n",
    "!python object_detection/builders/model_builder_test.py"
   ]
  },
  {
   "cell_type": "markdown",
   "metadata": {
    "colab_type": "text",
    "id": "Z_INIZOi_tUW"
   },
   "source": [
    "### Change directory"
   ]
  },
  {
   "cell_type": "code",
   "execution_count": 7,
   "metadata": {
    "colab": {
     "base_uri": "https://localhost:8080/",
     "height": 34
    },
    "colab_type": "code",
    "id": "Sxgw3GT1AR9Y",
    "outputId": "c63d96b8-94c0-449f-fff0-d9545ba34077"
   },
   "outputs": [
    {
     "name": "stdout",
     "output_type": "stream",
     "text": [
      "/content\n"
     ]
    }
   ],
   "source": [
    "#Come to the home directory\n",
    "%cd /content"
   ]
  },
  {
   "cell_type": "code",
   "execution_count": 9,
   "metadata": {
    "colab": {
     "base_uri": "https://localhost:8080/",
     "height": 34
    },
    "colab_type": "code",
    "id": "4ADSzcqE5sy8",
    "outputId": "f486c6df-2688-4dc5-b5f5-0e44586d8328"
   },
   "outputs": [
    {
     "name": "stdout",
     "output_type": "stream",
     "text": [
      "/content/racoon\n"
     ]
    }
   ],
   "source": [
    "#Create a folder for your project e.g in this case, pascal voc. You can choose any name for the folder \n",
    "!mkdir racoon\n",
    "\n",
    "#Go to the project folder\n",
    "\n",
    "%cd racoon"
   ]
  },
  {
   "cell_type": "markdown",
   "metadata": {
    "colab_type": "text",
    "id": "lwxBtvYRWGii"
   },
   "source": [
    "### Load the training data from train.csv file"
   ]
  },
  {
   "cell_type": "code",
   "execution_count": 0,
   "metadata": {
    "colab": {},
    "colab_type": "code",
    "id": "wiTjjKtpWGij"
   },
   "outputs": [],
   "source": []
  },
  {
   "cell_type": "code",
   "execution_count": 8,
   "metadata": {
    "colab": {
     "base_uri": "https://localhost:8080/",
     "height": 124
    },
    "colab_type": "code",
    "id": "PcC-ma5a6ZS8",
    "outputId": "6daefdf1-cd84-40aa-baef-154799611288"
   },
   "outputs": [
    {
     "name": "stdout",
     "output_type": "stream",
     "text": [
      "Go to this URL in a browser: https://accounts.google.com/o/oauth2/auth?client_id=947318989803-6bn6qk8qdgf4n4g3pfee6491hc0brc4i.apps.googleusercontent.com&redirect_uri=urn%3aietf%3awg%3aoauth%3a2.0%3aoob&response_type=code&scope=email%20https%3a%2f%2fwww.googleapis.com%2fauth%2fdocs.test%20https%3a%2f%2fwww.googleapis.com%2fauth%2fdrive%20https%3a%2f%2fwww.googleapis.com%2fauth%2fdrive.photos.readonly%20https%3a%2f%2fwww.googleapis.com%2fauth%2fpeopleapi.readonly\n",
      "\n",
      "Enter your authorization code:\n",
      "··········\n",
      "Mounted at /content/drive\n"
     ]
    }
   ],
   "source": [
    "from google.colab import drive\n",
    "drive.mount('/content/drive')"
   ]
  },
  {
   "cell_type": "code",
   "execution_count": 0,
   "metadata": {
    "colab": {},
    "colab_type": "code",
    "id": "uRz_MtnvWGip"
   },
   "outputs": [],
   "source": [
    "!cp \"/content/drive/My Drive/R10 Internal/download.rar\" ."
   ]
  },
  {
   "cell_type": "code",
   "execution_count": 0,
   "metadata": {
    "colab": {},
    "colab_type": "code",
    "id": "WcWK-dLJ9tcM"
   },
   "outputs": [],
   "source": [
    "!cp \"/content/drive/My Drive/R10 Internal/download.csv\" ."
   ]
  },
  {
   "cell_type": "code",
   "execution_count": 21,
   "metadata": {
    "colab": {
     "base_uri": "https://localhost:8080/",
     "height": 86
    },
    "colab_type": "code",
    "id": "RddhCIV39yGE",
    "outputId": "d813d64a-44cc-445b-ffe8-0d5a6ee62a91"
   },
   "outputs": [
    {
     "name": "stdout",
     "output_type": "stream",
     "text": [
      "total 25972\n",
      "-rw------- 1 root root     7913 Jan 12 04:15 download.csv\n",
      "-rw------- 1 root root 26574193 Jan 12 04:06 download.rar\n",
      "drwxr-xr-x 3 root root    12288 Apr 22  2019 images\n"
     ]
    }
   ],
   "source": [
    "!ls -l"
   ]
  },
  {
   "cell_type": "code",
   "execution_count": 19,
   "metadata": {
    "colab": {
     "base_uri": "https://localhost:8080/",
     "height": 210
    },
    "colab_type": "code",
    "id": "y4xKM1cB8JwK",
    "outputId": "ac67aa8b-a242-41ee-e59a-8d07493d9258"
   },
   "outputs": [
    {
     "name": "stdout",
     "output_type": "stream",
     "text": [
      "Collecting patool\n",
      "\u001b[?25l  Downloading https://files.pythonhosted.org/packages/43/94/52243ddff508780dd2d8110964320ab4851134a55ab102285b46e740f76a/patool-1.12-py2.py3-none-any.whl (77kB)\n",
      "\r",
      "\u001b[K     |████▎                           | 10kB 18.9MB/s eta 0:00:01\r",
      "\u001b[K     |████████▌                       | 20kB 3.2MB/s eta 0:00:01\r",
      "\u001b[K     |████████████▊                   | 30kB 4.6MB/s eta 0:00:01\r",
      "\u001b[K     |█████████████████               | 40kB 3.0MB/s eta 0:00:01\r",
      "\u001b[K     |█████████████████████▏          | 51kB 3.7MB/s eta 0:00:01\r",
      "\u001b[K     |█████████████████████████▍      | 61kB 4.4MB/s eta 0:00:01\r",
      "\u001b[K     |█████████████████████████████▋  | 71kB 5.0MB/s eta 0:00:01\r",
      "\u001b[K     |████████████████████████████████| 81kB 3.8MB/s \n",
      "\u001b[?25hInstalling collected packages: patool\n",
      "Successfully installed patool-1.12\n",
      "patool: Extracting download.rar ...\n",
      "patool: running /usr/bin/unrar x -- /content/racoon/download.rar\n",
      "patool:     with cwd='/content/racoon/'\n",
      "patool: ... download.rar extracted to `/content/racoon/'.\n"
     ]
    },
    {
     "data": {
      "text/plain": [
       "'/content/racoon/'"
      ]
     },
     "execution_count": 19,
     "metadata": {
      "tags": []
     },
     "output_type": "execute_result"
    }
   ],
   "source": [
    "\n",
    "import patoolib\n",
    "patoolib.extract_archive(\"download.rar\", outdir=\"/content/racoon/\")"
   ]
  },
  {
   "cell_type": "code",
   "execution_count": 22,
   "metadata": {
    "colab": {
     "base_uri": "https://localhost:8080/",
     "height": 198
    },
    "colab_type": "code",
    "id": "kZeT8hi4-S8Q",
    "outputId": "76217c35-deca-4108-f17e-007ccfe785d4"
   },
   "outputs": [
    {
     "data": {
      "text/html": [
       "<div>\n",
       "<style scoped>\n",
       "    .dataframe tbody tr th:only-of-type {\n",
       "        vertical-align: middle;\n",
       "    }\n",
       "\n",
       "    .dataframe tbody tr th {\n",
       "        vertical-align: top;\n",
       "    }\n",
       "\n",
       "    .dataframe thead th {\n",
       "        text-align: right;\n",
       "    }\n",
       "</style>\n",
       "<table border=\"1\" class=\"dataframe\">\n",
       "  <thead>\n",
       "    <tr style=\"text-align: right;\">\n",
       "      <th></th>\n",
       "      <th>filename</th>\n",
       "      <th>width</th>\n",
       "      <th>height</th>\n",
       "      <th>class</th>\n",
       "      <th>xmin</th>\n",
       "      <th>ymin</th>\n",
       "      <th>xmax</th>\n",
       "      <th>ymax</th>\n",
       "    </tr>\n",
       "  </thead>\n",
       "  <tbody>\n",
       "    <tr>\n",
       "      <th>0</th>\n",
       "      <td>raccoon-17.jpg</td>\n",
       "      <td>259</td>\n",
       "      <td>194</td>\n",
       "      <td>raccoon</td>\n",
       "      <td>95</td>\n",
       "      <td>60</td>\n",
       "      <td>167</td>\n",
       "      <td>118</td>\n",
       "    </tr>\n",
       "    <tr>\n",
       "      <th>1</th>\n",
       "      <td>raccoon-11.jpg</td>\n",
       "      <td>660</td>\n",
       "      <td>432</td>\n",
       "      <td>raccoon</td>\n",
       "      <td>3</td>\n",
       "      <td>1</td>\n",
       "      <td>461</td>\n",
       "      <td>431</td>\n",
       "    </tr>\n",
       "    <tr>\n",
       "      <th>2</th>\n",
       "      <td>raccoon-63.jpg</td>\n",
       "      <td>600</td>\n",
       "      <td>400</td>\n",
       "      <td>raccoon</td>\n",
       "      <td>74</td>\n",
       "      <td>107</td>\n",
       "      <td>280</td>\n",
       "      <td>290</td>\n",
       "    </tr>\n",
       "    <tr>\n",
       "      <th>3</th>\n",
       "      <td>raccoon-63.jpg</td>\n",
       "      <td>600</td>\n",
       "      <td>400</td>\n",
       "      <td>raccoon</td>\n",
       "      <td>227</td>\n",
       "      <td>93</td>\n",
       "      <td>403</td>\n",
       "      <td>298</td>\n",
       "    </tr>\n",
       "    <tr>\n",
       "      <th>4</th>\n",
       "      <td>raccoon-60.jpg</td>\n",
       "      <td>273</td>\n",
       "      <td>185</td>\n",
       "      <td>raccoon</td>\n",
       "      <td>58</td>\n",
       "      <td>33</td>\n",
       "      <td>197</td>\n",
       "      <td>127</td>\n",
       "    </tr>\n",
       "  </tbody>\n",
       "</table>\n",
       "</div>"
      ],
      "text/plain": [
       "         filename  width  height    class  xmin  ymin  xmax  ymax\n",
       "0  raccoon-17.jpg    259     194  raccoon    95    60   167   118\n",
       "1  raccoon-11.jpg    660     432  raccoon     3     1   461   431\n",
       "2  raccoon-63.jpg    600     400  raccoon    74   107   280   290\n",
       "3  raccoon-63.jpg    600     400  raccoon   227    93   403   298\n",
       "4  raccoon-60.jpg    273     185  raccoon    58    33   197   127"
      ]
     },
     "execution_count": 22,
     "metadata": {
      "tags": []
     },
     "output_type": "execute_result"
    }
   ],
   "source": [
    "import pandas as pd\n",
    "df = pd.read_csv('download.csv')\n",
    "df.head(5)"
   ]
  },
  {
   "cell_type": "markdown",
   "metadata": {
    "colab_type": "text",
    "id": "-F3CkYxUWGin"
   },
   "source": [
    "### Print the shape of the train dataset"
   ]
  },
  {
   "cell_type": "code",
   "execution_count": 49,
   "metadata": {
    "colab": {
     "base_uri": "https://localhost:8080/",
     "height": 52
    },
    "colab_type": "code",
    "id": "joHthruRH9Oq",
    "outputId": "96152be1-0991-4dd9-dd3c-05c4c1d3f7ee"
   },
   "outputs": [
    {
     "data": {
      "text/plain": [
       "raccoon    173\n",
       "Name: class, dtype: int64"
      ]
     },
     "execution_count": 49,
     "metadata": {
      "tags": []
     },
     "output_type": "execute_result"
    }
   ],
   "source": [
    "df['class'].value_counts()"
   ]
  },
  {
   "cell_type": "code",
   "execution_count": 24,
   "metadata": {
    "colab": {
     "base_uri": "https://localhost:8080/",
     "height": 34
    },
    "colab_type": "code",
    "id": "gFvC22HV61Ne",
    "outputId": "f5887641-c46c-48af-cf89-8cf3ccf3db39"
   },
   "outputs": [
    {
     "data": {
      "text/plain": [
       "(173, 8)"
      ]
     },
     "execution_count": 24,
     "metadata": {
      "tags": []
     },
     "output_type": "execute_result"
    }
   ],
   "source": [
    "df.shape\n"
   ]
  },
  {
   "cell_type": "markdown",
   "metadata": {
    "colab_type": "text",
    "id": "axf5m10eWGis"
   },
   "source": [
    "### Declare a variable IMAGE_SIZE = 128 as we will be using MobileNet which will be taking Input shape as 128 * 128 "
   ]
  },
  {
   "cell_type": "code",
   "execution_count": 0,
   "metadata": {
    "colab": {},
    "colab_type": "code",
    "id": "iMakmhd_-85n"
   },
   "outputs": [],
   "source": [
    "IMAGE_SIZE = 128"
   ]
  },
  {
   "cell_type": "code",
   "execution_count": 0,
   "metadata": {
    "colab": {},
    "colab_type": "code",
    "id": "7ayEk2c9WGit"
   },
   "outputs": [],
   "source": [
    "#Download the model from zoo ......code not working\n",
    "!wget -q http://download.tensorflow.org/models/object_detection/ssd_mbilenet_v1_coco_2018_01_28.tar.gz"
   ]
  },
  {
   "cell_type": "code",
   "execution_count": 0,
   "metadata": {
    "colab": {},
    "colab_type": "code",
    "id": "X0esaLTH_QBW"
   },
   "outputs": [],
   "source": [
    "!cp '/content/drive/My Drive/ACV - I/ssd_mobilenet_v1_coco_2018_01_28.tar.gz' . "
   ]
  },
  {
   "cell_type": "code",
   "execution_count": 31,
   "metadata": {
    "colab": {
     "base_uri": "https://localhost:8080/",
     "height": 104
    },
    "colab_type": "code",
    "id": "KbgogLay-hg0",
    "outputId": "e90eaec3-be0a-474c-c0f3-de6bffec88ec"
   },
   "outputs": [
    {
     "name": "stdout",
     "output_type": "stream",
     "text": [
      "total 100720\n",
      "-rw------- 1 root root     7913 Jan 12 04:15 download.csv\n",
      "-rw------- 1 root root 26574193 Jan 12 04:06 download.rar\n",
      "drwxr-xr-x 3 root root    12288 Apr 22  2019 images\n",
      "-rw------- 1 root root 76541073 Jan 12 04:22 ssd_mobilenet_v1_coco_2018_01_28.tar.gz\n"
     ]
    }
   ],
   "source": [
    "!ls -l"
   ]
  },
  {
   "cell_type": "code",
   "execution_count": 32,
   "metadata": {
    "colab": {
     "base_uri": "https://localhost:8080/",
     "height": 190
    },
    "colab_type": "code",
    "id": "gXvWPGe9-hPL",
    "outputId": "174fd314-f986-43aa-d330-645a7744d1dd"
   },
   "outputs": [
    {
     "name": "stdout",
     "output_type": "stream",
     "text": [
      "ssd_mobilenet_v1_coco_2018_01_28/\n",
      "ssd_mobilenet_v1_coco_2018_01_28/model.ckpt.index\n",
      "ssd_mobilenet_v1_coco_2018_01_28/checkpoint\n",
      "ssd_mobilenet_v1_coco_2018_01_28/pipeline.config\n",
      "ssd_mobilenet_v1_coco_2018_01_28/model.ckpt.data-00000-of-00001\n",
      "ssd_mobilenet_v1_coco_2018_01_28/model.ckpt.meta\n",
      "ssd_mobilenet_v1_coco_2018_01_28/saved_model/\n",
      "ssd_mobilenet_v1_coco_2018_01_28/saved_model/saved_model.pb\n",
      "ssd_mobilenet_v1_coco_2018_01_28/saved_model/variables/\n",
      "ssd_mobilenet_v1_coco_2018_01_28/frozen_inference_graph.pb\n"
     ]
    }
   ],
   "source": [
    "#Extract tar file content\n",
    "!tar -xvf ssd_mobilenet_v1_coco_2018_01_28.tar.gz"
   ]
  },
  {
   "cell_type": "code",
   "execution_count": 33,
   "metadata": {
    "colab": {
     "base_uri": "https://localhost:8080/",
     "height": 155
    },
    "colab_type": "code",
    "id": "Zf5Hbg2f_Ypg",
    "outputId": "001651d0-b075-45cc-b2ea-98422da03a84"
   },
   "outputs": [
    {
     "name": "stdout",
     "output_type": "stream",
     "text": [
      "total 58132\n",
      "-rw-r--r-- 1 345018 5000       77 Feb  1  2018 checkpoint\n",
      "-rw-r--r-- 1 345018 5000 29103956 Feb  1  2018 frozen_inference_graph.pb\n",
      "-rw-r--r-- 1 345018 5000 27380740 Feb  1  2018 model.ckpt.data-00000-of-00001\n",
      "-rw-r--r-- 1 345018 5000     8937 Feb  1  2018 model.ckpt.index\n",
      "-rw-r--r-- 1 345018 5000  3006546 Feb  1  2018 model.ckpt.meta\n",
      "-rw-r--r-- 1 345018 5000     4138 Feb  1  2018 pipeline.config\n",
      "drwxr-xr-x 3 345018 5000     4096 Feb  1  2018 saved_model\n"
     ]
    }
   ],
   "source": [
    "!ls -l ssd_mobilenet_v1_coco_2018_01_28"
   ]
  },
  {
   "cell_type": "code",
   "execution_count": 0,
   "metadata": {
    "colab": {},
    "colab_type": "code",
    "id": "fQ3KwjVP_ev0"
   },
   "outputs": [],
   "source": [
    "import numpy as np\n",
    "import os\n",
    "import matplotlib.pyplot as plt\n",
    "import cv2\n",
    "%matplotlib inline\n"
   ]
  },
  {
   "cell_type": "code",
   "execution_count": 40,
   "metadata": {
    "colab": {
     "base_uri": "https://localhost:8080/",
     "height": 594
    },
    "colab_type": "code",
    "id": "Dwrts6bn_erz",
    "outputId": "842f5e5d-4b62-439d-9fd0-46a9cc121710"
   },
   "outputs": [
    {
     "data": {
      "image/png": "[encoded data removed]",
      "text/plain": [
       "<Figure size 1080x720 with 1 Axes>"
      ]
     },
     "metadata": {
      "tags": []
     },
     "output_type": "display_data"
    }
   ],
   "source": [
    "#Pickup a random image number\n",
    "img_num = np.random.randint(0, df.shape[0])\n",
    "\n",
    "#Read the image\n",
    "img_file = df.loc[img_num,'filename']\n",
    "img = cv2.imread('/content/racoon/images/' + img_file)\n",
    "\n",
    "#Find all rows which have same file name\n",
    "rows_with_file = df[df['filename'] == img_file].index.tolist()\n",
    "\n",
    "#Draw rectangle(s) as per bounding box information\n",
    "for i in rows_with_file:\n",
    "\n",
    "    #Get bounding box\n",
    "    xmin, ymin, xmax, ymax = df.loc[i, ['xmin', 'ymin', 'xmax', 'ymax']]\n",
    "    #Get Label\n",
    "    label = df.loc[i, 'class']\n",
    "    #Add bounding box\n",
    "    cv2.rectangle(img, (xmin,ymin), (xmax, ymax), (0,255,0), 2)\n",
    "    #Add text\n",
    "    cv2.putText(img,label,(xmin, ymin-5),cv2.FONT_HERSHEY_SIMPLEX, 0.7, (255, 255, 255), 2)\n",
    "\n",
    "#Convert BGR format (used by opencv to RGB format used by matplotlib)\n",
    "img = cv2.cvtColor(img, cv2.COLOR_BGR2RGB)\n",
    "\n",
    "#Draw image using matplotlib\n",
    "plt.figure(figsize=(15,10))\n",
    "plt.imshow(img)\n",
    "plt.show()"
   ]
  },
  {
   "cell_type": "code",
   "execution_count": 0,
   "metadata": {
    "colab": {},
    "colab_type": "code",
    "id": "fnsLpdLC_enI"
   },
   "outputs": [],
   "source": []
  },
  {
   "cell_type": "markdown",
   "metadata": {
    "colab_type": "text",
    "id": "wbrrYb5IWGix"
   },
   "source": [
    "### With the help of csv.reader write a for loop which can load the train.csv file and store the path, width, height, x0,y0,x1,y1 in induvidual variables. <br>\n",
    "1. Create a list variable known as 'path' which has all the path for all the training images\n",
    "2. Create an array 'coords' which has the resized coordinates of the bounding box for the training images\n",
    "\n",
    "<u>Note:</u> All the training images should be downsampled to 128 * 128 as it is the input shape of MobileNet (which we will be using for Object detection). Hence the corresponding coordinates of the bounding boxes should be changed to match the image dimension of 128 * 128 "
   ]
  },
  {
   "cell_type": "code",
   "execution_count": 0,
   "metadata": {
    "colab": {},
    "colab_type": "code",
    "id": "twSTiPpRWGiy"
   },
   "outputs": [],
   "source": [
    "import csv\n",
    "with open('download.csv','r') as csvfile:\n",
    "    paths = []\n",
    "    coords = np.zeros((sum(1 for line in csvfile) - 1, 4))\n",
    "    spamreader = csv.reader(csvfile, delimiter=',')\n",
    "    csvfile.seek(0)\n",
    "    next(spamreader, None)\n",
    "    for i,row in enumerate(spamreader):\n",
    "        #print(row)\n",
    "        for j, r in enumerate(row): # Parse row with seven entities\n",
    "            #print(i)\n",
    "            if((j!= 0) & (j!=3)):\n",
    "                row[j] = int(r)\n",
    "            \n",
    "        #print(row)      \n",
    "        path, width, height, class_, xmin, ymin, xmax, ymax = row\n",
    "        paths.append(path)\n",
    "        #print(i)\n",
    "        coords[i,0] = xmin * IMAGE_SIZE / width\n",
    "        coords[i,1] = ymin * IMAGE_SIZE / height\n",
    "        coords[i,2] = xmax * IMAGE_SIZE / width # Normalize bounding box by image size\n",
    "        coords[i,3] = ymax * IMAGE_SIZE / height"
   ]
  },
  {
   "cell_type": "code",
   "execution_count": 52,
   "metadata": {
    "colab": {
     "base_uri": "https://localhost:8080/",
     "height": 1000
    },
    "colab_type": "code",
    "id": "qcstKHV8EM6D",
    "outputId": "5e4f3775-b317-461e-ac2e-5b7f27f460ce"
   },
   "outputs": [
    {
     "data": {
      "text/plain": [
       "['raccoon-17.jpg',\n",
       " 'raccoon-11.jpg',\n",
       " 'raccoon-63.jpg',\n",
       " 'raccoon-63.jpg',\n",
       " 'raccoon-60.jpg',\n",
       " 'raccoon-69.jpg',\n",
       " 'raccoon-180.jpg',\n",
       " 'raccoon-200.jpg',\n",
       " 'raccoon-141.jpg',\n",
       " 'raccoon-19.jpg',\n",
       " 'raccoon-84.jpg',\n",
       " 'raccoon-124.jpg',\n",
       " 'raccoon-182.jpg',\n",
       " 'raccoon-111.jpg',\n",
       " 'raccoon-91.jpg',\n",
       " 'raccoon-79.jpg',\n",
       " 'raccoon-93.jpg',\n",
       " 'raccoon-20.jpg',\n",
       " 'raccoon-42.jpg',\n",
       " 'raccoon-139.jpg',\n",
       " 'raccoon-58.jpg',\n",
       " 'raccoon-71.jpg',\n",
       " 'raccoon-183.jpg',\n",
       " 'raccoon-1.jpg',\n",
       " 'raccoon-169.jpg',\n",
       " 'raccoon-82.jpg',\n",
       " 'raccoon-4.jpg',\n",
       " 'raccoon-101.jpg',\n",
       " 'raccoon-10.jpg',\n",
       " 'raccoon-166.jpg',\n",
       " 'raccoon-184.jpg',\n",
       " 'raccoon-38.jpg',\n",
       " 'raccoon-120.jpg',\n",
       " 'raccoon-142.jpg',\n",
       " 'raccoon-149.jpg',\n",
       " 'raccoon-51.jpg',\n",
       " 'raccoon-43.jpg',\n",
       " 'raccoon-123.jpg',\n",
       " 'raccoon-66.jpg',\n",
       " 'raccoon-9.jpg',\n",
       " 'raccoon-178.jpg',\n",
       " 'raccoon-47.jpg',\n",
       " 'raccoon-167.jpg',\n",
       " 'raccoon-54.jpg',\n",
       " 'raccoon-77.jpg',\n",
       " 'raccoon-155.jpg',\n",
       " 'raccoon-89.jpg',\n",
       " 'raccoon-153.jpg',\n",
       " 'raccoon-179.jpg',\n",
       " 'raccoon-115.jpg',\n",
       " 'raccoon-64.jpg',\n",
       " 'raccoon-56.jpg',\n",
       " 'raccoon-44.jpg',\n",
       " 'raccoon-39.jpg',\n",
       " 'raccoon-26.jpg',\n",
       " 'raccoon-162.jpg',\n",
       " 'raccoon-170.jpg',\n",
       " 'raccoon-187.jpg',\n",
       " 'raccoon-131.jpg',\n",
       " 'raccoon-174.jpg',\n",
       " 'raccoon-92.jpg',\n",
       " 'raccoon-193.jpg',\n",
       " 'raccoon-138.jpg',\n",
       " 'raccoon-157.jpg',\n",
       " 'raccoon-108.jpg',\n",
       " 'raccoon-116.jpg',\n",
       " 'raccoon-117.jpg',\n",
       " 'raccoon-117.jpg',\n",
       " 'raccoon-12.jpg',\n",
       " 'raccoon-12.jpg',\n",
       " 'raccoon-16.jpg',\n",
       " 'raccoon-90.jpg',\n",
       " 'raccoon-160.jpg',\n",
       " 'raccoon-75.jpg',\n",
       " 'raccoon-199.jpg',\n",
       " 'raccoon-97.jpg',\n",
       " 'raccoon-188.jpg',\n",
       " 'raccoon-21.jpg',\n",
       " 'raccoon-35.jpg',\n",
       " 'raccoon-85.jpg',\n",
       " 'raccoon-49.jpg',\n",
       " 'raccoon-86.jpg',\n",
       " 'raccoon-34.jpg',\n",
       " 'raccoon-196.jpg',\n",
       " 'raccoon-96.jpg',\n",
       " 'raccoon-3.jpg',\n",
       " 'raccoon-2.jpg',\n",
       " 'raccoon-52.jpg',\n",
       " 'raccoon-81.jpg',\n",
       " 'raccoon-112.jpg',\n",
       " 'raccoon-18.jpg',\n",
       " 'raccoon-94.jpg',\n",
       " 'raccoon-98.jpg',\n",
       " 'raccoon-83.jpg',\n",
       " 'raccoon-36.jpg',\n",
       " 'raccoon-24.jpg',\n",
       " 'raccoon-24.jpg',\n",
       " 'raccoon-195.jpg',\n",
       " 'raccoon-55.jpg',\n",
       " 'raccoon-55.jpg',\n",
       " 'raccoon-175.jpg',\n",
       " 'raccoon-163.jpg',\n",
       " 'raccoon-48.jpg',\n",
       " 'raccoon-70.jpg',\n",
       " 'raccoon-119.jpg',\n",
       " 'raccoon-119.jpg',\n",
       " 'raccoon-119.jpg',\n",
       " 'raccoon-88.jpg',\n",
       " 'raccoon-61.jpg',\n",
       " 'raccoon-61.jpg',\n",
       " 'raccoon-121.jpg',\n",
       " 'raccoon-74.jpg',\n",
       " 'raccoon-133.jpg',\n",
       " 'raccoon-177.jpg',\n",
       " 'raccoon-177.jpg',\n",
       " 'raccoon-159.jpg',\n",
       " 'raccoon-53.jpg',\n",
       " 'raccoon-132.jpg',\n",
       " 'raccoon-198.jpg',\n",
       " 'raccoon-198.jpg',\n",
       " 'raccoon-103.jpg',\n",
       " 'raccoon-46.jpg',\n",
       " 'raccoon-50.jpg',\n",
       " 'raccoon-37.jpg',\n",
       " 'raccoon-161.jpg',\n",
       " 'raccoon-194.jpg',\n",
       " 'raccoon-32.jpg',\n",
       " 'raccoon-15.jpg',\n",
       " 'raccoon-147.jpg',\n",
       " 'raccoon-151.jpg',\n",
       " 'raccoon-80.jpg',\n",
       " 'raccoon-6.jpg',\n",
       " 'raccoon-154.jpg',\n",
       " 'raccoon-135.jpg',\n",
       " 'raccoon-118.jpg',\n",
       " 'raccoon-150.jpg',\n",
       " 'raccoon-102.jpg',\n",
       " 'raccoon-130.jpg',\n",
       " 'raccoon-130.jpg',\n",
       " 'raccoon-7.jpg',\n",
       " 'raccoon-107.jpg',\n",
       " 'raccoon-173.jpg',\n",
       " 'raccoon-165.jpg',\n",
       " 'raccoon-25.jpg',\n",
       " 'raccoon-67.jpg',\n",
       " 'raccoon-13.jpg',\n",
       " 'raccoon-191.jpg',\n",
       " 'raccoon-45.jpg',\n",
       " 'raccoon-31.jpg',\n",
       " 'raccoon-31.jpg',\n",
       " 'raccoon-172.jpg',\n",
       " 'raccoon-100.jpg',\n",
       " 'raccoon-148.jpg',\n",
       " 'raccoon-148.jpg',\n",
       " 'raccoon-23.jpg',\n",
       " 'raccoon-30.jpg',\n",
       " 'raccoon-33.jpg',\n",
       " 'raccoon-136.jpg',\n",
       " 'raccoon-114.jpg',\n",
       " 'raccoon-76.jpg',\n",
       " 'raccoon-104.jpg',\n",
       " 'raccoon-109.jpg',\n",
       " 'raccoon-87.jpg',\n",
       " 'raccoon-113.jpg',\n",
       " 'raccoon-78.jpg',\n",
       " 'raccoon-65.jpg',\n",
       " 'raccoon-122.jpg',\n",
       " 'raccoon-73.jpg',\n",
       " 'raccoon-137.jpg',\n",
       " 'raccoon-171.jpg',\n",
       " 'raccoon-190.jpg',\n",
       " 'raccoon-22.jpg',\n",
       " 'raccoon-152.jpg']"
      ]
     },
     "execution_count": 52,
     "metadata": {
      "tags": []
     },
     "output_type": "execute_result"
    }
   ],
   "source": [
    "paths"
   ]
  },
  {
   "cell_type": "markdown",
   "metadata": {
    "colab_type": "text",
    "id": "Z9iZWEpKWGi2"
   },
   "source": [
    "### Write a for loop which can load all the training images into a variable 'batch_images' using the paths from the 'paths' variable\n",
    "<u>Note:</u> Convert the image to RGB scale as the MobileNet accepts 3 channels as inputs   "
   ]
  },
  {
   "cell_type": "code",
   "execution_count": 0,
   "metadata": {
    "colab": {},
    "colab_type": "code",
    "id": "Q058qFQZQDqw"
   },
   "outputs": [],
   "source": [
    "\n",
    "from keras.applications.mobilenet import preprocess_input"
   ]
  },
  {
   "cell_type": "code",
   "execution_count": 64,
   "metadata": {
    "colab": {
     "base_uri": "https://localhost:8080/",
     "height": 34
    },
    "colab_type": "code",
    "id": "C4JrZMpYN-Dp",
    "outputId": "54cc0eaa-01e7-488f-856e-d4c937bbe31e"
   },
   "outputs": [
    {
     "data": {
      "text/plain": [
       "173"
      ]
     },
     "execution_count": 64,
     "metadata": {
      "tags": []
     },
     "output_type": "execute_result"
    }
   ],
   "source": [
    "len(paths)"
   ]
  },
  {
   "cell_type": "code",
   "execution_count": 0,
   "metadata": {
    "colab": {},
    "colab_type": "code",
    "id": "h6e99qquWGi3"
   },
   "outputs": [],
   "source": [
    "batch_images = np.zeros(shape=(len(paths), IMAGE_SIZE, IMAGE_SIZE, 3)).astype('float32')"
   ]
  },
  {
   "cell_type": "code",
   "execution_count": 70,
   "metadata": {
    "colab": {
     "base_uri": "https://localhost:8080/",
     "height": 34
    },
    "colab_type": "code",
    "id": "Z2CvKJu0FSWA",
    "outputId": "6c0bc325-c32f-4cec-d319-6a6e23ed64fd"
   },
   "outputs": [
    {
     "data": {
      "text/plain": [
       "(173, 128, 128, 3)"
      ]
     },
     "execution_count": 70,
     "metadata": {
      "tags": []
     },
     "output_type": "execute_result"
    }
   ],
   "source": [
    "batch_images.shape"
   ]
  },
  {
   "cell_type": "code",
   "execution_count": 0,
   "metadata": {
    "colab": {},
    "colab_type": "code",
    "id": "lrdniU33OCix"
   },
   "outputs": [],
   "source": [
    "import cv2\n",
    "from PIL import Image"
   ]
  },
  {
   "cell_type": "code",
   "execution_count": 0,
   "metadata": {
    "colab": {},
    "colab_type": "code",
    "id": "xg7xG3_yInGL"
   },
   "outputs": [],
   "source": [
    "for i,x in enumerate(paths):\n",
    "  img = Image.open(\"/content/racoon/images/\" + x)\n",
    "  img = img.resize((IMAGE_SIZE,IMAGE_SIZE))\n",
    "  img = img.convert('RGB')\n",
    "  batch_images[i] = preprocess_input(np.array(img,dtype=np.float32))"
   ]
  },
  {
   "cell_type": "markdown",
   "metadata": {
    "colab_type": "text",
    "id": "C9KU6pUTWGi9"
   },
   "source": [
    "### Import MobileNet and load MobileNet into a variable named 'model' which takes input shape of 128 * 128 * 3. Freeze all the layers. Add convolution and reshape layers at the end to ensure the output is 4 coordinates"
   ]
  },
  {
   "cell_type": "code",
   "execution_count": 0,
   "metadata": {
    "colab": {},
    "colab_type": "code",
    "id": "nosEtf1lWGi-"
   },
   "outputs": [],
   "source": [
    "from keras.applications.mobilenet import MobileNet \n",
    "model = MobileNet(include_top=False,input_shape=(IMAGE_SIZE,IMAGE_SIZE, 3),alpha = 1.0)"
   ]
  },
  {
   "cell_type": "code",
   "execution_count": 0,
   "metadata": {
    "colab": {},
    "colab_type": "code",
    "id": "nSwlmf8mShRH"
   },
   "outputs": [],
   "source": [
    "x = model.output"
   ]
  },
  {
   "cell_type": "code",
   "execution_count": 0,
   "metadata": {
    "colab": {},
    "colab_type": "code",
    "id": "JKYVxdfzShO2"
   },
   "outputs": [],
   "source": [
    "for layer in model.layers:\n",
    "  layer.trainable = False"
   ]
  },
  {
   "cell_type": "code",
   "execution_count": 0,
   "metadata": {
    "colab": {},
    "colab_type": "code",
    "id": "fNnFoym3adK6"
   },
   "outputs": [],
   "source": [
    "from keras.layers import Conv2D"
   ]
  },
  {
   "cell_type": "code",
   "execution_count": 0,
   "metadata": {
    "colab": {},
    "colab_type": "code",
    "id": "tdvsyul8ShMo"
   },
   "outputs": [],
   "source": [
    "x = Conv2D(4,kernel_size=4)(x)\n"
   ]
  },
  {
   "cell_type": "code",
   "execution_count": 0,
   "metadata": {
    "colab": {},
    "colab_type": "code",
    "id": "sltiKYrGdiLy"
   },
   "outputs": [],
   "source": [
    "x = Reshape((4,))(x)"
   ]
  },
  {
   "cell_type": "code",
   "execution_count": 0,
   "metadata": {
    "colab": {},
    "colab_type": "code",
    "id": "Ro16E4t3ShI-"
   },
   "outputs": [],
   "source": [
    "from keras.models import Model\n",
    "from keras.layers import Reshape\n"
   ]
  },
  {
   "cell_type": "code",
   "execution_count": 0,
   "metadata": {
    "colab": {},
    "colab_type": "code",
    "id": "nU6BVoBaZhSi"
   },
   "outputs": [],
   "source": [
    "model = Model(inputs=model.input, outputs=x)"
   ]
  },
  {
   "cell_type": "markdown",
   "metadata": {
    "colab_type": "text",
    "id": "nsQSHWgpWGjC"
   },
   "source": [
    "### Define a custom loss function IoU which calculates Intersection Over Union"
   ]
  },
  {
   "cell_type": "code",
   "execution_count": 0,
   "metadata": {
    "colab": {},
    "colab_type": "code",
    "id": "Bk9BLCXfTWMU"
   },
   "outputs": [],
   "source": [
    "from keras.backend import epsilon"
   ]
  },
  {
   "cell_type": "code",
   "execution_count": 0,
   "metadata": {
    "colab": {},
    "colab_type": "code",
    "id": "7Ig_Gsn-WGjD"
   },
   "outputs": [],
   "source": [
    "def loss(gt,pred):\n",
    "    intersections = 0\n",
    "    unions = 0\n",
    "    diff_width = np.minimum(gt[:,0] + gt[:,2], pred[:,0] + pred[:,2]) - np.maximum(gt[:,0], pred[:,0])\n",
    "    diff_height = np.minimum(gt[:,1] + gt[:,3], pred[:,1] + pred[:,3]) - np.maximum(gt[:,1], pred[:,1])\n",
    "    intersection = diff_width * diff_height\n",
    "    \n",
    "    # Compute union\n",
    "    area_gt = gt[:,2] * gt[:,3]\n",
    "    area_pred = pred[:,2] * pred[:,3]\n",
    "    union = area_gt + area_pred - intersection\n",
    "\n",
    "#     Compute intersection and union over multiple boxes\n",
    "    for j, _ in enumerate(union):\n",
    "        if union[j] > 0 and intersection[j] > 0 and union[j] >= intersection[j]:\n",
    "            intersections += intersection[j]\n",
    "            unions += union[j]\n",
    "\n",
    "    # Compute IOU. Use epsilon to prevent division by zero\n",
    "    iou = np.round(intersections / (unions + epsilon()), 4)\n",
    "    iou = iou.astype(np.float32)\n",
    "    return iou\n",
    "\n",
    "def IoU(y_true, y_pred):\n",
    "    iou = tf.py_func(loss, [y_true, y_pred], tf.float32)\n",
    "    return iou"
   ]
  },
  {
   "cell_type": "markdown",
   "metadata": {
    "colab_type": "text",
    "id": "2Zs7VcSVWGjF"
   },
   "source": [
    "### Write model.compile function & model.fit function with: <br>\n",
    "1. Optimizer = Adam, Loss = 'mse' and metrics = IoU\n",
    "2. Epochs = 30, batch_size = 32, verbose = 1"
   ]
  },
  {
   "cell_type": "code",
   "execution_count": 158,
   "metadata": {
    "colab": {
     "base_uri": "https://localhost:8080/",
     "height": 262
    },
    "colab_type": "code",
    "id": "JrSvbfksG3Q4",
    "outputId": "d5de389f-e7fe-4194-ad96-b0febad74cf8"
   },
   "outputs": [
    {
     "name": "stdout",
     "output_type": "stream",
     "text": [
      "WARNING:tensorflow:From <ipython-input-83-a811784d62ce>:25: py_func (from tensorflow.python.ops.script_ops) is deprecated and will be removed in a future version.\n",
      "Instructions for updating:\n",
      "tf.py_func is deprecated in TF V2. Instead, there are two\n",
      "    options available in V2.\n",
      "    - tf.py_function takes a python function which manipulates tf eager\n",
      "    tensors instead of numpy arrays. It's easy to convert a tf eager tensor to\n",
      "    an ndarray (just call tensor.numpy()) but having access to eager tensors\n",
      "    means `tf.py_function`s can use accelerators such as GPUs as well as\n",
      "    being differentiable using a gradient tape.\n",
      "    - tf.numpy_function maintains the semantics of the deprecated tf.py_func\n",
      "    (it is not differentiable, and manipulates numpy arrays). It drops the\n",
      "    stateful argument making all functions stateful.\n",
      "    \n"
     ]
    }
   ],
   "source": [
    "model.compile(optimizer='adam', \n",
    "                    loss='mse',\n",
    "                    metrics=[IoU])"
   ]
  },
  {
   "cell_type": "code",
   "execution_count": 160,
   "metadata": {
    "colab": {
     "base_uri": "https://localhost:8080/",
     "height": 1000
    },
    "colab_type": "code",
    "id": "ugdRYOhOgRy_",
    "outputId": "83d21838-96c5-421d-fb2a-b9c24a81bf19"
   },
   "outputs": [
    {
     "name": "stdout",
     "output_type": "stream",
     "text": [
      "WARNING:tensorflow:From /usr/local/lib/python3.6/dist-packages/keras/backend/tensorflow_backend.py:1033: The name tf.assign_add is deprecated. Please use tf.compat.v1.assign_add instead.\n",
      "\n",
      "WARNING:tensorflow:From /usr/local/lib/python3.6/dist-packages/keras/backend/tensorflow_backend.py:1020: The name tf.assign is deprecated. Please use tf.compat.v1.assign instead.\n",
      "\n",
      "Epoch 1/30\n",
      "173/173 [==============================] - 6s 32ms/step - loss: 4353.3888 - IoU: 0.0558\n",
      "Epoch 2/30\n",
      "173/173 [==============================] - 4s 26ms/step - loss: 1007.9462 - IoU: 0.3519\n",
      "Epoch 3/30\n",
      "173/173 [==============================] - 4s 26ms/step - loss: 426.1549 - IoU: 0.5682\n",
      "Epoch 4/30\n",
      "173/173 [==============================] - 4s 25ms/step - loss: 635.7846 - IoU: 0.5308\n",
      "Epoch 5/30\n",
      "173/173 [==============================] - 4s 26ms/step - loss: 446.3671 - IoU: 0.5864\n",
      "Epoch 6/30\n",
      "173/173 [==============================] - 4s 26ms/step - loss: 236.6406 - IoU: 0.6481\n",
      "Epoch 7/30\n",
      "173/173 [==============================] - 4s 26ms/step - loss: 206.0549 - IoU: 0.6479\n",
      "Epoch 8/30\n",
      "173/173 [==============================] - 4s 25ms/step - loss: 193.3256 - IoU: 0.6637\n",
      "Epoch 9/30\n",
      "173/173 [==============================] - 4s 26ms/step - loss: 155.3316 - IoU: 0.7058\n",
      "Epoch 10/30\n",
      "173/173 [==============================] - 4s 26ms/step - loss: 140.6144 - IoU: 0.7266\n",
      "Epoch 11/30\n",
      "173/173 [==============================] - 4s 25ms/step - loss: 124.3036 - IoU: 0.7459\n",
      "Epoch 12/30\n",
      "173/173 [==============================] - 4s 26ms/step - loss: 110.3103 - IoU: 0.7574\n",
      "Epoch 13/30\n",
      "173/173 [==============================] - 4s 26ms/step - loss: 102.9445 - IoU: 0.7630\n",
      "Epoch 14/30\n",
      "173/173 [==============================] - 4s 26ms/step - loss: 103.8714 - IoU: 0.7602\n",
      "Epoch 15/30\n",
      "173/173 [==============================] - 4s 26ms/step - loss: 98.8430 - IoU: 0.7634\n",
      "Epoch 16/30\n",
      "173/173 [==============================] - 4s 26ms/step - loss: 87.8498 - IoU: 0.7768\n",
      "Epoch 17/30\n",
      "173/173 [==============================] - 4s 26ms/step - loss: 84.3178 - IoU: 0.7867\n",
      "Epoch 18/30\n",
      "173/173 [==============================] - 4s 26ms/step - loss: 81.3438 - IoU: 0.7864\n",
      "Epoch 19/30\n",
      "173/173 [==============================] - 4s 26ms/step - loss: 75.5737 - IoU: 0.7971\n",
      "Epoch 20/30\n",
      "173/173 [==============================] - 4s 26ms/step - loss: 76.9327 - IoU: 0.8053\n",
      "Epoch 21/30\n",
      "173/173 [==============================] - 5s 26ms/step - loss: 73.2808 - IoU: 0.8047\n",
      "Epoch 22/30\n",
      "173/173 [==============================] - 4s 26ms/step - loss: 69.3360 - IoU: 0.8068\n",
      "Epoch 23/30\n",
      "173/173 [==============================] - 4s 26ms/step - loss: 71.5940 - IoU: 0.7988\n",
      "Epoch 24/30\n",
      "173/173 [==============================] - 4s 26ms/step - loss: 70.7949 - IoU: 0.8062\n",
      "Epoch 25/30\n",
      "173/173 [==============================] - 4s 26ms/step - loss: 69.1825 - IoU: 0.8024\n",
      "Epoch 26/30\n",
      "173/173 [==============================] - 4s 26ms/step - loss: 69.6667 - IoU: 0.8135\n",
      "Epoch 27/30\n",
      "173/173 [==============================] - 4s 26ms/step - loss: 69.6595 - IoU: 0.8032\n",
      "Epoch 28/30\n",
      "173/173 [==============================] - 5s 26ms/step - loss: 58.8455 - IoU: 0.8282\n",
      "Epoch 29/30\n",
      "173/173 [==============================] - 4s 26ms/step - loss: 64.9528 - IoU: 0.8050\n",
      "Epoch 30/30\n",
      "173/173 [==============================] - 5s 26ms/step - loss: 61.3025 - IoU: 0.8099\n"
     ]
    },
    {
     "data": {
      "text/plain": [
       "<keras.callbacks.History at 0x7f8afb36b3c8>"
      ]
     },
     "execution_count": 160,
     "metadata": {
      "tags": []
     },
     "output_type": "execute_result"
    }
   ],
   "source": [
    "model.fit(batch_images,coords,batch_size=32,epochs=30,verbose=1)"
   ]
  },
  {
   "cell_type": "code",
   "execution_count": 0,
   "metadata": {
    "colab": {},
    "colab_type": "code",
    "id": "f35dLEJlWGjG"
   },
   "outputs": [],
   "source": []
  },
  {
   "cell_type": "markdown",
   "metadata": {
    "colab_type": "text",
    "id": "II1itmqiWGjK"
   },
   "source": [
    "### Pick a test image from the given data"
   ]
  },
  {
   "cell_type": "code",
   "execution_count": 0,
   "metadata": {
    "colab": {},
    "colab_type": "code",
    "id": "0ULErYeSWGjK"
   },
   "outputs": [],
   "source": [
    "img_num = np.random.randint(0,df.shape[0])\n",
    "img_file = paths[img_num]\n"
   ]
  },
  {
   "cell_type": "code",
   "execution_count": 189,
   "metadata": {
    "colab": {
     "base_uri": "https://localhost:8080/",
     "height": 34
    },
    "colab_type": "code",
    "id": "W3ru_GzXljYn",
    "outputId": "e56b26a8-0f10-438d-e59b-35c064a82d87"
   },
   "outputs": [
    {
     "data": {
      "text/plain": [
       "'raccoon-91.jpg'"
      ]
     },
     "execution_count": 189,
     "metadata": {
      "tags": []
     },
     "output_type": "execute_result"
    }
   ],
   "source": [
    "img_file"
   ]
  },
  {
   "cell_type": "code",
   "execution_count": 0,
   "metadata": {
    "colab": {},
    "colab_type": "code",
    "id": "GmdrKTHOkcEV"
   },
   "outputs": [],
   "source": [
    "import cv2\n",
    "image_name = '/content/racoon/images/'+img_file\n"
   ]
  },
  {
   "cell_type": "code",
   "execution_count": 191,
   "metadata": {
    "colab": {
     "base_uri": "https://localhost:8080/",
     "height": 34
    },
    "colab_type": "code",
    "id": "gEZkdNY_louu",
    "outputId": "babe077f-e3e4-4db4-c51d-5e5b3a08fd47"
   },
   "outputs": [
    {
     "data": {
      "text/plain": [
       "'/content/racoon/images/raccoon-91.jpg'"
      ]
     },
     "execution_count": 191,
     "metadata": {
      "tags": []
     },
     "output_type": "execute_result"
    }
   ],
   "source": [
    "image_name"
   ]
  },
  {
   "cell_type": "code",
   "execution_count": 0,
   "metadata": {
    "colab": {},
    "colab_type": "code",
    "id": "CCivRbuZln_V"
   },
   "outputs": [],
   "source": [
    "unscaled = cv2.imread(image_name) # Original image for display"
   ]
  },
  {
   "cell_type": "code",
   "execution_count": 193,
   "metadata": {
    "colab": {
     "base_uri": "https://localhost:8080/",
     "height": 34
    },
    "colab_type": "code",
    "id": "D3aahkAplx3J",
    "outputId": "97de0112-7804-46dc-f80e-bdc477350593"
   },
   "outputs": [
    {
     "data": {
      "text/plain": [
       "(314, 236, 3)"
      ]
     },
     "execution_count": 193,
     "metadata": {
      "tags": []
     },
     "output_type": "execute_result"
    }
   ],
   "source": [
    "unscaled.shape"
   ]
  },
  {
   "cell_type": "markdown",
   "metadata": {
    "colab_type": "text",
    "id": "h99SC9MjWGjO"
   },
   "source": [
    "### Resize the image to 128 * 128 and preprocess the image for the MobileNet model"
   ]
  },
  {
   "cell_type": "code",
   "execution_count": 0,
   "metadata": {
    "colab": {},
    "colab_type": "code",
    "id": "J3jbKm7_WGjP"
   },
   "outputs": [],
   "source": [
    "image_height, image_width, _ = unscaled.shape\n",
    "image = cv2.resize(unscaled, (IMAGE_SIZE, IMAGE_SIZE)) # Rescaled image to run the network"
   ]
  },
  {
   "cell_type": "markdown",
   "metadata": {
    "colab_type": "text",
    "id": "aGK4IjdaWGjR"
   },
   "source": [
    "### Predict the coordinates of the bounding box for the given test image"
   ]
  },
  {
   "cell_type": "code",
   "execution_count": 0,
   "metadata": {
    "colab": {},
    "colab_type": "code",
    "id": "abnXH5F7WGjS"
   },
   "outputs": [],
   "source": [
    "feat_scaled = preprocess_input(np.array(image, dtype=np.float32))\n",
    "region = model.predict(x=np.array([feat_scaled]))[0] # Predict the BBox"
   ]
  },
  {
   "cell_type": "markdown",
   "metadata": {
    "colab_type": "text",
    "id": "CXbjVdLWWGjW"
   },
   "source": [
    "### Plot the test image using .imshow and draw a boundary box around the image with the coordinates obtained from the model"
   ]
  },
  {
   "cell_type": "code",
   "execution_count": 196,
   "metadata": {
    "colab": {
     "base_uri": "https://localhost:8080/",
     "height": 269
    },
    "colab_type": "code",
    "id": "t4Ah05MlWGjY",
    "outputId": "be327080-98b1-499d-8382-30a2b96219c3"
   },
   "outputs": [
    {
     "data": {
      "image/png": "[encoded data removed]",
      "text/plain": [
       "<Figure size 432x288 with 1 Axes>"
      ]
     },
     "metadata": {
      "tags": []
     },
     "output_type": "display_data"
    }
   ],
   "source": [
    "x0 = int(region[0] * image_width / IMAGE_SIZE) # Scale the BBox\n",
    "y0 = int(region[1] * image_height / IMAGE_SIZE)\n",
    "\n",
    "x1 = int((region[2]) * image_width / IMAGE_SIZE)\n",
    "y1 = int((region[3]) * image_height / IMAGE_SIZE)\n",
    "\n",
    "\n",
    "import matplotlib.pyplot as plt\n",
    "import matplotlib.patches as patches\n",
    "from PIL import Image\n",
    "import numpy as np\n",
    "\n",
    "\n",
    "# Create figure and axes\n",
    "fig,ax = plt.subplots(1)\n",
    "\n",
    "# Display the image\n",
    "ax.imshow(unscaled)\n",
    "\n",
    "# Create a Rectangle patch\n",
    "rect = patches.Rectangle((x0, y0), (x1 - x0) , (y1 - y0) , linewidth=2, edgecolor='r', facecolor='none')\n",
    "\n",
    "# Add the patch to the Axes\n",
    "ax.add_patch(rect)\n",
    "\n",
    "plt.show()"
   ]
  },
  {
   "cell_type": "code",
   "execution_count": 0,
   "metadata": {
    "colab": {},
    "colab_type": "code",
    "id": "FHbIWp-D7Jyn"
   },
   "outputs": [],
   "source": []
  }
 ],
 "metadata": {
  "colab": {
   "collapsed_sections": [],
   "name": "download.ipynb",
   "provenance": [],
   "toc_visible": true
  },
  "kernelspec": {
   "display_name": "Python 3",
   "language": "python",
   "name": "python3"
  },
  "language_info": {
   "codemirror_mode": {
    "name": "ipython",
    "version": 3
   },
   "file_extension": ".py",
   "mimetype": "text/x-python",
   "name": "python",
   "nbconvert_exporter": "python",
   "pygments_lexer": "ipython3",
   "version": "3.7.6"
  }
 },
 "nbformat": 4,
 "nbformat_minor": 1
}
