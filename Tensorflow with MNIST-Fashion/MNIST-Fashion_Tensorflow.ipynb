{
 "cells": [
  {
   "cell_type": "markdown",
   "metadata": {
    "colab_type": "text",
    "id": "YYk8NG3yOIT9"
   },
   "source": [
    "### A MNIST-like fashion product database\n",
    "\n",
    "In this, we classify the images into respective classes given in the dataset. We use a Neural Net and a Deep Neural Net in Keras to solve this and check the accuracy scores."
   ]
  },
  {
   "cell_type": "markdown",
   "metadata": {
    "colab_type": "text",
    "id": "tFO6PuxzOIT_"
   },
   "source": [
    "### Load tensorflow"
   ]
  },
  {
   "cell_type": "markdown",
   "metadata": {
    "colab_type": "text",
    "id": "QnBqz3XE_eau"
   },
   "source": []
  },
  {
   "cell_type": "code",
   "execution_count": 0,
   "metadata": {
    "colab": {},
    "colab_type": "code",
    "id": "efNjNImfOIUC"
   },
   "outputs": [],
   "source": [
    "import tensorflow as tf\n",
    "tf.set_random_seed(42)"
   ]
  },
  {
   "cell_type": "code",
   "execution_count": 2,
   "metadata": {
    "colab": {
     "base_uri": "https://localhost:8080/",
     "height": 34
    },
    "colab_type": "code",
    "id": "l9C4aAIGOIUH",
    "outputId": "759a1fb9-7375-4921-c5f9-bf97d7e4cfc3"
   },
   "outputs": [
    {
     "data": {
      "text/plain": [
       "'1.14.0'"
      ]
     },
     "execution_count": 2,
     "metadata": {
      "tags": []
     },
     "output_type": "execute_result"
    }
   ],
   "source": [
    "tf.__version__"
   ]
  },
  {
   "cell_type": "markdown",
   "metadata": {
    "colab_type": "text",
    "id": "HcoZBStrOIUQ"
   },
   "source": [
    "### Collect Data"
   ]
  },
  {
   "cell_type": "code",
   "execution_count": 3,
   "metadata": {
    "colab": {
     "base_uri": "https://localhost:8080/",
     "height": 34
    },
    "colab_type": "code",
    "id": "XA1WsFSeOIUS",
    "outputId": "100cc7f9-3b81-407b-fdc4-c2a27c76b4cf"
   },
   "outputs": [
    {
     "name": "stderr",
     "output_type": "stream",
     "text": [
      "Using TensorFlow backend.\n"
     ]
    }
   ],
   "source": [
    "import keras"
   ]
  },
  {
   "cell_type": "code",
   "execution_count": 0,
   "metadata": {
    "colab": {},
    "colab_type": "code",
    "id": "qnbx7TyQOIUY"
   },
   "outputs": [],
   "source": [
    "(trainX, trainY), (testX, testY) = keras.datasets.fashion_mnist.load_data()"
   ]
  },
  {
   "cell_type": "code",
   "execution_count": 5,
   "metadata": {
    "colab": {
     "base_uri": "https://localhost:8080/",
     "height": 34
    },
    "colab_type": "code",
    "id": "UbiHj5YPOIUc",
    "outputId": "6044d90c-d712-40e5-be0d-017f8b2a80eb"
   },
   "outputs": [
    {
     "name": "stdout",
     "output_type": "stream",
     "text": [
      "[9 2 1 1 6]\n"
     ]
    }
   ],
   "source": [
    "print(testY[0:5])"
   ]
  },
  {
   "cell_type": "markdown",
   "metadata": {
    "colab_type": "text",
    "id": "lDAYzkwyOIUj"
   },
   "source": [
    "### Convert both training and testing labels into one-hot vectors.\n",
    "\n",
    "**Hint:** check **tf.keras.utils.to_categorical()**"
   ]
  },
  {
   "cell_type": "code",
   "execution_count": 0,
   "metadata": {
    "colab": {},
    "colab_type": "code",
    "id": "vBlfYlANOIUk"
   },
   "outputs": [],
   "source": [
    "trainY = tf.keras.utils.to_categorical(trainY, num_classes=10)\n",
    "testY = tf.keras.utils.to_categorical(testY, num_classes=10)"
   ]
  },
  {
   "cell_type": "code",
   "execution_count": 7,
   "metadata": {
    "colab": {
     "base_uri": "https://localhost:8080/",
     "height": 118
    },
    "colab_type": "code",
    "id": "RHV3b9mzOIUq",
    "outputId": "736b410e-22f0-439e-f8c6-8a4ac4f3c2bd",
    "scrolled": true
   },
   "outputs": [
    {
     "name": "stdout",
     "output_type": "stream",
     "text": [
      "(60000, 10)\n",
      "('First 5 examples now are: ', array([[0., 0., 0., 0., 0., 0., 0., 0., 0., 1.],\n",
      "       [1., 0., 0., 0., 0., 0., 0., 0., 0., 0.],\n",
      "       [1., 0., 0., 0., 0., 0., 0., 0., 0., 0.],\n",
      "       [0., 0., 0., 1., 0., 0., 0., 0., 0., 0.],\n",
      "       [1., 0., 0., 0., 0., 0., 0., 0., 0., 0.]], dtype=float32))\n"
     ]
    }
   ],
   "source": [
    "print(trainY.shape)\n",
    "print('First 5 examples now are: ', trainY[0:5])"
   ]
  },
  {
   "cell_type": "markdown",
   "metadata": {
    "colab_type": "text",
    "id": "FwhQ8e7VOIUw"
   },
   "source": [
    "### Visualize the data\n",
    "\n",
    "Plot first 10 images in the triaining set and their labels."
   ]
  },
  {
   "cell_type": "code",
   "execution_count": 8,
   "metadata": {
    "colab": {
     "base_uri": "https://localhost:8080/",
     "height": 1000
    },
    "colab_type": "code",
    "id": "AvDML2OoOIUx",
    "outputId": "ce21ac90-fd40-4eff-b0c6-0e83f58c8e1e"
   },
   "outputs": [
    {
     "data": {
      "text/plain": [
       "'label for each of the above image:'"
      ]
     },
     "metadata": {
      "tags": []
     },
     "output_type": "display_data"
    },
    {
     "data": {
      "text/plain": [
       "array([[0., 0., 0., 0., 0., 0., 0., 0., 0., 1.],\n",
       "       [1., 0., 0., 0., 0., 0., 0., 0., 0., 0.],\n",
       "       [1., 0., 0., 0., 0., 0., 0., 0., 0., 0.],\n",
       "       [0., 0., 0., 1., 0., 0., 0., 0., 0., 0.],\n",
       "       [1., 0., 0., 0., 0., 0., 0., 0., 0., 0.],\n",
       "       [0., 0., 1., 0., 0., 0., 0., 0., 0., 0.],\n",
       "       [0., 0., 0., 0., 0., 0., 0., 1., 0., 0.],\n",
       "       [0., 0., 1., 0., 0., 0., 0., 0., 0., 0.],\n",
       "       [0., 0., 0., 0., 0., 1., 0., 0., 0., 0.],\n",
       "       [0., 0., 0., 0., 0., 1., 0., 0., 0., 0.]], dtype=float32)"
      ]
     },
     "metadata": {
      "tags": []
     },
     "output_type": "display_data"
    },
    {
     "data": {
      "image/png": "[encoded data removed]",
      "text/plain": [
       "<Figure size 72x72 with 1 Axes>"
      ]
     },
     "metadata": {
      "tags": []
     },
     "output_type": "display_data"
    },
    {
     "data": {
      "image/png": "[encoded data removed]",
      "text/plain": [
       "<Figure size 72x72 with 1 Axes>"
      ]
     },
     "metadata": {
      "tags": []
     },
     "output_type": "display_data"
    },
    {
     "data": {
      "image/png": "[encoded data removed]",
      "text/plain": [
       "<Figure size 72x72 with 1 Axes>"
      ]
     },
     "metadata": {
      "tags": []
     },
     "output_type": "display_data"
    },
    {
     "data": {
      "image/png": "[encoded data removed]",
      "text/plain": [
       "<Figure size 72x72 with 1 Axes>"
      ]
     },
     "metadata": {
      "tags": []
     },
     "output_type": "display_data"
    },
    {
     "data": {
      "image/png": "[encoded data removed]",
      "text/plain": [
       "<Figure size 72x72 with 1 Axes>"
      ]
     },
     "metadata": {
      "tags": []
     },
     "output_type": "display_data"
    },
    {
     "data": {
      "image/png": "[encoded data removed]",
      "text/plain": [
       "<Figure size 72x72 with 1 Axes>"
      ]
     },
     "metadata": {
      "tags": []
     },
     "output_type": "display_data"
    },
    {
     "data": {
      "image/png": "[encoded data removed]",
      "text/plain": [
       "<Figure size 72x72 with 1 Axes>"
      ]
     },
     "metadata": {
      "tags": []
     },
     "output_type": "display_data"
    },
    {
     "data": {
      "image/png": "[encoded data removed]",
      "text/plain": [
       "<Figure size 72x72 with 1 Axes>"
      ]
     },
     "metadata": {
      "tags": []
     },
     "output_type": "display_data"
    },
    {
     "data": {
      "image/png": "[encoded data removed]",
      "text/plain": [
       "<Figure size 72x72 with 1 Axes>"
      ]
     },
     "metadata": {
      "tags": []
     },
     "output_type": "display_data"
    }
   ],
   "source": [
    "display('label for each of the above image:',trainY[[0,1,2,3,4,5,6,7,8,9]])\n",
    "import matplotlib.pyplot as plt\n",
    "for i in range(0,9):\n",
    "  plt.figure(figsize = (1,1))\n",
    "  plt.imshow(trainX[i],cmap='gray')\n",
    "  plt.show()"
   ]
  },
  {
   "cell_type": "markdown",
   "metadata": {
    "colab_type": "text",
    "id": "l4TbJGeSOIU4"
   },
   "source": [
    "### Build a neural Network with a cross entropy loss function and sgd optimizer in Keras. The output layer with 10 neurons as we have 10 classes."
   ]
  },
  {
   "cell_type": "code",
   "execution_count": 0,
   "metadata": {
    "colab": {},
    "colab_type": "code",
    "id": "Ac06XZZTOIU6"
   },
   "outputs": [],
   "source": [
    "\n",
    "#Initialize Sequential model\n",
    "model = tf.keras.models.Sequential()\n",
    "\n",
    "#Reshape data from 2D to 1D -> 28x28 to 784\n",
    "model.add(tf.keras.layers.Reshape((784,),input_shape=(28,28,)))\n"
   ]
  },
  {
   "cell_type": "code",
   "execution_count": 10,
   "metadata": {
    "colab": {
     "base_uri": "https://localhost:8080/",
     "height": 104
    },
    "colab_type": "code",
    "id": "oAW9YK3a5f2g",
    "outputId": "37405f47-4a09-42c2-ae56-f6d4352ddda5"
   },
   "outputs": [
    {
     "name": "stderr",
     "output_type": "stream",
     "text": [
      "WARNING: Logging before flag parsing goes to stderr.\n",
      "W0929 13:10:22.694688 139805810210688 deprecation.py:506] From /usr/local/lib/python2.7/dist-packages/tensorflow/python/ops/init_ops.py:1251: calling __init__ (from tensorflow.python.ops.init_ops) with dtype is deprecated and will be removed in a future version.\n",
      "Instructions for updating:\n",
      "Call initializer instance with the dtype argument instead of passing it to the constructor\n"
     ]
    }
   ],
   "source": [
    "#Add OUTPUT layer\n",
    "model.add(tf.keras.layers.Dense(10, activation='softmax'))"
   ]
  },
  {
   "cell_type": "code",
   "execution_count": 0,
   "metadata": {
    "colab": {},
    "colab_type": "code",
    "id": "FIBtNPKi5f5k"
   },
   "outputs": [],
   "source": [
    "#Compile the model\n",
    "model.compile(optimizer='sgd', loss='categorical_crossentropy', \n",
    "              metrics=['accuracy'])"
   ]
  },
  {
   "cell_type": "code",
   "execution_count": 12,
   "metadata": {
    "colab": {
     "base_uri": "https://localhost:8080/",
     "height": 218
    },
    "colab_type": "code",
    "id": "KsYWSQys5l5K",
    "outputId": "950d6d77-0f04-4358-9f77-db07548c6bdb"
   },
   "outputs": [
    {
     "name": "stdout",
     "output_type": "stream",
     "text": [
      "Model: \"sequential\"\n",
      "_________________________________________________________________\n",
      "Layer (type)                 Output Shape              Param #   \n",
      "=================================================================\n",
      "reshape (Reshape)            (None, 784)               0         \n",
      "_________________________________________________________________\n",
      "dense (Dense)                (None, 10)                7850      \n",
      "=================================================================\n",
      "Total params: 7,850\n",
      "Trainable params: 7,850\n",
      "Non-trainable params: 0\n",
      "_________________________________________________________________\n"
     ]
    }
   ],
   "source": [
    "model.summary()"
   ]
  },
  {
   "cell_type": "code",
   "execution_count": 13,
   "metadata": {
    "colab": {
     "base_uri": "https://localhost:8080/",
     "height": 67
    },
    "colab_type": "code",
    "id": "VE2ite565olI",
    "outputId": "ad65ee1f-3498-4844-c7ba-a3801e215c13"
   },
   "outputs": [
    {
     "name": "stdout",
     "output_type": "stream",
     "text": [
      "Train on 60000 samples, validate on 10000 samples\n",
      "60000/60000 [==============================] - 2s 38us/sample - loss: 2102.6829 - acc: 0.7388 - val_loss: 3697.3106 - val_acc: 0.6306\n"
     ]
    },
    {
     "data": {
      "text/plain": [
       "<tensorflow.python.keras.callbacks.History at 0x7f26d92836d0>"
      ]
     },
     "execution_count": 13,
     "metadata": {
      "tags": []
     },
     "output_type": "execute_result"
    }
   ],
   "source": [
    "model.fit(trainX,trainY,validation_data=(testX,testY))"
   ]
  },
  {
   "cell_type": "markdown",
   "metadata": {
    "colab_type": "text",
    "id": "3hQpLv3aOIU_"
   },
   "source": [
    "### Execute the model using model.fit()"
   ]
  },
  {
   "cell_type": "markdown",
   "metadata": {
    "colab_type": "text",
    "id": "JdzDtGwDOIVF"
   },
   "source": [
    "### In the above Neural Network model add Batch Normalization layer after the input layer and repeat the steps."
   ]
  },
  {
   "cell_type": "code",
   "execution_count": 0,
   "metadata": {
    "colab": {},
    "colab_type": "code",
    "id": "kndfpdidOIVI"
   },
   "outputs": [],
   "source": [
    "\n",
    "#Initialize Sequential model\n",
    "model_1 = tf.keras.models.Sequential()\n",
    "\n",
    "#Reshape data from 2D to 1D -> 28x28 to 784\n",
    "model_1.add(tf.keras.layers.Reshape((784,),input_shape=(28,28,)))\n",
    "\n",
    "#Normalize the data\n",
    "model_1.add(tf.keras.layers.BatchNormalization())\n"
   ]
  },
  {
   "cell_type": "code",
   "execution_count": 0,
   "metadata": {
    "colab": {},
    "colab_type": "code",
    "id": "jSVYJI8JAIua"
   },
   "outputs": [],
   "source": [
    "#Add OUTPUT layer\n",
    "model_1.add(tf.keras.layers.Dense(10, activation='softmax'))"
   ]
  },
  {
   "cell_type": "code",
   "execution_count": 0,
   "metadata": {
    "colab": {},
    "colab_type": "code",
    "id": "QSQkbCfSAWj1"
   },
   "outputs": [],
   "source": [
    "#Compile the model\n",
    "model_1.compile(optimizer='sgd', loss='categorical_crossentropy', \n",
    "              metrics=['accuracy'])"
   ]
  },
  {
   "cell_type": "code",
   "execution_count": 17,
   "metadata": {
    "colab": {
     "base_uri": "https://localhost:8080/",
     "height": 252
    },
    "colab_type": "code",
    "id": "g482q1vlAWnA",
    "outputId": "7d6ea5fb-916a-4d61-afc0-ca7f7f5cc46a"
   },
   "outputs": [
    {
     "name": "stdout",
     "output_type": "stream",
     "text": [
      "Model: \"sequential_1\"\n",
      "_________________________________________________________________\n",
      "Layer (type)                 Output Shape              Param #   \n",
      "=================================================================\n",
      "reshape_1 (Reshape)          (None, 784)               0         \n",
      "_________________________________________________________________\n",
      "batch_normalization (BatchNo (None, 784)               3136      \n",
      "_________________________________________________________________\n",
      "dense_1 (Dense)              (None, 10)                7850      \n",
      "=================================================================\n",
      "Total params: 10,986\n",
      "Trainable params: 9,418\n",
      "Non-trainable params: 1,568\n",
      "_________________________________________________________________\n"
     ]
    }
   ],
   "source": [
    "model_1.summary()"
   ]
  },
  {
   "cell_type": "markdown",
   "metadata": {
    "colab_type": "text",
    "id": "mwk3T5LJOIVN"
   },
   "source": [
    "### Execute the model"
   ]
  },
  {
   "cell_type": "markdown",
   "metadata": {
    "colab_type": "text",
    "id": "A04nUsdB6ba5"
   },
   "source": []
  },
  {
   "cell_type": "code",
   "execution_count": 18,
   "metadata": {
    "colab": {
     "base_uri": "https://localhost:8080/",
     "height": 67
    },
    "colab_type": "code",
    "id": "JNLR8tcBOIVP",
    "outputId": "320b6b86-e47e-4429-bf34-401ff8843b2a"
   },
   "outputs": [
    {
     "name": "stdout",
     "output_type": "stream",
     "text": [
      "Train on 60000 samples, validate on 10000 samples\n",
      "60000/60000 [==============================] - 3s 54us/sample - loss: 0.5912 - acc: 0.7983 - val_loss: 0.5102 - val_acc: 0.8232\n"
     ]
    },
    {
     "data": {
      "text/plain": [
       "<tensorflow.python.keras.callbacks.History at 0x7f26d42929d0>"
      ]
     },
     "execution_count": 18,
     "metadata": {
      "tags": []
     },
     "output_type": "execute_result"
    }
   ],
   "source": [
    "model_1.fit(trainX,trainY, validation_data=(testX,testY))"
   ]
  },
  {
   "cell_type": "markdown",
   "metadata": {
    "colab_type": "text",
    "id": "Py-KwkmjOIVU"
   },
   "source": [
    "### Customize the learning rate to 0.001 in sgd optimizer and run the model"
   ]
  },
  {
   "cell_type": "code",
   "execution_count": 0,
   "metadata": {
    "colab": {},
    "colab_type": "code",
    "id": "69nTF25cGbcy"
   },
   "outputs": [],
   "source": [
    "#from keras.optimizers import SGD\n",
    "from tensorflow.keras.optimizers import SGD\n",
    "\n",
    "#Compile the model - add Loss and Gradient Descent optimizer\n",
    "model_1.compile(optimizer=SGD(lr=0.001), loss='categorical_crossentropy',metrics=['accuracy'])"
   ]
  },
  {
   "cell_type": "code",
   "execution_count": 20,
   "metadata": {
    "colab": {
     "base_uri": "https://localhost:8080/",
     "height": 67
    },
    "colab_type": "code",
    "id": "Y8GhgUdIGbkf",
    "outputId": "dbef5814-58c6-467d-8640-1f1eac339764"
   },
   "outputs": [
    {
     "name": "stdout",
     "output_type": "stream",
     "text": [
      "Train on 60000 samples, validate on 10000 samples\n",
      "60000/60000 [==============================] - 3s 54us/sample - loss: 0.4899 - acc: 0.8319 - val_loss: 0.4984 - val_acc: 0.8290\n"
     ]
    },
    {
     "data": {
      "text/plain": [
       "<tensorflow.python.keras.callbacks.History at 0x7f26d41b5790>"
      ]
     },
     "execution_count": 20,
     "metadata": {
      "tags": []
     },
     "output_type": "execute_result"
    }
   ],
   "source": [
    "model_1.fit(trainX,trainY, validation_data=(testX,testY))"
   ]
  },
  {
   "cell_type": "markdown",
   "metadata": {
    "colab_type": "text",
    "id": "j9CSqKvpOIVk"
   },
   "source": [
    "### Build the Neural Network model with 3 Dense layers with 100,100,10 neurons respectively in each layer. Use cross entropy loss function and singmoid as activation in the hidden layers and softmax as activation function in the output layer. Use sgd optimizer with learning rate 0.03."
   ]
  },
  {
   "cell_type": "code",
   "execution_count": 0,
   "metadata": {
    "colab": {},
    "colab_type": "code",
    "id": "GGAad54JOIVm"
   },
   "outputs": [],
   "source": [
    "#Initialize Sequential model\n",
    "model_2 = tf.keras.models.Sequential()\n",
    "\n",
    "#Reshape data from 2D to 1D -> 28x28 to 784\n",
    "model_2.add(tf.keras.layers.Reshape((784,),input_shape=(28,28,)))\n",
    "\n",
    "#Normalize the data\n",
    "model_2.add(tf.keras.layers.BatchNormalization())"
   ]
  },
  {
   "cell_type": "code",
   "execution_count": 0,
   "metadata": {
    "colab": {},
    "colab_type": "code",
    "id": "MQ7oIymROIVp"
   },
   "outputs": [],
   "source": [
    "#Add 1st hidden layer\n",
    "model_2.add(tf.keras.layers.Dense(100, activation='sigmoid'))"
   ]
  },
  {
   "cell_type": "code",
   "execution_count": 0,
   "metadata": {
    "colab": {},
    "colab_type": "code",
    "id": "X-O-fFxnOIVt"
   },
   "outputs": [],
   "source": [
    "#Add 2nd hidden layer\n",
    "model_2.add(tf.keras.layers.Dense(100, activation='sigmoid'))"
   ]
  },
  {
   "cell_type": "code",
   "execution_count": 0,
   "metadata": {
    "colab": {},
    "colab_type": "code",
    "id": "BiP7IL52OIVw"
   },
   "outputs": [],
   "source": [
    "#Add 3rd hidden layer\n",
    "model_2.add(tf.keras.layers.Dense(10, activation='sigmoid'))"
   ]
  },
  {
   "cell_type": "code",
   "execution_count": 0,
   "metadata": {
    "colab": {},
    "colab_type": "code",
    "id": "8XrGKmrEFA06"
   },
   "outputs": [],
   "source": [
    "#Add OUTPUT layer\n",
    "model_2.add(tf.keras.layers.Dense(10, activation='softmax'))"
   ]
  },
  {
   "cell_type": "code",
   "execution_count": 0,
   "metadata": {
    "colab": {},
    "colab_type": "code",
    "id": "up13OsTrFA97"
   },
   "outputs": [],
   "source": [
    "\n",
    "#Compile the model - add Loss and Gradient Descent optimizer\n",
    "model_2.compile(optimizer=SGD(lr=0.03), loss='categorical_crossentropy',metrics=['accuracy'])"
   ]
  },
  {
   "cell_type": "markdown",
   "metadata": {
    "colab_type": "text",
    "id": "Nr2YsZV0OIV0"
   },
   "source": [
    "## Review model"
   ]
  },
  {
   "cell_type": "code",
   "execution_count": 30,
   "metadata": {
    "colab": {
     "base_uri": "https://localhost:8080/",
     "height": 353
    },
    "colab_type": "code",
    "id": "h4ojW6-oOIV2",
    "outputId": "46eaedc1-c7f7-42dc-e28a-d9b8b7fba5c1"
   },
   "outputs": [
    {
     "name": "stdout",
     "output_type": "stream",
     "text": [
      "Model: \"sequential_2\"\n",
      "_________________________________________________________________\n",
      "Layer (type)                 Output Shape              Param #   \n",
      "=================================================================\n",
      "reshape_2 (Reshape)          (None, 784)               0         \n",
      "_________________________________________________________________\n",
      "batch_normalization_1 (Batch (None, 784)               3136      \n",
      "_________________________________________________________________\n",
      "dense_2 (Dense)              (None, 100)               78500     \n",
      "_________________________________________________________________\n",
      "dense_3 (Dense)              (None, 100)               10100     \n",
      "_________________________________________________________________\n",
      "dense_4 (Dense)              (None, 10)                1010      \n",
      "_________________________________________________________________\n",
      "dense_5 (Dense)              (None, 10)                110       \n",
      "=================================================================\n",
      "Total params: 92,856\n",
      "Trainable params: 91,288\n",
      "Non-trainable params: 1,568\n",
      "_________________________________________________________________\n"
     ]
    }
   ],
   "source": [
    "model_2.summary()"
   ]
  },
  {
   "cell_type": "markdown",
   "metadata": {
    "colab_type": "text",
    "id": "gfFGmbZLOIV5"
   },
   "source": [
    "### Run the model"
   ]
  },
  {
   "cell_type": "code",
   "execution_count": 31,
   "metadata": {
    "colab": {
     "base_uri": "https://localhost:8080/",
     "height": 1000
    },
    "colab_type": "code",
    "id": "Pcg_E4DWFSFA",
    "outputId": "f9391ec4-c7a0-46eb-fe5a-f581c1b4b283"
   },
   "outputs": [
    {
     "name": "stdout",
     "output_type": "stream",
     "text": [
      "Train on 60000 samples, validate on 10000 samples\n",
      "Epoch 1/100\n",
      "60000/60000 [==============================] - 5s 80us/sample - loss: 1.8264 - acc: 0.4444 - val_loss: 1.2271 - val_acc: 0.6318\n",
      "Epoch 2/100\n",
      "60000/60000 [==============================] - 5s 82us/sample - loss: 1.0035 - acc: 0.6556 - val_loss: 0.8427 - val_acc: 0.6903\n",
      "Epoch 3/100\n",
      "60000/60000 [==============================] - 5s 85us/sample - loss: 0.7878 - acc: 0.7057 - val_loss: 0.7091 - val_acc: 0.7364\n",
      "Epoch 4/100\n",
      "60000/60000 [==============================] - 5s 84us/sample - loss: 0.6819 - acc: 0.7516 - val_loss: 0.6310 - val_acc: 0.7726\n",
      "Epoch 5/100\n",
      "60000/60000 [==============================] - 5s 80us/sample - loss: 0.6106 - acc: 0.7848 - val_loss: 0.5763 - val_acc: 0.7991\n",
      "Epoch 6/100\n",
      "60000/60000 [==============================] - 5s 81us/sample - loss: 0.5577 - acc: 0.8099 - val_loss: 0.5370 - val_acc: 0.8152\n",
      "Epoch 7/100\n",
      "60000/60000 [==============================] - 5s 81us/sample - loss: 0.5151 - acc: 0.8244 - val_loss: 0.5003 - val_acc: 0.8278\n",
      "Epoch 8/100\n",
      "60000/60000 [==============================] - 5s 79us/sample - loss: 0.4867 - acc: 0.8333 - val_loss: 0.4743 - val_acc: 0.8343\n",
      "Epoch 9/100\n",
      "60000/60000 [==============================] - 5s 80us/sample - loss: 0.4615 - acc: 0.8428 - val_loss: 0.4584 - val_acc: 0.8408\n",
      "Epoch 10/100\n",
      "60000/60000 [==============================] - 5s 80us/sample - loss: 0.4411 - acc: 0.8488 - val_loss: 0.4420 - val_acc: 0.8450\n",
      "Epoch 11/100\n",
      "60000/60000 [==============================] - 5s 81us/sample - loss: 0.4234 - acc: 0.8531 - val_loss: 0.4258 - val_acc: 0.8497\n",
      "Epoch 12/100\n",
      "60000/60000 [==============================] - 5s 80us/sample - loss: 0.4094 - acc: 0.8594 - val_loss: 0.4177 - val_acc: 0.8532\n",
      "Epoch 13/100\n",
      "60000/60000 [==============================] - 5s 80us/sample - loss: 0.3957 - acc: 0.8633 - val_loss: 0.4112 - val_acc: 0.8586\n",
      "Epoch 14/100\n",
      "60000/60000 [==============================] - 5s 80us/sample - loss: 0.3821 - acc: 0.8680 - val_loss: 0.4026 - val_acc: 0.8603\n",
      "Epoch 15/100\n",
      "60000/60000 [==============================] - 5s 79us/sample - loss: 0.3723 - acc: 0.8704 - val_loss: 0.3934 - val_acc: 0.8617\n",
      "Epoch 16/100\n",
      "60000/60000 [==============================] - 5s 79us/sample - loss: 0.3626 - acc: 0.8734 - val_loss: 0.3911 - val_acc: 0.8617\n",
      "Epoch 17/100\n",
      "60000/60000 [==============================] - 5s 79us/sample - loss: 0.3542 - acc: 0.8761 - val_loss: 0.3878 - val_acc: 0.8620\n",
      "Epoch 18/100\n",
      "60000/60000 [==============================] - 5s 79us/sample - loss: 0.3460 - acc: 0.8807 - val_loss: 0.3886 - val_acc: 0.8618\n",
      "Epoch 19/100\n",
      "60000/60000 [==============================] - 5s 78us/sample - loss: 0.3373 - acc: 0.8825 - val_loss: 0.3787 - val_acc: 0.8681\n",
      "Epoch 20/100\n",
      "60000/60000 [==============================] - 5s 79us/sample - loss: 0.3302 - acc: 0.8851 - val_loss: 0.3716 - val_acc: 0.8690\n",
      "Epoch 21/100\n",
      "60000/60000 [==============================] - 5s 79us/sample - loss: 0.3249 - acc: 0.8857 - val_loss: 0.3661 - val_acc: 0.8723\n",
      "Epoch 22/100\n",
      "60000/60000 [==============================] - 5s 79us/sample - loss: 0.3184 - acc: 0.8877 - val_loss: 0.3689 - val_acc: 0.8677\n",
      "Epoch 23/100\n",
      "60000/60000 [==============================] - 5s 79us/sample - loss: 0.3125 - acc: 0.8894 - val_loss: 0.3586 - val_acc: 0.8743\n",
      "Epoch 24/100\n",
      "60000/60000 [==============================] - 5s 79us/sample - loss: 0.3047 - acc: 0.8916 - val_loss: 0.3625 - val_acc: 0.8708\n",
      "Epoch 25/100\n",
      "60000/60000 [==============================] - 5s 79us/sample - loss: 0.2972 - acc: 0.8948 - val_loss: 0.3690 - val_acc: 0.8694\n",
      "Epoch 26/100\n",
      "60000/60000 [==============================] - 5s 80us/sample - loss: 0.2941 - acc: 0.8968 - val_loss: 0.3548 - val_acc: 0.8744\n",
      "Epoch 27/100\n",
      "60000/60000 [==============================] - 5s 80us/sample - loss: 0.2865 - acc: 0.8979 - val_loss: 0.3598 - val_acc: 0.8738\n",
      "Epoch 28/100\n",
      "60000/60000 [==============================] - 5s 79us/sample - loss: 0.2868 - acc: 0.8985 - val_loss: 0.3647 - val_acc: 0.8744\n",
      "Epoch 29/100\n",
      "60000/60000 [==============================] - 5s 79us/sample - loss: 0.2787 - acc: 0.9018 - val_loss: 0.3757 - val_acc: 0.8671\n",
      "Epoch 30/100\n",
      "60000/60000 [==============================] - 5s 79us/sample - loss: 0.2755 - acc: 0.9012 - val_loss: 0.3601 - val_acc: 0.8772\n",
      "Epoch 31/100\n",
      "60000/60000 [==============================] - 5s 79us/sample - loss: 0.2722 - acc: 0.9037 - val_loss: 0.3547 - val_acc: 0.8780\n",
      "Epoch 32/100\n",
      "60000/60000 [==============================] - 5s 79us/sample - loss: 0.2657 - acc: 0.9058 - val_loss: 0.3506 - val_acc: 0.8765\n",
      "Epoch 33/100\n",
      "60000/60000 [==============================] - 5s 78us/sample - loss: 0.2637 - acc: 0.9053 - val_loss: 0.3507 - val_acc: 0.8753\n",
      "Epoch 34/100\n",
      "60000/60000 [==============================] - 5s 79us/sample - loss: 0.2582 - acc: 0.9082 - val_loss: 0.3593 - val_acc: 0.8753\n",
      "Epoch 35/100\n",
      "60000/60000 [==============================] - 5s 80us/sample - loss: 0.2548 - acc: 0.9087 - val_loss: 0.3608 - val_acc: 0.8744\n",
      "Epoch 36/100\n",
      "60000/60000 [==============================] - 5s 79us/sample - loss: 0.2509 - acc: 0.9107 - val_loss: 0.3482 - val_acc: 0.8785\n",
      "Epoch 37/100\n",
      "60000/60000 [==============================] - 5s 79us/sample - loss: 0.2472 - acc: 0.9119 - val_loss: 0.3589 - val_acc: 0.8734\n",
      "Epoch 38/100\n",
      "60000/60000 [==============================] - 5s 78us/sample - loss: 0.2458 - acc: 0.9119 - val_loss: 0.3834 - val_acc: 0.8677\n",
      "Epoch 39/100\n",
      "60000/60000 [==============================] - 5s 77us/sample - loss: 0.2433 - acc: 0.9136 - val_loss: 0.3495 - val_acc: 0.8780\n",
      "Epoch 40/100\n",
      "60000/60000 [==============================] - 5s 78us/sample - loss: 0.2388 - acc: 0.9139 - val_loss: 0.3580 - val_acc: 0.8765\n",
      "Epoch 41/100\n",
      "60000/60000 [==============================] - 5s 78us/sample - loss: 0.2340 - acc: 0.9176 - val_loss: 0.3506 - val_acc: 0.8807\n",
      "Epoch 42/100\n",
      "60000/60000 [==============================] - 5s 79us/sample - loss: 0.2310 - acc: 0.9188 - val_loss: 0.3471 - val_acc: 0.8800\n",
      "Epoch 43/100\n",
      "60000/60000 [==============================] - 5s 78us/sample - loss: 0.2293 - acc: 0.9178 - val_loss: 0.3525 - val_acc: 0.8787\n",
      "Epoch 44/100\n",
      "60000/60000 [==============================] - 5s 79us/sample - loss: 0.2265 - acc: 0.9183 - val_loss: 0.3663 - val_acc: 0.8754\n",
      "Epoch 45/100\n",
      "60000/60000 [==============================] - 5s 78us/sample - loss: 0.2276 - acc: 0.9189 - val_loss: 0.3505 - val_acc: 0.8801\n",
      "Epoch 46/100\n",
      "60000/60000 [==============================] - 5s 77us/sample - loss: 0.2199 - acc: 0.9215 - val_loss: 0.3581 - val_acc: 0.8766\n",
      "Epoch 47/100\n",
      "60000/60000 [==============================] - 5s 78us/sample - loss: 0.2195 - acc: 0.9210 - val_loss: 0.3719 - val_acc: 0.8763\n",
      "Epoch 48/100\n",
      "60000/60000 [==============================] - 5s 78us/sample - loss: 0.2158 - acc: 0.9232 - val_loss: 0.3550 - val_acc: 0.8797\n",
      "Epoch 49/100\n",
      "60000/60000 [==============================] - 5s 78us/sample - loss: 0.2138 - acc: 0.9242 - val_loss: 0.3699 - val_acc: 0.8711\n",
      "Epoch 50/100\n",
      "60000/60000 [==============================] - 5s 79us/sample - loss: 0.2106 - acc: 0.9257 - val_loss: 0.3678 - val_acc: 0.8765\n",
      "Epoch 51/100\n",
      "60000/60000 [==============================] - 5s 79us/sample - loss: 0.2068 - acc: 0.9260 - val_loss: 0.3574 - val_acc: 0.8804\n",
      "Epoch 52/100\n",
      "60000/60000 [==============================] - 5s 78us/sample - loss: 0.2063 - acc: 0.9271 - val_loss: 0.3548 - val_acc: 0.8827\n",
      "Epoch 53/100\n",
      "60000/60000 [==============================] - 5s 78us/sample - loss: 0.2038 - acc: 0.9266 - val_loss: 0.3744 - val_acc: 0.8785\n",
      "Epoch 54/100\n",
      "60000/60000 [==============================] - 5s 79us/sample - loss: 0.2031 - acc: 0.9279 - val_loss: 0.3609 - val_acc: 0.8764\n",
      "Epoch 55/100\n",
      "60000/60000 [==============================] - 5s 78us/sample - loss: 0.1996 - acc: 0.9287 - val_loss: 0.3649 - val_acc: 0.8775\n",
      "Epoch 56/100\n",
      "60000/60000 [==============================] - 5s 79us/sample - loss: 0.1973 - acc: 0.9296 - val_loss: 0.3535 - val_acc: 0.8833\n",
      "Epoch 57/100\n",
      "60000/60000 [==============================] - 5s 78us/sample - loss: 0.1944 - acc: 0.9305 - val_loss: 0.3753 - val_acc: 0.8765\n",
      "Epoch 58/100\n",
      "60000/60000 [==============================] - 5s 78us/sample - loss: 0.1918 - acc: 0.9310 - val_loss: 0.3682 - val_acc: 0.8776\n",
      "Epoch 59/100\n",
      "60000/60000 [==============================] - 5s 78us/sample - loss: 0.1937 - acc: 0.9303 - val_loss: 0.3722 - val_acc: 0.8742\n",
      "Epoch 60/100\n",
      "60000/60000 [==============================] - 5s 79us/sample - loss: 0.1903 - acc: 0.9326 - val_loss: 0.3656 - val_acc: 0.8780\n",
      "Epoch 61/100\n",
      "60000/60000 [==============================] - 5s 78us/sample - loss: 0.1882 - acc: 0.9323 - val_loss: 0.3651 - val_acc: 0.8782\n",
      "Epoch 62/100\n",
      "60000/60000 [==============================] - 5s 80us/sample - loss: 0.1850 - acc: 0.9331 - val_loss: 0.3679 - val_acc: 0.8800\n",
      "Epoch 63/100\n",
      "60000/60000 [==============================] - 5s 82us/sample - loss: 0.1838 - acc: 0.9345 - val_loss: 0.3702 - val_acc: 0.8763\n",
      "Epoch 64/100\n",
      "60000/60000 [==============================] - 5s 79us/sample - loss: 0.1817 - acc: 0.9364 - val_loss: 0.3680 - val_acc: 0.8788\n",
      "Epoch 65/100\n",
      "60000/60000 [==============================] - 5s 78us/sample - loss: 0.1791 - acc: 0.9354 - val_loss: 0.3711 - val_acc: 0.8756\n",
      "Epoch 66/100\n",
      "60000/60000 [==============================] - 5s 79us/sample - loss: 0.1797 - acc: 0.9350 - val_loss: 0.3756 - val_acc: 0.8769\n",
      "Epoch 67/100\n",
      "60000/60000 [==============================] - 5s 78us/sample - loss: 0.1796 - acc: 0.9354 - val_loss: 0.3722 - val_acc: 0.8810\n",
      "Epoch 68/100\n",
      "60000/60000 [==============================] - 5s 83us/sample - loss: 0.1761 - acc: 0.9372 - val_loss: 0.3751 - val_acc: 0.8773\n",
      "Epoch 69/100\n",
      "60000/60000 [==============================] - 5s 82us/sample - loss: 0.1742 - acc: 0.9376 - val_loss: 0.3654 - val_acc: 0.8813\n",
      "Epoch 70/100\n",
      "60000/60000 [==============================] - 5s 80us/sample - loss: 0.1736 - acc: 0.9376 - val_loss: 0.3772 - val_acc: 0.8779\n",
      "Epoch 71/100\n",
      "60000/60000 [==============================] - 5s 79us/sample - loss: 0.1728 - acc: 0.9377 - val_loss: 0.3713 - val_acc: 0.8766\n",
      "Epoch 72/100\n",
      "60000/60000 [==============================] - 5s 79us/sample - loss: 0.1684 - acc: 0.9404 - val_loss: 0.3982 - val_acc: 0.8734\n",
      "Epoch 73/100\n",
      "60000/60000 [==============================] - 5s 79us/sample - loss: 0.1674 - acc: 0.9404 - val_loss: 0.3766 - val_acc: 0.8826\n",
      "Epoch 74/100\n",
      "60000/60000 [==============================] - 5s 79us/sample - loss: 0.1665 - acc: 0.9402 - val_loss: 0.3752 - val_acc: 0.8816\n",
      "Epoch 75/100\n",
      "60000/60000 [==============================] - 5s 78us/sample - loss: 0.1653 - acc: 0.9413 - val_loss: 0.3843 - val_acc: 0.8777\n",
      "Epoch 76/100\n",
      "60000/60000 [==============================] - 5s 79us/sample - loss: 0.1653 - acc: 0.9395 - val_loss: 0.3869 - val_acc: 0.8782\n",
      "Epoch 77/100\n",
      "60000/60000 [==============================] - 5s 79us/sample - loss: 0.1614 - acc: 0.9423 - val_loss: 0.3827 - val_acc: 0.8779\n",
      "Epoch 78/100\n",
      "60000/60000 [==============================] - 5s 78us/sample - loss: 0.1615 - acc: 0.9427 - val_loss: 0.3805 - val_acc: 0.8776\n",
      "Epoch 79/100\n",
      "60000/60000 [==============================] - 5s 80us/sample - loss: 0.1607 - acc: 0.9419 - val_loss: 0.3881 - val_acc: 0.8774\n",
      "Epoch 80/100\n",
      "60000/60000 [==============================] - 5s 79us/sample - loss: 0.1581 - acc: 0.9440 - val_loss: 0.3868 - val_acc: 0.8809\n",
      "Epoch 81/100\n",
      "60000/60000 [==============================] - 5s 78us/sample - loss: 0.1589 - acc: 0.9436 - val_loss: 0.3885 - val_acc: 0.8820\n",
      "Epoch 82/100\n",
      "60000/60000 [==============================] - 5s 78us/sample - loss: 0.1590 - acc: 0.9421 - val_loss: 0.3897 - val_acc: 0.8769\n",
      "Epoch 83/100\n",
      "60000/60000 [==============================] - 5s 79us/sample - loss: 0.1573 - acc: 0.9438 - val_loss: 0.3933 - val_acc: 0.8798\n",
      "Epoch 84/100\n",
      "60000/60000 [==============================] - 5s 80us/sample - loss: 0.1533 - acc: 0.9451 - val_loss: 0.3936 - val_acc: 0.8780\n",
      "Epoch 85/100\n",
      "60000/60000 [==============================] - 5s 79us/sample - loss: 0.1539 - acc: 0.9449 - val_loss: 0.3859 - val_acc: 0.8807\n",
      "Epoch 86/100\n",
      "60000/60000 [==============================] - 5s 79us/sample - loss: 0.1525 - acc: 0.9452 - val_loss: 0.3930 - val_acc: 0.8766\n",
      "Epoch 87/100\n",
      "60000/60000 [==============================] - 5s 79us/sample - loss: 0.1512 - acc: 0.9457 - val_loss: 0.3925 - val_acc: 0.8797\n",
      "Epoch 88/100\n",
      "60000/60000 [==============================] - 5s 79us/sample - loss: 0.1493 - acc: 0.9469 - val_loss: 0.3978 - val_acc: 0.8771\n",
      "Epoch 89/100\n",
      "60000/60000 [==============================] - 5s 79us/sample - loss: 0.1462 - acc: 0.9484 - val_loss: 0.3985 - val_acc: 0.8783\n",
      "Epoch 90/100\n",
      "60000/60000 [==============================] - 5s 79us/sample - loss: 0.1459 - acc: 0.9475 - val_loss: 0.4015 - val_acc: 0.8797\n",
      "Epoch 91/100\n",
      "60000/60000 [==============================] - 5s 79us/sample - loss: 0.1469 - acc: 0.9474 - val_loss: 0.3836 - val_acc: 0.8804\n",
      "Epoch 92/100\n",
      "60000/60000 [==============================] - 5s 79us/sample - loss: 0.1457 - acc: 0.9470 - val_loss: 0.3962 - val_acc: 0.8797\n",
      "Epoch 93/100\n",
      "60000/60000 [==============================] - 5s 80us/sample - loss: 0.1453 - acc: 0.9491 - val_loss: 0.4089 - val_acc: 0.8753\n",
      "Epoch 94/100\n",
      "60000/60000 [==============================] - 5s 79us/sample - loss: 0.1431 - acc: 0.9489 - val_loss: 0.3839 - val_acc: 0.8818\n",
      "Epoch 95/100\n",
      "60000/60000 [==============================] - 5s 79us/sample - loss: 0.1414 - acc: 0.9489 - val_loss: 0.4085 - val_acc: 0.8786\n",
      "Epoch 96/100\n",
      "60000/60000 [==============================] - 5s 79us/sample - loss: 0.1415 - acc: 0.9492 - val_loss: 0.3966 - val_acc: 0.8817\n",
      "Epoch 97/100\n",
      "60000/60000 [==============================] - 5s 80us/sample - loss: 0.1402 - acc: 0.9501 - val_loss: 0.4000 - val_acc: 0.8809\n",
      "Epoch 98/100\n",
      "60000/60000 [==============================] - 5s 79us/sample - loss: 0.1357 - acc: 0.9511 - val_loss: 0.3997 - val_acc: 0.8779\n",
      "Epoch 99/100\n",
      "60000/60000 [==============================] - 5s 79us/sample - loss: 0.1388 - acc: 0.9495 - val_loss: 0.4012 - val_acc: 0.8786\n",
      "Epoch 100/100\n",
      "60000/60000 [==============================] - 5s 79us/sample - loss: 0.1352 - acc: 0.9512 - val_loss: 0.4045 - val_acc: 0.8792\n"
     ]
    },
    {
     "data": {
      "text/plain": [
       "<tensorflow.python.keras.callbacks.History at 0x7f26d9370e10>"
      ]
     },
     "execution_count": 31,
     "metadata": {
      "tags": []
     },
     "output_type": "execute_result"
    }
   ],
   "source": [
    "model_2.fit(trainX,trainY,          \n",
    "          validation_data=(testX,testY),\n",
    "          epochs=100,\n",
    "          batch_size=32)"
   ]
  },
  {
   "cell_type": "code",
   "execution_count": 32,
   "metadata": {
    "colab": {
     "base_uri": "https://localhost:8080/",
     "height": 269
    },
    "colab_type": "code",
    "id": "bIkbMEN5OIV7",
    "outputId": "6d4f062d-fc42-4f18-a496-806e5aef9927"
   },
   "outputs": [
    {
     "data": {
      "text/plain": [
       "array([[1.14093655e-05, 9.99270499e-01, 8.91655218e-05, 1.76569272e-04,\n",
       "        2.90165597e-04, 2.17296616e-08, 8.29107876e-07, 1.01641897e-04,\n",
       "        1.86881266e-09, 5.96634709e-05],\n",
       "       [1.03588618e-05, 4.17754200e-06, 9.98731911e-01, 1.38595979e-07,\n",
       "        4.09699132e-04, 3.14988178e-08, 8.06889730e-04, 5.41349846e-06,\n",
       "        2.08977144e-05, 1.04849369e-05],\n",
       "       [6.83814069e-05, 1.12578082e-05, 8.16360414e-01, 5.48290627e-05,\n",
       "        1.09969541e-01, 2.86635839e-07, 7.02599287e-02, 5.80894739e-05,\n",
       "        3.20425699e-03, 1.29337313e-05],\n",
       "       [5.70620214e-05, 3.29728272e-10, 1.05775471e-04, 9.47428907e-06,\n",
       "        3.12023644e-06, 9.92130808e-05, 5.13696345e-04, 2.83589679e-06,\n",
       "        9.99164939e-01, 4.39431969e-05],\n",
       "       [9.91802037e-01, 4.07526786e-05, 1.12470050e-04, 6.83489852e-05,\n",
       "        2.08526285e-06, 3.02078183e-06, 7.95664452e-03, 4.59493021e-09,\n",
       "        5.46478805e-06, 9.19789181e-06]], dtype=float32)"
      ]
     },
     "execution_count": 32,
     "metadata": {
      "tags": []
     },
     "output_type": "execute_result"
    }
   ],
   "source": [
    "pred = model_2.predict(testX[15:20])\n",
    "pred"
   ]
  },
  {
   "cell_type": "code",
   "execution_count": 0,
   "metadata": {
    "colab": {},
    "colab_type": "code",
    "id": "z0-ud6hhJWUp"
   },
   "outputs": [],
   "source": [
    "# better the learning rate better the accuracy as seen\n",
    "# model needs to better evaluated for better slopes using loops"
   ]
  },
  {
   "cell_type": "markdown",
   "metadata": {
    "colab_type": "text",
    "id": "yuZWmSI_Ke6M"
   },
   "source": []
  },
  {
   "cell_type": "code",
   "execution_count": 33,
   "metadata": {
    "colab": {
     "base_uri": "https://localhost:8080/",
     "height": 286
    },
    "colab_type": "code",
    "id": "sAmKtqhiKbma",
    "outputId": "838d7281-bf7b-49c5-920e-b9296e6c0b47"
   },
   "outputs": [
    {
     "data": {
      "text/plain": [
       "<matplotlib.image.AxesImage at 0x7f26d3e787d0>"
      ]
     },
     "execution_count": 33,
     "metadata": {
      "tags": []
     },
     "output_type": "execute_result"
    },
    {
     "data": {
      "image/png": "[encoded data removed]",
      "text/plain": [
       "<Figure size 432x288 with 1 Axes>"
      ]
     },
     "metadata": {
      "tags": []
     },
     "output_type": "display_data"
    }
   ],
   "source": [
    "#Lets print the image as well\n",
    "import matplotlib.pyplot as plt\n",
    "\n",
    "plt.imshow(testX[0],cmap='PuBuGn')"
   ]
  },
  {
   "cell_type": "code",
   "execution_count": 0,
   "metadata": {
    "colab": {},
    "colab_type": "code",
    "id": "MrzYts6iKc99"
   },
   "outputs": [],
   "source": []
  }
 ],
 "metadata": {
  "colab": {
   "collapsed_sections": [],
   "name": "R6_ExternalLab_AIML.ipynb",
   "provenance": []
  },
  "kernelspec": {
   "display_name": "Python 3",
   "language": "python",
   "name": "python3"
  },
  "language_info": {
   "codemirror_mode": {
    "name": "ipython",
    "version": 3
   },
   "file_extension": ".py",
   "mimetype": "text/x-python",
   "name": "python",
   "nbconvert_exporter": "python",
   "pygments_lexer": "ipython3",
   "version": "3.7.4"
  }
 },
 "nbformat": 4,
 "nbformat_minor": 1
}
