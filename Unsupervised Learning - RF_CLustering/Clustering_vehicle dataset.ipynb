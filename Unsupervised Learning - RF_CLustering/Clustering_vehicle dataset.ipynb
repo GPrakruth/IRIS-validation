{
 "cells": [
  {
   "cell_type": "markdown",
   "metadata": {},
   "source": [
    "### The data set has information about features of silhouette extracted from the images of different cars\n",
    "\n",
    "Four \"Corgie\" model vehicles were used for the experiment: a double decker bus, Cheverolet van, Saab 9000 and an Opel Manta 400 cars. This particular combination of vehicles was chosen with the expectation that the bus, van and either one of the cars would be readily distinguishable, but it would be more difficult to distinguish between the cars.\n",
    "\n"
   ]
  },
  {
   "cell_type": "markdown",
   "metadata": {},
   "source": [
    "### 1. Read the dataset using function .dropna() - to avoid dealing with NAs as of now"
   ]
  },
  {
   "cell_type": "code",
   "execution_count": 1,
   "metadata": {
    "scrolled": true
   },
   "outputs": [
    {
     "data": {
      "text/html": [
       "<div>\n",
       "<style scoped>\n",
       "    .dataframe tbody tr th:only-of-type {\n",
       "        vertical-align: middle;\n",
       "    }\n",
       "\n",
       "    .dataframe tbody tr th {\n",
       "        vertical-align: top;\n",
       "    }\n",
       "\n",
       "    .dataframe thead th {\n",
       "        text-align: right;\n",
       "    }\n",
       "</style>\n",
       "<table border=\"1\" class=\"dataframe\">\n",
       "  <thead>\n",
       "    <tr style=\"text-align: right;\">\n",
       "      <th></th>\n",
       "      <th>compactness</th>\n",
       "      <th>circularity</th>\n",
       "      <th>distance_circularity</th>\n",
       "      <th>radius_ratio</th>\n",
       "      <th>pr.axis_aspect_ratio</th>\n",
       "      <th>max.length_aspect_ratio</th>\n",
       "      <th>scatter_ratio</th>\n",
       "      <th>elongatedness</th>\n",
       "      <th>pr.axis_rectangularity</th>\n",
       "      <th>max.length_rectangularity</th>\n",
       "      <th>scaled_variance</th>\n",
       "      <th>scaled_variance.1</th>\n",
       "      <th>scaled_radius_of_gyration</th>\n",
       "      <th>scaled_radius_of_gyration.1</th>\n",
       "      <th>skewness_about</th>\n",
       "      <th>skewness_about.1</th>\n",
       "      <th>skewness_about.2</th>\n",
       "      <th>hollows_ratio</th>\n",
       "      <th>class</th>\n",
       "    </tr>\n",
       "  </thead>\n",
       "  <tbody>\n",
       "    <tr>\n",
       "      <th>0</th>\n",
       "      <td>95</td>\n",
       "      <td>48.0</td>\n",
       "      <td>83.0</td>\n",
       "      <td>178.0</td>\n",
       "      <td>72.0</td>\n",
       "      <td>10</td>\n",
       "      <td>162.0</td>\n",
       "      <td>42.0</td>\n",
       "      <td>20.0</td>\n",
       "      <td>159</td>\n",
       "      <td>176.0</td>\n",
       "      <td>379.0</td>\n",
       "      <td>184.0</td>\n",
       "      <td>70.0</td>\n",
       "      <td>6.0</td>\n",
       "      <td>16.0</td>\n",
       "      <td>187.0</td>\n",
       "      <td>197</td>\n",
       "      <td>van</td>\n",
       "    </tr>\n",
       "    <tr>\n",
       "      <th>1</th>\n",
       "      <td>91</td>\n",
       "      <td>41.0</td>\n",
       "      <td>84.0</td>\n",
       "      <td>141.0</td>\n",
       "      <td>57.0</td>\n",
       "      <td>9</td>\n",
       "      <td>149.0</td>\n",
       "      <td>45.0</td>\n",
       "      <td>19.0</td>\n",
       "      <td>143</td>\n",
       "      <td>170.0</td>\n",
       "      <td>330.0</td>\n",
       "      <td>158.0</td>\n",
       "      <td>72.0</td>\n",
       "      <td>9.0</td>\n",
       "      <td>14.0</td>\n",
       "      <td>189.0</td>\n",
       "      <td>199</td>\n",
       "      <td>van</td>\n",
       "    </tr>\n",
       "    <tr>\n",
       "      <th>2</th>\n",
       "      <td>104</td>\n",
       "      <td>50.0</td>\n",
       "      <td>106.0</td>\n",
       "      <td>209.0</td>\n",
       "      <td>66.0</td>\n",
       "      <td>10</td>\n",
       "      <td>207.0</td>\n",
       "      <td>32.0</td>\n",
       "      <td>23.0</td>\n",
       "      <td>158</td>\n",
       "      <td>223.0</td>\n",
       "      <td>635.0</td>\n",
       "      <td>220.0</td>\n",
       "      <td>73.0</td>\n",
       "      <td>14.0</td>\n",
       "      <td>9.0</td>\n",
       "      <td>188.0</td>\n",
       "      <td>196</td>\n",
       "      <td>car</td>\n",
       "    </tr>\n",
       "    <tr>\n",
       "      <th>3</th>\n",
       "      <td>93</td>\n",
       "      <td>41.0</td>\n",
       "      <td>82.0</td>\n",
       "      <td>159.0</td>\n",
       "      <td>63.0</td>\n",
       "      <td>9</td>\n",
       "      <td>144.0</td>\n",
       "      <td>46.0</td>\n",
       "      <td>19.0</td>\n",
       "      <td>143</td>\n",
       "      <td>160.0</td>\n",
       "      <td>309.0</td>\n",
       "      <td>127.0</td>\n",
       "      <td>63.0</td>\n",
       "      <td>6.0</td>\n",
       "      <td>10.0</td>\n",
       "      <td>199.0</td>\n",
       "      <td>207</td>\n",
       "      <td>van</td>\n",
       "    </tr>\n",
       "    <tr>\n",
       "      <th>4</th>\n",
       "      <td>85</td>\n",
       "      <td>44.0</td>\n",
       "      <td>70.0</td>\n",
       "      <td>205.0</td>\n",
       "      <td>103.0</td>\n",
       "      <td>52</td>\n",
       "      <td>149.0</td>\n",
       "      <td>45.0</td>\n",
       "      <td>19.0</td>\n",
       "      <td>144</td>\n",
       "      <td>241.0</td>\n",
       "      <td>325.0</td>\n",
       "      <td>188.0</td>\n",
       "      <td>127.0</td>\n",
       "      <td>9.0</td>\n",
       "      <td>11.0</td>\n",
       "      <td>180.0</td>\n",
       "      <td>183</td>\n",
       "      <td>bus</td>\n",
       "    </tr>\n",
       "  </tbody>\n",
       "</table>\n",
       "</div>"
      ],
      "text/plain": [
       "   compactness  circularity  distance_circularity  radius_ratio  \\\n",
       "0           95         48.0                  83.0         178.0   \n",
       "1           91         41.0                  84.0         141.0   \n",
       "2          104         50.0                 106.0         209.0   \n",
       "3           93         41.0                  82.0         159.0   \n",
       "4           85         44.0                  70.0         205.0   \n",
       "\n",
       "   pr.axis_aspect_ratio  max.length_aspect_ratio  scatter_ratio  \\\n",
       "0                  72.0                       10          162.0   \n",
       "1                  57.0                        9          149.0   \n",
       "2                  66.0                       10          207.0   \n",
       "3                  63.0                        9          144.0   \n",
       "4                 103.0                       52          149.0   \n",
       "\n",
       "   elongatedness  pr.axis_rectangularity  max.length_rectangularity  \\\n",
       "0           42.0                    20.0                        159   \n",
       "1           45.0                    19.0                        143   \n",
       "2           32.0                    23.0                        158   \n",
       "3           46.0                    19.0                        143   \n",
       "4           45.0                    19.0                        144   \n",
       "\n",
       "   scaled_variance  scaled_variance.1  scaled_radius_of_gyration  \\\n",
       "0            176.0              379.0                      184.0   \n",
       "1            170.0              330.0                      158.0   \n",
       "2            223.0              635.0                      220.0   \n",
       "3            160.0              309.0                      127.0   \n",
       "4            241.0              325.0                      188.0   \n",
       "\n",
       "   scaled_radius_of_gyration.1  skewness_about  skewness_about.1  \\\n",
       "0                         70.0             6.0              16.0   \n",
       "1                         72.0             9.0              14.0   \n",
       "2                         73.0            14.0               9.0   \n",
       "3                         63.0             6.0              10.0   \n",
       "4                        127.0             9.0              11.0   \n",
       "\n",
       "   skewness_about.2  hollows_ratio class  \n",
       "0             187.0            197   van  \n",
       "1             189.0            199   van  \n",
       "2             188.0            196   car  \n",
       "3             199.0            207   van  \n",
       "4             180.0            183   bus  "
      ]
     },
     "execution_count": 1,
     "metadata": {},
     "output_type": "execute_result"
    }
   ],
   "source": [
    "import pandas as pd\n",
    "data = pd.read_csv('vehicle.csv').dropna()\n",
    "data.head()"
   ]
  },
  {
   "cell_type": "code",
   "execution_count": 2,
   "metadata": {},
   "outputs": [
    {
     "data": {
      "text/plain": [
       "(813, 19)"
      ]
     },
     "execution_count": 2,
     "metadata": {},
     "output_type": "execute_result"
    }
   ],
   "source": [
    "data.shape"
   ]
  },
  {
   "cell_type": "markdown",
   "metadata": {},
   "source": [
    "### 2. Print/ Plot the dependent (categorical variable) - Class column"
   ]
  },
  {
   "cell_type": "markdown",
   "metadata": {},
   "source": [
    "Since the variable is categorical, you can use value_counts function"
   ]
  },
  {
   "cell_type": "code",
   "execution_count": 3,
   "metadata": {
    "scrolled": true
   },
   "outputs": [
    {
     "data": {
      "text/plain": [
       "car    413\n",
       "bus    205\n",
       "van    195\n",
       "Name: class, dtype: int64"
      ]
     },
     "execution_count": 3,
     "metadata": {},
     "output_type": "execute_result"
    }
   ],
   "source": [
    "data['class'].value_counts()"
   ]
  },
  {
   "cell_type": "code",
   "execution_count": 4,
   "metadata": {},
   "outputs": [
    {
     "data": {
      "text/plain": [
       "<matplotlib.axes._subplots.AxesSubplot at 0x16a5f33df98>"
      ]
     },
     "execution_count": 4,
     "metadata": {},
     "output_type": "execute_result"
    }
   ],
   "source": [
    "pd.value_counts(data['class']).plot(kind = 'bar')"
   ]
  },
  {
   "cell_type": "markdown",
   "metadata": {},
   "source": [
    "### Check for any missing values in the data "
   ]
  },
  {
   "cell_type": "code",
   "execution_count": 5,
   "metadata": {
    "scrolled": true
   },
   "outputs": [
    {
     "name": "stdout",
     "output_type": "stream",
     "text": [
      "<class 'pandas.core.frame.DataFrame'>\n",
      "Int64Index: 813 entries, 0 to 845\n",
      "Data columns (total 19 columns):\n",
      "compactness                    813 non-null int64\n",
      "circularity                    813 non-null float64\n",
      "distance_circularity           813 non-null float64\n",
      "radius_ratio                   813 non-null float64\n",
      "pr.axis_aspect_ratio           813 non-null float64\n",
      "max.length_aspect_ratio        813 non-null int64\n",
      "scatter_ratio                  813 non-null float64\n",
      "elongatedness                  813 non-null float64\n",
      "pr.axis_rectangularity         813 non-null float64\n",
      "max.length_rectangularity      813 non-null int64\n",
      "scaled_variance                813 non-null float64\n",
      "scaled_variance.1              813 non-null float64\n",
      "scaled_radius_of_gyration      813 non-null float64\n",
      "scaled_radius_of_gyration.1    813 non-null float64\n",
      "skewness_about                 813 non-null float64\n",
      "skewness_about.1               813 non-null float64\n",
      "skewness_about.2               813 non-null float64\n",
      "hollows_ratio                  813 non-null int64\n",
      "class                          813 non-null object\n",
      "dtypes: float64(14), int64(4), object(1)\n",
      "memory usage: 127.0+ KB\n"
     ]
    }
   ],
   "source": [
    "data.info()"
   ]
  },
  {
   "cell_type": "code",
   "execution_count": 6,
   "metadata": {
    "scrolled": true
   },
   "outputs": [
    {
     "data": {
      "text/plain": [
       "compactness                    False\n",
       "circularity                    False\n",
       "distance_circularity           False\n",
       "radius_ratio                   False\n",
       "pr.axis_aspect_ratio           False\n",
       "max.length_aspect_ratio        False\n",
       "scatter_ratio                  False\n",
       "elongatedness                  False\n",
       "pr.axis_rectangularity         False\n",
       "max.length_rectangularity      False\n",
       "scaled_variance                False\n",
       "scaled_variance.1              False\n",
       "scaled_radius_of_gyration      False\n",
       "scaled_radius_of_gyration.1    False\n",
       "skewness_about                 False\n",
       "skewness_about.1               False\n",
       "skewness_about.2               False\n",
       "hollows_ratio                  False\n",
       "class                          False\n",
       "dtype: bool"
      ]
     },
     "execution_count": 6,
     "metadata": {},
     "output_type": "execute_result"
    }
   ],
   "source": [
    "data.isna().any()"
   ]
  },
  {
   "cell_type": "code",
   "execution_count": 7,
   "metadata": {},
   "outputs": [
    {
     "data": {
      "text/html": [
       "<div>\n",
       "<style scoped>\n",
       "    .dataframe tbody tr th:only-of-type {\n",
       "        vertical-align: middle;\n",
       "    }\n",
       "\n",
       "    .dataframe tbody tr th {\n",
       "        vertical-align: top;\n",
       "    }\n",
       "\n",
       "    .dataframe thead th {\n",
       "        text-align: right;\n",
       "    }\n",
       "</style>\n",
       "<table border=\"1\" class=\"dataframe\">\n",
       "  <thead>\n",
       "    <tr style=\"text-align: right;\">\n",
       "      <th></th>\n",
       "      <th>count</th>\n",
       "      <th>unique</th>\n",
       "      <th>top</th>\n",
       "      <th>freq</th>\n",
       "      <th>mean</th>\n",
       "      <th>std</th>\n",
       "      <th>min</th>\n",
       "      <th>25%</th>\n",
       "      <th>50%</th>\n",
       "      <th>75%</th>\n",
       "      <th>max</th>\n",
       "    </tr>\n",
       "  </thead>\n",
       "  <tbody>\n",
       "    <tr>\n",
       "      <th>compactness</th>\n",
       "      <td>813</td>\n",
       "      <td>NaN</td>\n",
       "      <td>NaN</td>\n",
       "      <td>NaN</td>\n",
       "      <td>93.6568</td>\n",
       "      <td>8.23375</td>\n",
       "      <td>73</td>\n",
       "      <td>87</td>\n",
       "      <td>93</td>\n",
       "      <td>100</td>\n",
       "      <td>119</td>\n",
       "    </tr>\n",
       "    <tr>\n",
       "      <th>circularity</th>\n",
       "      <td>813</td>\n",
       "      <td>NaN</td>\n",
       "      <td>NaN</td>\n",
       "      <td>NaN</td>\n",
       "      <td>44.8032</td>\n",
       "      <td>6.14666</td>\n",
       "      <td>33</td>\n",
       "      <td>40</td>\n",
       "      <td>44</td>\n",
       "      <td>49</td>\n",
       "      <td>59</td>\n",
       "    </tr>\n",
       "    <tr>\n",
       "      <th>distance_circularity</th>\n",
       "      <td>813</td>\n",
       "      <td>NaN</td>\n",
       "      <td>NaN</td>\n",
       "      <td>NaN</td>\n",
       "      <td>82.0431</td>\n",
       "      <td>15.7831</td>\n",
       "      <td>40</td>\n",
       "      <td>70</td>\n",
       "      <td>79</td>\n",
       "      <td>98</td>\n",
       "      <td>112</td>\n",
       "    </tr>\n",
       "    <tr>\n",
       "      <th>radius_ratio</th>\n",
       "      <td>813</td>\n",
       "      <td>NaN</td>\n",
       "      <td>NaN</td>\n",
       "      <td>NaN</td>\n",
       "      <td>169.098</td>\n",
       "      <td>33.6154</td>\n",
       "      <td>104</td>\n",
       "      <td>141</td>\n",
       "      <td>167</td>\n",
       "      <td>195</td>\n",
       "      <td>333</td>\n",
       "    </tr>\n",
       "    <tr>\n",
       "      <th>pr.axis_aspect_ratio</th>\n",
       "      <td>813</td>\n",
       "      <td>NaN</td>\n",
       "      <td>NaN</td>\n",
       "      <td>NaN</td>\n",
       "      <td>61.7749</td>\n",
       "      <td>7.973</td>\n",
       "      <td>47</td>\n",
       "      <td>57</td>\n",
       "      <td>61</td>\n",
       "      <td>65</td>\n",
       "      <td>138</td>\n",
       "    </tr>\n",
       "    <tr>\n",
       "      <th>max.length_aspect_ratio</th>\n",
       "      <td>813</td>\n",
       "      <td>NaN</td>\n",
       "      <td>NaN</td>\n",
       "      <td>NaN</td>\n",
       "      <td>8.59902</td>\n",
       "      <td>4.67717</td>\n",
       "      <td>2</td>\n",
       "      <td>7</td>\n",
       "      <td>8</td>\n",
       "      <td>10</td>\n",
       "      <td>55</td>\n",
       "    </tr>\n",
       "    <tr>\n",
       "      <th>scatter_ratio</th>\n",
       "      <td>813</td>\n",
       "      <td>NaN</td>\n",
       "      <td>NaN</td>\n",
       "      <td>NaN</td>\n",
       "      <td>168.563</td>\n",
       "      <td>33.0822</td>\n",
       "      <td>112</td>\n",
       "      <td>146</td>\n",
       "      <td>157</td>\n",
       "      <td>198</td>\n",
       "      <td>265</td>\n",
       "    </tr>\n",
       "    <tr>\n",
       "      <th>elongatedness</th>\n",
       "      <td>813</td>\n",
       "      <td>NaN</td>\n",
       "      <td>NaN</td>\n",
       "      <td>NaN</td>\n",
       "      <td>40.9889</td>\n",
       "      <td>7.80338</td>\n",
       "      <td>26</td>\n",
       "      <td>33</td>\n",
       "      <td>43</td>\n",
       "      <td>46</td>\n",
       "      <td>61</td>\n",
       "    </tr>\n",
       "    <tr>\n",
       "      <th>pr.axis_rectangularity</th>\n",
       "      <td>813</td>\n",
       "      <td>NaN</td>\n",
       "      <td>NaN</td>\n",
       "      <td>NaN</td>\n",
       "      <td>20.5584</td>\n",
       "      <td>2.57318</td>\n",
       "      <td>17</td>\n",
       "      <td>19</td>\n",
       "      <td>20</td>\n",
       "      <td>23</td>\n",
       "      <td>29</td>\n",
       "    </tr>\n",
       "    <tr>\n",
       "      <th>max.length_rectangularity</th>\n",
       "      <td>813</td>\n",
       "      <td>NaN</td>\n",
       "      <td>NaN</td>\n",
       "      <td>NaN</td>\n",
       "      <td>147.892</td>\n",
       "      <td>14.5046</td>\n",
       "      <td>118</td>\n",
       "      <td>137</td>\n",
       "      <td>146</td>\n",
       "      <td>159</td>\n",
       "      <td>188</td>\n",
       "    </tr>\n",
       "    <tr>\n",
       "      <th>scaled_variance</th>\n",
       "      <td>813</td>\n",
       "      <td>NaN</td>\n",
       "      <td>NaN</td>\n",
       "      <td>NaN</td>\n",
       "      <td>188.378</td>\n",
       "      <td>31.1659</td>\n",
       "      <td>130</td>\n",
       "      <td>167</td>\n",
       "      <td>179</td>\n",
       "      <td>217</td>\n",
       "      <td>320</td>\n",
       "    </tr>\n",
       "    <tr>\n",
       "      <th>scaled_variance.1</th>\n",
       "      <td>813</td>\n",
       "      <td>NaN</td>\n",
       "      <td>NaN</td>\n",
       "      <td>NaN</td>\n",
       "      <td>438.383</td>\n",
       "      <td>175.27</td>\n",
       "      <td>184</td>\n",
       "      <td>318</td>\n",
       "      <td>364</td>\n",
       "      <td>586</td>\n",
       "      <td>1018</td>\n",
       "    </tr>\n",
       "    <tr>\n",
       "      <th>scaled_radius_of_gyration</th>\n",
       "      <td>813</td>\n",
       "      <td>NaN</td>\n",
       "      <td>NaN</td>\n",
       "      <td>NaN</td>\n",
       "      <td>174.252</td>\n",
       "      <td>32.3322</td>\n",
       "      <td>109</td>\n",
       "      <td>149</td>\n",
       "      <td>173</td>\n",
       "      <td>198</td>\n",
       "      <td>268</td>\n",
       "    </tr>\n",
       "    <tr>\n",
       "      <th>scaled_radius_of_gyration.1</th>\n",
       "      <td>813</td>\n",
       "      <td>NaN</td>\n",
       "      <td>NaN</td>\n",
       "      <td>NaN</td>\n",
       "      <td>72.3998</td>\n",
       "      <td>7.47599</td>\n",
       "      <td>59</td>\n",
       "      <td>67</td>\n",
       "      <td>71</td>\n",
       "      <td>75</td>\n",
       "      <td>135</td>\n",
       "    </tr>\n",
       "    <tr>\n",
       "      <th>skewness_about</th>\n",
       "      <td>813</td>\n",
       "      <td>NaN</td>\n",
       "      <td>NaN</td>\n",
       "      <td>NaN</td>\n",
       "      <td>6.35178</td>\n",
       "      <td>4.92148</td>\n",
       "      <td>0</td>\n",
       "      <td>2</td>\n",
       "      <td>6</td>\n",
       "      <td>9</td>\n",
       "      <td>22</td>\n",
       "    </tr>\n",
       "    <tr>\n",
       "      <th>skewness_about.1</th>\n",
       "      <td>813</td>\n",
       "      <td>NaN</td>\n",
       "      <td>NaN</td>\n",
       "      <td>NaN</td>\n",
       "      <td>12.6876</td>\n",
       "      <td>8.92695</td>\n",
       "      <td>0</td>\n",
       "      <td>6</td>\n",
       "      <td>11</td>\n",
       "      <td>19</td>\n",
       "      <td>41</td>\n",
       "    </tr>\n",
       "    <tr>\n",
       "      <th>skewness_about.2</th>\n",
       "      <td>813</td>\n",
       "      <td>NaN</td>\n",
       "      <td>NaN</td>\n",
       "      <td>NaN</td>\n",
       "      <td>188.979</td>\n",
       "      <td>6.15368</td>\n",
       "      <td>176</td>\n",
       "      <td>184</td>\n",
       "      <td>189</td>\n",
       "      <td>193</td>\n",
       "      <td>206</td>\n",
       "    </tr>\n",
       "    <tr>\n",
       "      <th>hollows_ratio</th>\n",
       "      <td>813</td>\n",
       "      <td>NaN</td>\n",
       "      <td>NaN</td>\n",
       "      <td>NaN</td>\n",
       "      <td>195.729</td>\n",
       "      <td>7.39878</td>\n",
       "      <td>181</td>\n",
       "      <td>191</td>\n",
       "      <td>197</td>\n",
       "      <td>201</td>\n",
       "      <td>211</td>\n",
       "    </tr>\n",
       "    <tr>\n",
       "      <th>class</th>\n",
       "      <td>813</td>\n",
       "      <td>3</td>\n",
       "      <td>car</td>\n",
       "      <td>413</td>\n",
       "      <td>NaN</td>\n",
       "      <td>NaN</td>\n",
       "      <td>NaN</td>\n",
       "      <td>NaN</td>\n",
       "      <td>NaN</td>\n",
       "      <td>NaN</td>\n",
       "      <td>NaN</td>\n",
       "    </tr>\n",
       "  </tbody>\n",
       "</table>\n",
       "</div>"
      ],
      "text/plain": [
       "                            count unique  top freq     mean      std  min  \\\n",
       "compactness                   813    NaN  NaN  NaN  93.6568  8.23375   73   \n",
       "circularity                   813    NaN  NaN  NaN  44.8032  6.14666   33   \n",
       "distance_circularity          813    NaN  NaN  NaN  82.0431  15.7831   40   \n",
       "radius_ratio                  813    NaN  NaN  NaN  169.098  33.6154  104   \n",
       "pr.axis_aspect_ratio          813    NaN  NaN  NaN  61.7749    7.973   47   \n",
       "max.length_aspect_ratio       813    NaN  NaN  NaN  8.59902  4.67717    2   \n",
       "scatter_ratio                 813    NaN  NaN  NaN  168.563  33.0822  112   \n",
       "elongatedness                 813    NaN  NaN  NaN  40.9889  7.80338   26   \n",
       "pr.axis_rectangularity        813    NaN  NaN  NaN  20.5584  2.57318   17   \n",
       "max.length_rectangularity     813    NaN  NaN  NaN  147.892  14.5046  118   \n",
       "scaled_variance               813    NaN  NaN  NaN  188.378  31.1659  130   \n",
       "scaled_variance.1             813    NaN  NaN  NaN  438.383   175.27  184   \n",
       "scaled_radius_of_gyration     813    NaN  NaN  NaN  174.252  32.3322  109   \n",
       "scaled_radius_of_gyration.1   813    NaN  NaN  NaN  72.3998  7.47599   59   \n",
       "skewness_about                813    NaN  NaN  NaN  6.35178  4.92148    0   \n",
       "skewness_about.1              813    NaN  NaN  NaN  12.6876  8.92695    0   \n",
       "skewness_about.2              813    NaN  NaN  NaN  188.979  6.15368  176   \n",
       "hollows_ratio                 813    NaN  NaN  NaN  195.729  7.39878  181   \n",
       "class                         813      3  car  413      NaN      NaN  NaN   \n",
       "\n",
       "                             25%  50%  75%   max  \n",
       "compactness                   87   93  100   119  \n",
       "circularity                   40   44   49    59  \n",
       "distance_circularity          70   79   98   112  \n",
       "radius_ratio                 141  167  195   333  \n",
       "pr.axis_aspect_ratio          57   61   65   138  \n",
       "max.length_aspect_ratio        7    8   10    55  \n",
       "scatter_ratio                146  157  198   265  \n",
       "elongatedness                 33   43   46    61  \n",
       "pr.axis_rectangularity        19   20   23    29  \n",
       "max.length_rectangularity    137  146  159   188  \n",
       "scaled_variance              167  179  217   320  \n",
       "scaled_variance.1            318  364  586  1018  \n",
       "scaled_radius_of_gyration    149  173  198   268  \n",
       "scaled_radius_of_gyration.1   67   71   75   135  \n",
       "skewness_about                 2    6    9    22  \n",
       "skewness_about.1               6   11   19    41  \n",
       "skewness_about.2             184  189  193   206  \n",
       "hollows_ratio                191  197  201   211  \n",
       "class                        NaN  NaN  NaN   NaN  "
      ]
     },
     "execution_count": 7,
     "metadata": {},
     "output_type": "execute_result"
    }
   ],
   "source": [
    "data.describe(include='all').T"
   ]
  },
  {
   "cell_type": "markdown",
   "metadata": {},
   "source": [
    "### 3. Standardize the data "
   ]
  },
  {
   "cell_type": "code",
   "execution_count": 8,
   "metadata": {},
   "outputs": [],
   "source": [
    "data_stan=data.drop(columns=['class'])"
   ]
  },
  {
   "cell_type": "markdown",
   "metadata": {},
   "source": [
    "Since the dimensions of the data are not really known to us, it would be wise to standardize the data using z scores before we go for any clustering methods.\n",
    "You can use zscore function to do this"
   ]
  },
  {
   "cell_type": "code",
   "execution_count": 9,
   "metadata": {},
   "outputs": [
    {
     "data": {
      "text/plain": [
       "(813, 18)"
      ]
     },
     "execution_count": 9,
     "metadata": {},
     "output_type": "execute_result"
    }
   ],
   "source": [
    "from scipy.stats import zscore\n",
    "data_stan = data_stan.apply(zscore)\n",
    "data_stan.shape"
   ]
  },
  {
   "cell_type": "code",
   "execution_count": 10,
   "metadata": {},
   "outputs": [
    {
     "data": {
      "text/html": [
       "<div>\n",
       "<style scoped>\n",
       "    .dataframe tbody tr th:only-of-type {\n",
       "        vertical-align: middle;\n",
       "    }\n",
       "\n",
       "    .dataframe tbody tr th {\n",
       "        vertical-align: top;\n",
       "    }\n",
       "\n",
       "    .dataframe thead th {\n",
       "        text-align: right;\n",
       "    }\n",
       "</style>\n",
       "<table border=\"1\" class=\"dataframe\">\n",
       "  <thead>\n",
       "    <tr style=\"text-align: right;\">\n",
       "      <th></th>\n",
       "      <th>compactness</th>\n",
       "      <th>circularity</th>\n",
       "      <th>distance_circularity</th>\n",
       "      <th>radius_ratio</th>\n",
       "      <th>pr.axis_aspect_ratio</th>\n",
       "      <th>max.length_aspect_ratio</th>\n",
       "      <th>scatter_ratio</th>\n",
       "      <th>elongatedness</th>\n",
       "      <th>pr.axis_rectangularity</th>\n",
       "      <th>max.length_rectangularity</th>\n",
       "      <th>scaled_variance</th>\n",
       "      <th>scaled_variance.1</th>\n",
       "      <th>scaled_radius_of_gyration</th>\n",
       "      <th>scaled_radius_of_gyration.1</th>\n",
       "      <th>skewness_about</th>\n",
       "      <th>skewness_about.1</th>\n",
       "      <th>skewness_about.2</th>\n",
       "      <th>hollows_ratio</th>\n",
       "    </tr>\n",
       "  </thead>\n",
       "  <tbody>\n",
       "    <tr>\n",
       "      <th>0</th>\n",
       "      <td>0.163231</td>\n",
       "      <td>0.520408</td>\n",
       "      <td>0.060669</td>\n",
       "      <td>0.264970</td>\n",
       "      <td>1.283254</td>\n",
       "      <td>0.299721</td>\n",
       "      <td>-0.198517</td>\n",
       "      <td>0.129648</td>\n",
       "      <td>-0.217151</td>\n",
       "      <td>0.766312</td>\n",
       "      <td>-0.397397</td>\n",
       "      <td>-0.339014</td>\n",
       "      <td>0.301676</td>\n",
       "      <td>-0.321192</td>\n",
       "      <td>-0.071523</td>\n",
       "      <td>0.371287</td>\n",
       "      <td>-0.321809</td>\n",
       "      <td>0.171837</td>\n",
       "    </tr>\n",
       "    <tr>\n",
       "      <th>1</th>\n",
       "      <td>-0.322874</td>\n",
       "      <td>-0.619123</td>\n",
       "      <td>0.124067</td>\n",
       "      <td>-0.836393</td>\n",
       "      <td>-0.599253</td>\n",
       "      <td>0.085785</td>\n",
       "      <td>-0.591720</td>\n",
       "      <td>0.514333</td>\n",
       "      <td>-0.606014</td>\n",
       "      <td>-0.337462</td>\n",
       "      <td>-0.590034</td>\n",
       "      <td>-0.618754</td>\n",
       "      <td>-0.502972</td>\n",
       "      <td>-0.053505</td>\n",
       "      <td>0.538425</td>\n",
       "      <td>0.147109</td>\n",
       "      <td>0.003400</td>\n",
       "      <td>0.442318</td>\n",
       "    </tr>\n",
       "    <tr>\n",
       "      <th>2</th>\n",
       "      <td>1.256966</td>\n",
       "      <td>0.845988</td>\n",
       "      <td>1.518823</td>\n",
       "      <td>1.187734</td>\n",
       "      <td>0.530251</td>\n",
       "      <td>0.299721</td>\n",
       "      <td>1.162569</td>\n",
       "      <td>-1.152637</td>\n",
       "      <td>0.949438</td>\n",
       "      <td>0.697326</td>\n",
       "      <td>1.111591</td>\n",
       "      <td>1.122486</td>\n",
       "      <td>1.415804</td>\n",
       "      <td>0.080339</td>\n",
       "      <td>1.555006</td>\n",
       "      <td>-0.413338</td>\n",
       "      <td>-0.159204</td>\n",
       "      <td>0.036596</td>\n",
       "    </tr>\n",
       "    <tr>\n",
       "      <th>3</th>\n",
       "      <td>-0.079822</td>\n",
       "      <td>-0.619123</td>\n",
       "      <td>-0.002729</td>\n",
       "      <td>-0.300595</td>\n",
       "      <td>0.153750</td>\n",
       "      <td>0.085785</td>\n",
       "      <td>-0.742952</td>\n",
       "      <td>0.642562</td>\n",
       "      <td>-0.606014</td>\n",
       "      <td>-0.337462</td>\n",
       "      <td>-0.911095</td>\n",
       "      <td>-0.738643</td>\n",
       "      <td>-1.462359</td>\n",
       "      <td>-1.258099</td>\n",
       "      <td>-0.071523</td>\n",
       "      <td>-0.301249</td>\n",
       "      <td>1.629444</td>\n",
       "      <td>1.524243</td>\n",
       "    </tr>\n",
       "    <tr>\n",
       "      <th>4</th>\n",
       "      <td>-1.052030</td>\n",
       "      <td>-0.130753</td>\n",
       "      <td>-0.763506</td>\n",
       "      <td>1.068668</td>\n",
       "      <td>5.173770</td>\n",
       "      <td>9.285029</td>\n",
       "      <td>-0.591720</td>\n",
       "      <td>0.514333</td>\n",
       "      <td>-0.606014</td>\n",
       "      <td>-0.268476</td>\n",
       "      <td>1.689501</td>\n",
       "      <td>-0.647299</td>\n",
       "      <td>0.425468</td>\n",
       "      <td>7.307905</td>\n",
       "      <td>0.538425</td>\n",
       "      <td>-0.189159</td>\n",
       "      <td>-1.460039</td>\n",
       "      <td>-1.721531</td>\n",
       "    </tr>\n",
       "  </tbody>\n",
       "</table>\n",
       "</div>"
      ],
      "text/plain": [
       "   compactness  circularity  distance_circularity  radius_ratio  \\\n",
       "0     0.163231     0.520408              0.060669      0.264970   \n",
       "1    -0.322874    -0.619123              0.124067     -0.836393   \n",
       "2     1.256966     0.845988              1.518823      1.187734   \n",
       "3    -0.079822    -0.619123             -0.002729     -0.300595   \n",
       "4    -1.052030    -0.130753             -0.763506      1.068668   \n",
       "\n",
       "   pr.axis_aspect_ratio  max.length_aspect_ratio  scatter_ratio  \\\n",
       "0              1.283254                 0.299721      -0.198517   \n",
       "1             -0.599253                 0.085785      -0.591720   \n",
       "2              0.530251                 0.299721       1.162569   \n",
       "3              0.153750                 0.085785      -0.742952   \n",
       "4              5.173770                 9.285029      -0.591720   \n",
       "\n",
       "   elongatedness  pr.axis_rectangularity  max.length_rectangularity  \\\n",
       "0       0.129648               -0.217151                   0.766312   \n",
       "1       0.514333               -0.606014                  -0.337462   \n",
       "2      -1.152637                0.949438                   0.697326   \n",
       "3       0.642562               -0.606014                  -0.337462   \n",
       "4       0.514333               -0.606014                  -0.268476   \n",
       "\n",
       "   scaled_variance  scaled_variance.1  scaled_radius_of_gyration  \\\n",
       "0        -0.397397          -0.339014                   0.301676   \n",
       "1        -0.590034          -0.618754                  -0.502972   \n",
       "2         1.111591           1.122486                   1.415804   \n",
       "3        -0.911095          -0.738643                  -1.462359   \n",
       "4         1.689501          -0.647299                   0.425468   \n",
       "\n",
       "   scaled_radius_of_gyration.1  skewness_about  skewness_about.1  \\\n",
       "0                    -0.321192       -0.071523          0.371287   \n",
       "1                    -0.053505        0.538425          0.147109   \n",
       "2                     0.080339        1.555006         -0.413338   \n",
       "3                    -1.258099       -0.071523         -0.301249   \n",
       "4                     7.307905        0.538425         -0.189159   \n",
       "\n",
       "   skewness_about.2  hollows_ratio  \n",
       "0         -0.321809       0.171837  \n",
       "1          0.003400       0.442318  \n",
       "2         -0.159204       0.036596  \n",
       "3          1.629444       1.524243  \n",
       "4         -1.460039      -1.721531  "
      ]
     },
     "execution_count": 10,
     "metadata": {},
     "output_type": "execute_result"
    }
   ],
   "source": [
    "data_stan.head()"
   ]
  },
  {
   "cell_type": "code",
   "execution_count": 11,
   "metadata": {},
   "outputs": [],
   "source": [
    "## Dataset is now standardized with z-score"
   ]
  },
  {
   "cell_type": "markdown",
   "metadata": {},
   "source": [
    "### K - Means Clustering"
   ]
  },
  {
   "cell_type": "markdown",
   "metadata": {},
   "source": [
    "### 4. Assign a dummy array called distortion"
   ]
  },
  {
   "cell_type": "code",
   "execution_count": 12,
   "metadata": {},
   "outputs": [],
   "source": [
    "distortions=[]"
   ]
  },
  {
   "cell_type": "markdown",
   "metadata": {},
   "source": [
    "You can later use this array to plot the elbow plot"
   ]
  },
  {
   "cell_type": "markdown",
   "metadata": {},
   "source": [
    "### 5. Calculating distortion - C distance"
   ]
  },
  {
   "cell_type": "code",
   "execution_count": 13,
   "metadata": {},
   "outputs": [],
   "source": [
    "import matplotlib.pyplot as plt\n",
    "from sklearn.cluster import KMeans"
   ]
  },
  {
   "cell_type": "code",
   "execution_count": 14,
   "metadata": {},
   "outputs": [],
   "source": [
    "for i in range(1, 11):\n",
    "    km = KMeans(\n",
    "        n_clusters=i, random_state=6\n",
    "    )\n",
    "    km.fit(data_stan)\n",
    "    distortions.append(km.inertia_)"
   ]
  },
  {
   "cell_type": "code",
   "execution_count": 15,
   "metadata": {},
   "outputs": [
    {
     "data": {
      "text/plain": [
       "[14634.0,\n",
       " 8623.13697598644,\n",
       " 7037.467394618071,\n",
       " 5740.555573800161,\n",
       " 5186.567403420999,\n",
       " 4707.810964469131,\n",
       " 4349.716601998742,\n",
       " 4089.5108722769155,\n",
       " 3845.8724302873616,\n",
       " 3659.925716692797]"
      ]
     },
     "execution_count": 15,
     "metadata": {},
     "output_type": "execute_result"
    }
   ],
   "source": [
    "## C-Distance:\n",
    "distortions"
   ]
  },
  {
   "cell_type": "markdown",
   "metadata": {},
   "source": [
    "Iterating values of k from 1 to 10 fit K means model\n",
    "Using c distance - Get the measure for Sum of squares error."
   ]
  },
  {
   "cell_type": "markdown",
   "metadata": {},
   "source": [
    "### 6. Plotting Elbow/ Scree Plot"
   ]
  },
  {
   "cell_type": "code",
   "execution_count": 16,
   "metadata": {
    "scrolled": true
   },
   "outputs": [
    {
     "data": {
      "image/png": "[encoded data removed]",
      "text/plain": [
       "<Figure size 432x288 with 1 Axes>"
      ]
     },
     "metadata": {
      "needs_background": "light"
     },
     "output_type": "display_data"
    }
   ],
   "source": [
    "# plot\n",
    "plt.plot(range(1, 11), distortions, marker='o')\n",
    "plt.xlabel('Number of clusters')\n",
    "plt.ylabel('Distortion')\n",
    "plt.show()"
   ]
  },
  {
   "cell_type": "markdown",
   "metadata": {},
   "source": [
    "Use Matplotlib to plot the scree plot - Note: Scree plot plots distortion vs the no of clusters"
   ]
  },
  {
   "cell_type": "markdown",
   "metadata": {},
   "source": [
    "### Find out the optimal value of K"
   ]
  },
  {
   "cell_type": "code",
   "execution_count": 17,
   "metadata": {},
   "outputs": [],
   "source": [
    "## From the elbow curve, we can observe an optimum K values as 4, post which the decrease is not so steep"
   ]
  },
  {
   "cell_type": "markdown",
   "metadata": {},
   "source": [
    "### Using optimal value of K - Cluster the data. \n",
    "Note: Since the data has more than 2 dimension we cannot visualize the data. As an alternative, we can observe the centroids and note how they are distributed across different dimensions"
   ]
  },
  {
   "cell_type": "code",
   "execution_count": 18,
   "metadata": {},
   "outputs": [
    {
     "data": {
      "text/plain": [
       "KMeans(algorithm='auto', copy_x=True, init='k-means++', max_iter=300,\n",
       "    n_clusters=4, n_init=10, n_jobs=None, precompute_distances='auto',\n",
       "    random_state=6, tol=0.0001, verbose=0)"
      ]
     },
     "execution_count": 18,
     "metadata": {},
     "output_type": "execute_result"
    }
   ],
   "source": [
    "km_data_opt = KMeans(n_clusters=4,random_state=6)\n",
    "km_data_opt.fit(data_stan)"
   ]
  },
  {
   "cell_type": "markdown",
   "metadata": {},
   "source": [
    "You can use kmeans.cluster_centers_ function to pull the centroid information from the instance"
   ]
  },
  {
   "cell_type": "code",
   "execution_count": 19,
   "metadata": {},
   "outputs": [
    {
     "data": {
      "text/plain": [
       "array([[-8.93707504e-01, -4.85518520e-01, -8.51656762e-01,\n",
       "        -1.04902870e+00, -5.22253048e-01, -2.79014211e-01,\n",
       "        -7.60545198e-01,  8.39247071e-01, -7.28404929e-01,\n",
       "        -4.41353225e-01, -7.82031265e-01, -7.67733496e-01,\n",
       "        -3.62041035e-01,  7.50091502e-01, -8.69137423e-02,\n",
       "        -2.97676019e-01, -1.02405239e+00, -1.06095378e+00],\n",
       "       [-7.33024343e-01,  7.27349604e-02, -2.72170954e-01,\n",
       "         2.94768327e+00,  6.83665190e+00,  8.69670551e+00,\n",
       "        -5.35008001e-01,  4.66247771e-01, -5.57405972e-01,\n",
       "         2.83410527e-01,  1.69752769e+00, -5.88068272e-01,\n",
       "         2.12700856e-01,  4.96563826e+00, -2.74839440e-01,\n",
       "        -2.31192779e-01, -7.07994144e-01, -4.53650721e-01],\n",
       "       [-2.19291117e-01, -6.10382776e-01, -3.16528303e-01,\n",
       "        -3.16967632e-02,  1.74806836e-01, -1.86301401e-01,\n",
       "        -4.60077221e-01,  3.23711910e-01, -4.89876936e-01,\n",
       "        -5.79375663e-01, -4.22823604e-01, -4.62063543e-01,\n",
       "        -6.38187291e-01, -6.72419933e-01, -6.40183166e-02,\n",
       "         2.67442381e-02,  8.77535138e-01,  7.42298292e-01],\n",
       "       [ 1.15442786e+00,  1.18428647e+00,  1.21198691e+00,\n",
       "         9.73321772e-01,  9.49213388e-02,  2.18659142e-01,\n",
       "         1.29796844e+00, -1.21424667e+00,  1.30184458e+00,\n",
       "         1.09830595e+00,  1.20590258e+00,  1.30898668e+00,\n",
       "         1.09121291e+00, -1.07878646e-01,  1.68326262e-01,\n",
       "         2.67954844e-01,  4.67043879e-03,  1.90327006e-01]])"
      ]
     },
     "execution_count": 19,
     "metadata": {},
     "output_type": "execute_result"
    }
   ],
   "source": [
    "km_data_opt.cluster_centers_"
   ]
  },
  {
   "cell_type": "markdown",
   "metadata": {},
   "source": [
    "### 7. Store the centroids in a dataframe with column names from the original dataset given "
   ]
  },
  {
   "cell_type": "code",
   "execution_count": 20,
   "metadata": {},
   "outputs": [
    {
     "data": {
      "text/plain": [
       "Index(['compactness', 'circularity', 'distance_circularity', 'radius_ratio',\n",
       "       'pr.axis_aspect_ratio', 'max.length_aspect_ratio', 'scatter_ratio',\n",
       "       'elongatedness', 'pr.axis_rectangularity', 'max.length_rectangularity',\n",
       "       'scaled_variance', 'scaled_variance.1', 'scaled_radius_of_gyration',\n",
       "       'scaled_radius_of_gyration.1', 'skewness_about', 'skewness_about.1',\n",
       "       'skewness_about.2', 'hollows_ratio'],\n",
       "      dtype='object')"
      ]
     },
     "execution_count": 20,
     "metadata": {},
     "output_type": "execute_result"
    }
   ],
   "source": [
    "data_stan.columns"
   ]
  },
  {
   "cell_type": "markdown",
   "metadata": {},
   "source": [
    "Hint: Use pd.Dataframe function "
   ]
  },
  {
   "cell_type": "code",
   "execution_count": 21,
   "metadata": {},
   "outputs": [],
   "source": [
    "colname=data_stan.columns\n",
    "centriod_val=pd.DataFrame(km_data_opt.cluster_centers_,columns=colname)"
   ]
  },
  {
   "cell_type": "code",
   "execution_count": 22,
   "metadata": {
    "scrolled": true
   },
   "outputs": [
    {
     "data": {
      "text/html": [
       "<div>\n",
       "<style scoped>\n",
       "    .dataframe tbody tr th:only-of-type {\n",
       "        vertical-align: middle;\n",
       "    }\n",
       "\n",
       "    .dataframe tbody tr th {\n",
       "        vertical-align: top;\n",
       "    }\n",
       "\n",
       "    .dataframe thead th {\n",
       "        text-align: right;\n",
       "    }\n",
       "</style>\n",
       "<table border=\"1\" class=\"dataframe\">\n",
       "  <thead>\n",
       "    <tr style=\"text-align: right;\">\n",
       "      <th></th>\n",
       "      <th>compactness</th>\n",
       "      <th>circularity</th>\n",
       "      <th>distance_circularity</th>\n",
       "      <th>radius_ratio</th>\n",
       "      <th>pr.axis_aspect_ratio</th>\n",
       "      <th>max.length_aspect_ratio</th>\n",
       "      <th>scatter_ratio</th>\n",
       "      <th>elongatedness</th>\n",
       "      <th>pr.axis_rectangularity</th>\n",
       "      <th>max.length_rectangularity</th>\n",
       "      <th>scaled_variance</th>\n",
       "      <th>scaled_variance.1</th>\n",
       "      <th>scaled_radius_of_gyration</th>\n",
       "      <th>scaled_radius_of_gyration.1</th>\n",
       "      <th>skewness_about</th>\n",
       "      <th>skewness_about.1</th>\n",
       "      <th>skewness_about.2</th>\n",
       "      <th>hollows_ratio</th>\n",
       "    </tr>\n",
       "  </thead>\n",
       "  <tbody>\n",
       "    <tr>\n",
       "      <th>0</th>\n",
       "      <td>-0.893708</td>\n",
       "      <td>-0.485519</td>\n",
       "      <td>-0.851657</td>\n",
       "      <td>-1.049029</td>\n",
       "      <td>-0.522253</td>\n",
       "      <td>-0.279014</td>\n",
       "      <td>-0.760545</td>\n",
       "      <td>0.839247</td>\n",
       "      <td>-0.728405</td>\n",
       "      <td>-0.441353</td>\n",
       "      <td>-0.782031</td>\n",
       "      <td>-0.767733</td>\n",
       "      <td>-0.362041</td>\n",
       "      <td>0.750092</td>\n",
       "      <td>-0.086914</td>\n",
       "      <td>-0.297676</td>\n",
       "      <td>-1.024052</td>\n",
       "      <td>-1.060954</td>\n",
       "    </tr>\n",
       "    <tr>\n",
       "      <th>1</th>\n",
       "      <td>-0.733024</td>\n",
       "      <td>0.072735</td>\n",
       "      <td>-0.272171</td>\n",
       "      <td>2.947683</td>\n",
       "      <td>6.836652</td>\n",
       "      <td>8.696706</td>\n",
       "      <td>-0.535008</td>\n",
       "      <td>0.466248</td>\n",
       "      <td>-0.557406</td>\n",
       "      <td>0.283411</td>\n",
       "      <td>1.697528</td>\n",
       "      <td>-0.588068</td>\n",
       "      <td>0.212701</td>\n",
       "      <td>4.965638</td>\n",
       "      <td>-0.274839</td>\n",
       "      <td>-0.231193</td>\n",
       "      <td>-0.707994</td>\n",
       "      <td>-0.453651</td>\n",
       "    </tr>\n",
       "    <tr>\n",
       "      <th>2</th>\n",
       "      <td>-0.219291</td>\n",
       "      <td>-0.610383</td>\n",
       "      <td>-0.316528</td>\n",
       "      <td>-0.031697</td>\n",
       "      <td>0.174807</td>\n",
       "      <td>-0.186301</td>\n",
       "      <td>-0.460077</td>\n",
       "      <td>0.323712</td>\n",
       "      <td>-0.489877</td>\n",
       "      <td>-0.579376</td>\n",
       "      <td>-0.422824</td>\n",
       "      <td>-0.462064</td>\n",
       "      <td>-0.638187</td>\n",
       "      <td>-0.672420</td>\n",
       "      <td>-0.064018</td>\n",
       "      <td>0.026744</td>\n",
       "      <td>0.877535</td>\n",
       "      <td>0.742298</td>\n",
       "    </tr>\n",
       "    <tr>\n",
       "      <th>3</th>\n",
       "      <td>1.154428</td>\n",
       "      <td>1.184286</td>\n",
       "      <td>1.211987</td>\n",
       "      <td>0.973322</td>\n",
       "      <td>0.094921</td>\n",
       "      <td>0.218659</td>\n",
       "      <td>1.297968</td>\n",
       "      <td>-1.214247</td>\n",
       "      <td>1.301845</td>\n",
       "      <td>1.098306</td>\n",
       "      <td>1.205903</td>\n",
       "      <td>1.308987</td>\n",
       "      <td>1.091213</td>\n",
       "      <td>-0.107879</td>\n",
       "      <td>0.168326</td>\n",
       "      <td>0.267955</td>\n",
       "      <td>0.004670</td>\n",
       "      <td>0.190327</td>\n",
       "    </tr>\n",
       "  </tbody>\n",
       "</table>\n",
       "</div>"
      ],
      "text/plain": [
       "   compactness  circularity  distance_circularity  radius_ratio  \\\n",
       "0    -0.893708    -0.485519             -0.851657     -1.049029   \n",
       "1    -0.733024     0.072735             -0.272171      2.947683   \n",
       "2    -0.219291    -0.610383             -0.316528     -0.031697   \n",
       "3     1.154428     1.184286              1.211987      0.973322   \n",
       "\n",
       "   pr.axis_aspect_ratio  max.length_aspect_ratio  scatter_ratio  \\\n",
       "0             -0.522253                -0.279014      -0.760545   \n",
       "1              6.836652                 8.696706      -0.535008   \n",
       "2              0.174807                -0.186301      -0.460077   \n",
       "3              0.094921                 0.218659       1.297968   \n",
       "\n",
       "   elongatedness  pr.axis_rectangularity  max.length_rectangularity  \\\n",
       "0       0.839247               -0.728405                  -0.441353   \n",
       "1       0.466248               -0.557406                   0.283411   \n",
       "2       0.323712               -0.489877                  -0.579376   \n",
       "3      -1.214247                1.301845                   1.098306   \n",
       "\n",
       "   scaled_variance  scaled_variance.1  scaled_radius_of_gyration  \\\n",
       "0        -0.782031          -0.767733                  -0.362041   \n",
       "1         1.697528          -0.588068                   0.212701   \n",
       "2        -0.422824          -0.462064                  -0.638187   \n",
       "3         1.205903           1.308987                   1.091213   \n",
       "\n",
       "   scaled_radius_of_gyration.1  skewness_about  skewness_about.1  \\\n",
       "0                     0.750092       -0.086914         -0.297676   \n",
       "1                     4.965638       -0.274839         -0.231193   \n",
       "2                    -0.672420       -0.064018          0.026744   \n",
       "3                    -0.107879        0.168326          0.267955   \n",
       "\n",
       "   skewness_about.2  hollows_ratio  \n",
       "0         -1.024052      -1.060954  \n",
       "1         -0.707994      -0.453651  \n",
       "2          0.877535       0.742298  \n",
       "3          0.004670       0.190327  "
      ]
     },
     "execution_count": 22,
     "metadata": {},
     "output_type": "execute_result"
    }
   ],
   "source": [
    "centriod_val"
   ]
  },
  {
   "cell_type": "markdown",
   "metadata": {},
   "source": [
    "### Use kmeans.labels_ function to print out the labels of the classes"
   ]
  },
  {
   "cell_type": "code",
   "execution_count": 23,
   "metadata": {
    "scrolled": true
   },
   "outputs": [
    {
     "data": {
      "text/plain": [
       "array([2, 2, 3, 2, 1, 2, 2, 2, 2, 2, 2, 2, 2, 3, 0, 2, 3, 0, 0, 2, 2, 3,\n",
       "       2, 0, 3, 3, 0, 2, 2, 2, 3, 2, 0, 1, 3, 0, 3, 0, 0, 2, 3, 0, 0, 0,\n",
       "       0, 2, 0, 2, 3, 2, 3, 2, 2, 0, 3, 0, 3, 0, 0, 0, 2, 0, 3, 2, 3, 3,\n",
       "       2, 0, 2, 3, 2, 0, 0, 3, 2, 0, 2, 3, 2, 0, 2, 0, 3, 2, 3, 0, 0, 3,\n",
       "       0, 0, 3, 0, 1, 2, 2, 0, 3, 3, 0, 0, 3, 2, 2, 0, 0, 0, 2, 3, 3, 2,\n",
       "       0, 0, 2, 0, 0, 0, 0, 0, 2, 3, 3, 2, 2, 0, 3, 1, 0, 2, 0, 2, 2, 3,\n",
       "       0, 2, 3, 2, 2, 2, 2, 3, 2, 2, 3, 2, 3, 2, 0, 2, 0, 3, 2, 2, 3, 3,\n",
       "       2, 3, 0, 0, 3, 3, 2, 3, 0, 2, 2, 2, 0, 3, 0, 2, 0, 3, 2, 2, 2, 3,\n",
       "       2, 3, 2, 3, 2, 0, 3, 0, 0, 0, 0, 2, 3, 3, 2, 2, 2, 0, 3, 2, 2, 2,\n",
       "       3, 0, 0, 3, 0, 2, 3, 0, 0, 0, 2, 3, 2, 3, 0, 0, 0, 0, 3, 2, 0, 2,\n",
       "       3, 0, 2, 2, 0, 3, 0, 0, 2, 2, 3, 0, 3, 0, 2, 0, 3, 2, 2, 3, 3, 0,\n",
       "       2, 2, 2, 3, 0, 2, 2, 0, 0, 2, 2, 3, 2, 0, 0, 3, 2, 2, 0, 0, 3, 0,\n",
       "       2, 3, 0, 2, 1, 2, 2, 3, 2, 3, 0, 2, 2, 3, 2, 2, 2, 0, 2, 3, 3, 3,\n",
       "       3, 0, 0, 3, 0, 0, 0, 2, 0, 3, 3, 0, 3, 2, 0, 3, 0, 2, 2, 3, 3, 0,\n",
       "       3, 3, 0, 3, 2, 2, 2, 0, 0, 3, 3, 3, 2, 2, 2, 3, 0, 2, 0, 3, 2, 2,\n",
       "       3, 2, 3, 3, 3, 2, 0, 0, 3, 0, 0, 0, 0, 2, 2, 2, 0, 3, 3, 0, 0, 3,\n",
       "       0, 3, 0, 3, 2, 0, 2, 0, 1, 3, 0, 2, 2, 0, 3, 2, 2, 2, 2, 3, 2, 3,\n",
       "       2, 3, 2, 0, 0, 2, 2, 2, 0, 0, 2, 0, 3, 2, 2, 0, 0, 3, 2, 0, 2, 2,\n",
       "       3, 2, 3, 2, 3, 3, 0, 0, 3, 2, 0, 0, 2, 3, 3, 0, 2, 3, 3, 0, 3, 3,\n",
       "       3, 2, 2, 2, 2, 2, 3, 0, 0, 2, 3, 2, 2, 3, 2, 0, 3, 0, 0, 3, 2, 0,\n",
       "       3, 3, 3, 0, 3, 3, 0, 2, 0, 3, 3, 2, 2, 0, 0, 3, 2, 0, 3, 3, 2, 0,\n",
       "       3, 3, 2, 0, 0, 3, 3, 3, 0, 0, 3, 3, 3, 2, 2, 3, 0, 2, 3, 2, 0, 0,\n",
       "       2, 3, 0, 2, 2, 0, 1, 3, 2, 3, 3, 2, 0, 2, 3, 3, 0, 0, 2, 3, 2, 3,\n",
       "       3, 2, 2, 2, 2, 0, 0, 0, 2, 2, 3, 0, 0, 2, 0, 3, 2, 3, 0, 0, 3, 3,\n",
       "       2, 3, 2, 2, 2, 3, 2, 0, 2, 3, 2, 2, 0, 3, 3, 3, 3, 2, 0, 0, 0, 3,\n",
       "       3, 3, 2, 3, 0, 2, 3, 0, 0, 0, 2, 0, 3, 2, 2, 2, 2, 2, 2, 3, 2, 2,\n",
       "       3, 2, 2, 2, 0, 3, 0, 0, 2, 0, 2, 2, 0, 0, 3, 3, 0, 2, 3, 2, 3, 2,\n",
       "       2, 3, 2, 0, 3, 0, 3, 0, 0, 2, 0, 2, 3, 3, 0, 3, 2, 2, 0, 2, 0, 3,\n",
       "       2, 3, 0, 2, 2, 2, 0, 0, 0, 2, 3, 2, 3, 0, 2, 2, 0, 2, 3, 2, 0, 3,\n",
       "       2, 3, 2, 2, 3, 0, 3, 0, 2, 0, 2, 0, 3, 2, 0, 2, 3, 0, 3, 2, 0, 3,\n",
       "       0, 2, 0, 2, 2, 0, 2, 3, 3, 2, 2, 3, 3, 1, 2, 0, 2, 3, 3, 3, 3, 2,\n",
       "       3, 2, 2, 3, 3, 2, 3, 2, 3, 2, 0, 3, 2, 0, 3, 3, 3, 2, 3, 0, 0, 3,\n",
       "       3, 3, 2, 3, 2, 2, 3, 2, 0, 2, 0, 2, 3, 2, 0, 2, 2, 2, 0, 3, 0, 0,\n",
       "       0, 3, 3, 0, 3, 3, 0, 2, 2, 3, 2, 0, 3, 3, 0, 2, 2, 3, 3, 3, 0, 3,\n",
       "       2, 3, 3, 0, 0, 3, 0, 3, 2, 0, 2, 3, 3, 2, 0, 2, 3, 3, 2, 2, 0, 2,\n",
       "       2, 3, 0, 0, 3, 0, 0, 3, 0, 2, 0, 0, 0, 0, 3, 3, 2, 0, 3, 2, 3, 3,\n",
       "       0, 2, 3, 0, 0, 2, 2, 3, 0, 0, 3, 0, 2, 2, 2, 2, 2, 2, 3, 2, 0])"
      ]
     },
     "execution_count": 23,
     "metadata": {},
     "output_type": "execute_result"
    }
   ],
   "source": [
    "km_data_opt.labels_"
   ]
  },
  {
   "cell_type": "markdown",
   "metadata": {},
   "source": [
    "## Hierarchical Clustering "
   ]
  },
  {
   "cell_type": "markdown",
   "metadata": {},
   "source": [
    "### 8. Variable creation"
   ]
  },
  {
   "cell_type": "markdown",
   "metadata": {},
   "source": [
    "For Hierarchical clustering, we will create datasets using multivariate normal distribution to visually observe how the clusters are formed at the end"
   ]
  },
  {
   "cell_type": "code",
   "execution_count": 24,
   "metadata": {},
   "outputs": [],
   "source": [
    "import numpy as np"
   ]
  },
  {
   "cell_type": "code",
   "execution_count": 25,
   "metadata": {},
   "outputs": [],
   "source": [
    "a = np.random.multivariate_normal([10, 0], [[3, 1], [1, 4]], size=[100,])\n",
    "b = np.random.multivariate_normal([0, 20], [[3, 1], [1, 4]], size=[50,])\n",
    "c = np.random.multivariate_normal([10, 20], [[3, 1], [1, 4]], size=[100,])"
   ]
  },
  {
   "cell_type": "markdown",
   "metadata": {},
   "source": [
    "### 9. Combine all three arrays a,b,c into a dataframe"
   ]
  },
  {
   "cell_type": "code",
   "execution_count": 26,
   "metadata": {},
   "outputs": [],
   "source": [
    "pd_a=pd.DataFrame(a)\n",
    "pd_b=pd.DataFrame(b)\n",
    "pd_c=pd.DataFrame(c)"
   ]
  },
  {
   "cell_type": "code",
   "execution_count": 27,
   "metadata": {},
   "outputs": [],
   "source": [
    "d=np.append(a,b,axis=0)\n",
    "d=np.append(d,c,axis=0)"
   ]
  },
  {
   "cell_type": "code",
   "execution_count": 28,
   "metadata": {},
   "outputs": [],
   "source": [
    "data_hirar=pd.DataFrame(d)"
   ]
  },
  {
   "cell_type": "code",
   "execution_count": 29,
   "metadata": {},
   "outputs": [
    {
     "data": {
      "text/plain": [
       "(250, 2)"
      ]
     },
     "execution_count": 29,
     "metadata": {},
     "output_type": "execute_result"
    }
   ],
   "source": [
    "data_hirar.shape"
   ]
  },
  {
   "cell_type": "markdown",
   "metadata": {},
   "source": [
    "### 10. Use scatter matrix to print all the 3 distributions"
   ]
  },
  {
   "cell_type": "code",
   "execution_count": 30,
   "metadata": {},
   "outputs": [
    {
     "data": {
      "text/plain": [
       "<seaborn.axisgrid.PairGrid at 0x16a623938d0>"
      ]
     },
     "execution_count": 30,
     "metadata": {},
     "output_type": "execute_result"
    },
    {
     "data": {
      "image/png": "[encoded data removed]",
      "text/plain": [
       "<Figure size 360x360 with 6 Axes>"
      ]
     },
     "metadata": {
      "needs_background": "light"
     },
     "output_type": "display_data"
    }
   ],
   "source": [
    "import seaborn as sns\n",
    "sns.pairplot(data_hirar,diag_kind='kde')"
   ]
  },
  {
   "cell_type": "code",
   "execution_count": 31,
   "metadata": {
    "scrolled": true
   },
   "outputs": [
    {
     "data": {
      "text/plain": [
       "<matplotlib.collections.PathCollection at 0x16a62c83518>"
      ]
     },
     "execution_count": 31,
     "metadata": {},
     "output_type": "execute_result"
    },
    {
     "data": {
      "image/png": "[encoded data removed]",
      "text/plain": [
       "<Figure size 432x288 with 1 Axes>"
      ]
     },
     "metadata": {
      "needs_background": "light"
     },
     "output_type": "display_data"
    }
   ],
   "source": [
    "plt.scatter(data_hirar[0],data_hirar[1])"
   ]
  },
  {
   "cell_type": "markdown",
   "metadata": {},
   "source": [
    "### 11. Find out the linkage matrix"
   ]
  },
  {
   "cell_type": "markdown",
   "metadata": {},
   "source": [
    "Use ward as linkage metric and distance as Eucledian"
   ]
  },
  {
   "cell_type": "code",
   "execution_count": 32,
   "metadata": {},
   "outputs": [
    {
     "data": {
      "text/plain": [
       "array([[1.71000000e+02, 2.21000000e+02, 5.25493616e-02, 2.00000000e+00],\n",
       "       [7.00000000e+01, 8.20000000e+01, 6.60352163e-02, 2.00000000e+00],\n",
       "       [3.00000000e+00, 4.40000000e+01, 6.90746354e-02, 2.00000000e+00],\n",
       "       [3.20000000e+01, 3.50000000e+01, 6.92854935e-02, 2.00000000e+00],\n",
       "       [2.36000000e+02, 2.42000000e+02, 7.09346341e-02, 2.00000000e+00],\n",
       "       [8.00000000e+00, 9.10000000e+01, 7.73372438e-02, 2.00000000e+00],\n",
       "       [5.80000000e+01, 8.50000000e+01, 8.81147479e-02, 2.00000000e+00],\n",
       "       [1.17000000e+02, 1.42000000e+02, 9.52444019e-02, 2.00000000e+00],\n",
       "       [1.00000000e+02, 1.07000000e+02, 9.63159506e-02, 2.00000000e+00],\n",
       "       [1.01000000e+02, 1.02000000e+02, 1.05193771e-01, 2.00000000e+00],\n",
       "       [2.24000000e+02, 2.26000000e+02, 1.13604554e-01, 2.00000000e+00],\n",
       "       [2.09000000e+02, 2.47000000e+02, 1.17422154e-01, 2.00000000e+00],\n",
       "       [1.52000000e+02, 2.27000000e+02, 1.20429040e-01, 2.00000000e+00],\n",
       "       [1.51000000e+02, 2.12000000e+02, 1.26038005e-01, 2.00000000e+00],\n",
       "       [1.68000000e+02, 2.04000000e+02, 1.31635602e-01, 2.00000000e+00],\n",
       "       [2.37000000e+02, 2.49000000e+02, 1.35022581e-01, 2.00000000e+00],\n",
       "       [4.10000000e+01, 8.60000000e+01, 1.35698596e-01, 2.00000000e+00],\n",
       "       [3.80000000e+01, 2.53000000e+02, 1.36383232e-01, 3.00000000e+00],\n",
       "       [1.72000000e+02, 2.40000000e+02, 1.40601179e-01, 2.00000000e+00],\n",
       "       [2.90000000e+01, 4.50000000e+01, 1.42670735e-01, 2.00000000e+00],\n",
       "       [1.58000000e+02, 2.18000000e+02, 1.45138021e-01, 2.00000000e+00],\n",
       "       [2.13000000e+02, 2.25000000e+02, 1.48266177e-01, 2.00000000e+00],\n",
       "       [4.80000000e+01, 6.60000000e+01, 1.58355499e-01, 2.00000000e+00],\n",
       "       [2.00000000e+01, 2.60000000e+01, 1.58816968e-01, 2.00000000e+00],\n",
       "       [8.10000000e+01, 8.80000000e+01, 1.59636544e-01, 2.00000000e+00],\n",
       "       [5.10000000e+01, 9.70000000e+01, 1.60898280e-01, 2.00000000e+00],\n",
       "       [1.30000000e+01, 2.20000000e+01, 1.61356946e-01, 2.00000000e+00],\n",
       "       [1.79000000e+02, 2.19000000e+02, 1.66163649e-01, 2.00000000e+00],\n",
       "       [1.80000000e+01, 3.60000000e+01, 1.69355083e-01, 2.00000000e+00],\n",
       "       [4.90000000e+01, 9.90000000e+01, 1.70588122e-01, 2.00000000e+00],\n",
       "       [3.70000000e+01, 7.10000000e+01, 1.71827796e-01, 2.00000000e+00],\n",
       "       [2.80000000e+01, 4.70000000e+01, 1.77451073e-01, 2.00000000e+00],\n",
       "       [1.10000000e+02, 1.38000000e+02, 1.78206186e-01, 2.00000000e+00],\n",
       "       [1.25000000e+02, 1.43000000e+02, 1.84798850e-01, 2.00000000e+00],\n",
       "       [1.92000000e+02, 2.50000000e+02, 1.86865314e-01, 3.00000000e+00],\n",
       "       [1.15000000e+02, 1.34000000e+02, 1.89031712e-01, 2.00000000e+00],\n",
       "       [2.03000000e+02, 2.64000000e+02, 2.03182370e-01, 3.00000000e+00],\n",
       "       [2.10000000e+02, 2.45000000e+02, 2.07196439e-01, 2.00000000e+00],\n",
       "       [1.91000000e+02, 2.00000000e+02, 2.15276911e-01, 2.00000000e+00],\n",
       "       [1.94000000e+02, 2.54000000e+02, 2.24470216e-01, 3.00000000e+00],\n",
       "       [1.00000000e+00, 3.40000000e+01, 2.28149444e-01, 2.00000000e+00],\n",
       "       [1.40000000e+01, 5.70000000e+01, 2.31834545e-01, 2.00000000e+00],\n",
       "       [2.35000000e+02, 2.62000000e+02, 2.35075853e-01, 3.00000000e+00],\n",
       "       [1.20000000e+01, 6.70000000e+01, 2.36884813e-01, 2.00000000e+00],\n",
       "       [3.90000000e+01, 9.50000000e+01, 2.40797115e-01, 2.00000000e+00],\n",
       "       [7.90000000e+01, 8.30000000e+01, 2.41512597e-01, 2.00000000e+00],\n",
       "       [1.57000000e+02, 2.60000000e+02, 2.55739767e-01, 3.00000000e+00],\n",
       "       [0.00000000e+00, 1.50000000e+01, 2.62812436e-01, 2.00000000e+00],\n",
       "       [1.16000000e+02, 1.46000000e+02, 2.66486369e-01, 2.00000000e+00],\n",
       "       [1.80000000e+02, 2.86000000e+02, 2.69557245e-01, 4.00000000e+00],\n",
       "       [1.78000000e+02, 1.99000000e+02, 2.70174236e-01, 2.00000000e+00],\n",
       "       [3.10000000e+01, 2.66000000e+02, 2.72645594e-01, 3.00000000e+00],\n",
       "       [1.03000000e+02, 1.18000000e+02, 2.78691412e-01, 2.00000000e+00],\n",
       "       [1.75000000e+02, 1.89000000e+02, 2.82207138e-01, 2.00000000e+00],\n",
       "       [2.40000000e+01, 5.00000000e+01, 2.83725183e-01, 2.00000000e+00],\n",
       "       [1.86000000e+02, 2.30000000e+02, 2.94513903e-01, 2.00000000e+00],\n",
       "       [9.40000000e+01, 2.78000000e+02, 3.11189567e-01, 3.00000000e+00],\n",
       "       [1.50000000e+02, 2.08000000e+02, 3.32513762e-01, 2.00000000e+00],\n",
       "       [2.30000000e+01, 5.90000000e+01, 3.34131499e-01, 2.00000000e+00],\n",
       "       [3.30000000e+01, 6.30000000e+01, 3.36851971e-01, 2.00000000e+00],\n",
       "       [1.27000000e+02, 2.83000000e+02, 3.42928095e-01, 3.00000000e+00],\n",
       "       [1.55000000e+02, 2.05000000e+02, 3.45926405e-01, 2.00000000e+00],\n",
       "       [5.50000000e+01, 2.75000000e+02, 3.53695833e-01, 3.00000000e+00],\n",
       "       [2.46000000e+02, 2.92000000e+02, 3.57819594e-01, 4.00000000e+00],\n",
       "       [1.98000000e+02, 2.14000000e+02, 3.59765830e-01, 2.00000000e+00],\n",
       "       [1.53000000e+02, 2.48000000e+02, 3.62578423e-01, 2.00000000e+00],\n",
       "       [2.15000000e+02, 2.70000000e+02, 3.69610664e-01, 3.00000000e+00],\n",
       "       [1.69000000e+02, 2.61000000e+02, 3.74583423e-01, 3.00000000e+00],\n",
       "       [1.67000000e+02, 2.11000000e+02, 3.79724119e-01, 2.00000000e+00],\n",
       "       [2.70000000e+01, 2.97000000e+02, 3.81564372e-01, 3.00000000e+00],\n",
       "       [1.73000000e+02, 1.93000000e+02, 3.98156992e-01, 2.00000000e+00],\n",
       "       [1.10000000e+01, 2.50000000e+01, 4.09397622e-01, 2.00000000e+00],\n",
       "       [1.90000000e+01, 6.00000000e+01, 4.09558286e-01, 2.00000000e+00],\n",
       "       [2.00000000e+00, 5.00000000e+00, 4.12513451e-01, 2.00000000e+00],\n",
       "       [1.76000000e+02, 2.28000000e+02, 4.13050528e-01, 2.00000000e+00],\n",
       "       [1.04000000e+02, 1.19000000e+02, 4.18403010e-01, 2.00000000e+00],\n",
       "       [5.20000000e+01, 9.60000000e+01, 4.21043360e-01, 2.00000000e+00],\n",
       "       [6.90000000e+01, 8.70000000e+01, 4.22863822e-01, 2.00000000e+00],\n",
       "       [1.90000000e+02, 1.96000000e+02, 4.23808357e-01, 2.00000000e+00],\n",
       "       [4.00000000e+00, 3.00000000e+01, 4.25632929e-01, 2.00000000e+00],\n",
       "       [1.84000000e+02, 2.99000000e+02, 4.30467084e-01, 5.00000000e+00],\n",
       "       [4.30000000e+01, 2.80000000e+02, 4.31923925e-01, 3.00000000e+00],\n",
       "       [6.20000000e+01, 2.76000000e+02, 4.33828726e-01, 3.00000000e+00],\n",
       "       [1.14000000e+02, 1.20000000e+02, 4.42219060e-01, 2.00000000e+00],\n",
       "       [1.08000000e+02, 1.48000000e+02, 4.44804394e-01, 2.00000000e+00],\n",
       "       [1.62000000e+02, 1.87000000e+02, 4.48822708e-01, 2.00000000e+00],\n",
       "       [2.51000000e+02, 3.04000000e+02, 4.50690274e-01, 4.00000000e+00],\n",
       "       [1.63000000e+02, 2.07000000e+02, 4.51886580e-01, 2.00000000e+00],\n",
       "       [2.17000000e+02, 2.44000000e+02, 4.68351519e-01, 2.00000000e+00],\n",
       "       [1.60000000e+01, 7.30000000e+01, 4.87282028e-01, 2.00000000e+00],\n",
       "       [1.59000000e+02, 2.87000000e+02, 4.90023111e-01, 3.00000000e+00],\n",
       "       [2.69000000e+02, 2.72000000e+02, 4.95807921e-01, 4.00000000e+00],\n",
       "       [6.10000000e+01, 2.91000000e+02, 5.02684709e-01, 3.00000000e+00],\n",
       "       [1.30000000e+02, 1.31000000e+02, 5.11121561e-01, 2.00000000e+00],\n",
       "       [2.34000000e+02, 2.38000000e+02, 5.33387196e-01, 2.00000000e+00],\n",
       "       [1.82000000e+02, 2.39000000e+02, 5.38308967e-01, 2.00000000e+00],\n",
       "       [2.73000000e+02, 3.01000000e+02, 5.38819964e-01, 5.00000000e+00],\n",
       "       [4.60000000e+01, 3.29000000e+02, 5.43770774e-01, 3.00000000e+00],\n",
       "       [2.65000000e+02, 2.71000000e+02, 5.48249727e-01, 4.00000000e+00],\n",
       "       [2.56000000e+02, 2.90000000e+02, 5.63653021e-01, 4.00000000e+00],\n",
       "       [6.00000000e+00, 6.50000000e+01, 5.79684057e-01, 2.00000000e+00],\n",
       "       [1.28000000e+02, 3.02000000e+02, 5.83584466e-01, 3.00000000e+00],\n",
       "       [1.47000000e+02, 2.59000000e+02, 5.84580681e-01, 3.00000000e+00],\n",
       "       [2.02000000e+02, 2.16000000e+02, 5.95372155e-01, 2.00000000e+00],\n",
       "       [2.74000000e+02, 2.79000000e+02, 6.07298003e-01, 4.00000000e+00],\n",
       "       [2.67000000e+02, 2.93000000e+02, 6.18670023e-01, 5.00000000e+00],\n",
       "       [2.88000000e+02, 3.03000000e+02, 6.27703543e-01, 4.00000000e+00],\n",
       "       [1.09000000e+02, 1.36000000e+02, 6.35347029e-01, 2.00000000e+00],\n",
       "       [8.00000000e+01, 8.40000000e+01, 6.35404538e-01, 2.00000000e+00],\n",
       "       [1.64000000e+02, 1.85000000e+02, 6.38193525e-01, 2.00000000e+00],\n",
       "       [2.29000000e+02, 2.33000000e+02, 6.40624176e-01, 2.00000000e+00],\n",
       "       [2.31000000e+02, 2.43000000e+02, 6.43021765e-01, 2.00000000e+00],\n",
       "       [1.12000000e+02, 2.57000000e+02, 6.44647251e-01, 3.00000000e+00],\n",
       "       [2.55000000e+02, 2.81000000e+02, 6.47576908e-01, 4.00000000e+00],\n",
       "       [1.00000000e+01, 4.20000000e+01, 6.74481316e-01, 2.00000000e+00],\n",
       "       [4.00000000e+01, 3.21000000e+02, 6.78370305e-01, 3.00000000e+00],\n",
       "       [2.95000000e+02, 3.27000000e+02, 6.89054087e-01, 4.00000000e+00],\n",
       "       [1.49000000e+02, 2.82000000e+02, 6.93124742e-01, 3.00000000e+00],\n",
       "       [1.60000000e+02, 3.14000000e+02, 6.95558752e-01, 3.00000000e+00],\n",
       "       [9.20000000e+01, 3.26000000e+02, 6.98322677e-01, 3.00000000e+00],\n",
       "       [1.22000000e+02, 1.37000000e+02, 6.98754440e-01, 2.00000000e+00],\n",
       "       [2.96000000e+02, 3.13000000e+02, 7.04277063e-01, 7.00000000e+00],\n",
       "       [3.22000000e+02, 3.42000000e+02, 7.25765285e-01, 5.00000000e+00],\n",
       "       [5.30000000e+01, 3.23000000e+02, 7.31921006e-01, 3.00000000e+00],\n",
       "       [1.61000000e+02, 1.97000000e+02, 7.37584759e-01, 2.00000000e+00],\n",
       "       [2.32000000e+02, 3.17000000e+02, 7.44161248e-01, 4.00000000e+00],\n",
       "       [6.80000000e+01, 7.20000000e+01, 7.45819696e-01, 2.00000000e+00],\n",
       "       [9.00000000e+00, 9.00000000e+01, 7.46093532e-01, 2.00000000e+00],\n",
       "       [1.32000000e+02, 3.10000000e+02, 7.50141099e-01, 4.00000000e+00],\n",
       "       [2.20000000e+02, 3.48000000e+02, 7.61474067e-01, 5.00000000e+00],\n",
       "       [2.89000000e+02, 3.15000000e+02, 7.61898501e-01, 5.00000000e+00],\n",
       "       [1.24000000e+02, 1.41000000e+02, 7.66098204e-01, 2.00000000e+00],\n",
       "       [1.56000000e+02, 3.00000000e+02, 7.88913170e-01, 3.00000000e+00],\n",
       "       [9.80000000e+01, 3.06000000e+02, 7.95869796e-01, 4.00000000e+00],\n",
       "       [2.94000000e+02, 3.41000000e+02, 7.97587957e-01, 6.00000000e+00],\n",
       "       [2.01000000e+02, 3.45000000e+02, 8.01844126e-01, 3.00000000e+00],\n",
       "       [2.68000000e+02, 3.18000000e+02, 8.03880367e-01, 4.00000000e+00],\n",
       "       [1.21000000e+02, 2.85000000e+02, 8.05796589e-01, 3.00000000e+00],\n",
       "       [1.65000000e+02, 3.16000000e+02, 8.48357968e-01, 4.00000000e+00],\n",
       "       [1.54000000e+02, 2.22000000e+02, 8.55015051e-01, 2.00000000e+00],\n",
       "       [3.38000000e+02, 3.40000000e+02, 8.75540405e-01, 5.00000000e+00],\n",
       "       [1.35000000e+02, 2.58000000e+02, 8.79991380e-01, 3.00000000e+00],\n",
       "       [1.23000000e+02, 3.25000000e+02, 8.89604882e-01, 3.00000000e+00],\n",
       "       [1.83000000e+02, 2.41000000e+02, 9.06648652e-01, 2.00000000e+00],\n",
       "       [3.24000000e+02, 3.35000000e+02, 9.19805469e-01, 4.00000000e+00],\n",
       "       [1.45000000e+02, 3.33000000e+02, 9.25358958e-01, 3.00000000e+00],\n",
       "       [2.77000000e+02, 3.11000000e+02, 9.33943952e-01, 4.00000000e+00],\n",
       "       [1.77000000e+02, 3.05000000e+02, 9.77508834e-01, 3.00000000e+00],\n",
       "       [7.70000000e+01, 3.63000000e+02, 9.87060540e-01, 5.00000000e+00],\n",
       "       [6.40000000e+01, 3.58000000e+02, 9.96061217e-01, 3.00000000e+00],\n",
       "       [9.30000000e+01, 3.69000000e+02, 1.01086727e+00, 4.00000000e+00],\n",
       "       [5.60000000e+01, 3.72000000e+02, 1.02545576e+00, 6.00000000e+00],\n",
       "       [8.90000000e+01, 2.52000000e+02, 1.02971781e+00, 3.00000000e+00],\n",
       "       [7.50000000e+01, 3.65000000e+02, 1.04775165e+00, 4.00000000e+00],\n",
       "       [2.84000000e+02, 3.28000000e+02, 1.05349189e+00, 5.00000000e+00],\n",
       "       [1.29000000e+02, 3.67000000e+02, 1.05497976e+00, 4.00000000e+00],\n",
       "       [1.06000000e+02, 3.70000000e+02, 1.10661075e+00, 3.00000000e+00],\n",
       "       [3.56000000e+02, 3.96000000e+02, 1.12066025e+00, 8.00000000e+00],\n",
       "       [1.74000000e+02, 3.61000000e+02, 1.12137396e+00, 3.00000000e+00],\n",
       "       [1.11000000e+02, 1.44000000e+02, 1.13063598e+00, 2.00000000e+00],\n",
       "       [3.19000000e+02, 3.84000000e+02, 1.14401997e+00, 9.00000000e+00],\n",
       "       [3.30000000e+02, 3.97000000e+02, 1.14527413e+00, 8.00000000e+00],\n",
       "       [3.36000000e+02, 3.39000000e+02, 1.15248263e+00, 6.00000000e+00],\n",
       "       [1.81000000e+02, 3.20000000e+02, 1.16224179e+00, 3.00000000e+00],\n",
       "       [1.88000000e+02, 3.07000000e+02, 1.16837329e+00, 3.00000000e+00],\n",
       "       [2.63000000e+02, 3.82000000e+02, 1.17443443e+00, 5.00000000e+00],\n",
       "       [2.10000000e+01, 4.00000000e+02, 1.20218257e+00, 5.00000000e+00],\n",
       "       [3.43000000e+02, 3.92000000e+02, 1.21269064e+00, 5.00000000e+00],\n",
       "       [3.09000000e+02, 3.54000000e+02, 1.21579134e+00, 6.00000000e+00],\n",
       "       [1.40000000e+02, 3.78000000e+02, 1.21654739e+00, 5.00000000e+00],\n",
       "       [3.12000000e+02, 3.46000000e+02, 1.25773708e+00, 8.00000000e+00],\n",
       "       [7.00000000e+00, 4.02000000e+02, 1.27223729e+00, 4.00000000e+00],\n",
       "       [3.31000000e+02, 4.12000000e+02, 1.27486426e+00, 9.00000000e+00],\n",
       "       [3.37000000e+02, 3.68000000e+02, 1.33750890e+00, 5.00000000e+00],\n",
       "       [1.70000000e+01, 3.77000000e+02, 1.36411476e+00, 3.00000000e+00],\n",
       "       [3.53000000e+02, 3.93000000e+02, 1.39505488e+00, 4.00000000e+00],\n",
       "       [3.71000000e+02, 3.94000000e+02, 1.41304104e+00, 1.10000000e+01],\n",
       "       [3.34000000e+02, 3.51000000e+02, 1.41834705e+00, 5.00000000e+00],\n",
       "       [3.50000000e+02, 3.98000000e+02, 1.51730132e+00, 7.00000000e+00],\n",
       "       [3.64000000e+02, 3.76000000e+02, 1.51811989e+00, 4.00000000e+00],\n",
       "       [1.33000000e+02, 3.57000000e+02, 1.52705367e+00, 3.00000000e+00],\n",
       "       [7.60000000e+01, 3.49000000e+02, 1.55337748e+00, 5.00000000e+00],\n",
       "       [3.47000000e+02, 4.20000000e+02, 1.61776945e+00, 1.10000000e+01],\n",
       "       [3.74000000e+02, 3.86000000e+02, 1.63776066e+00, 6.00000000e+00],\n",
       "       [1.70000000e+02, 3.75000000e+02, 1.65196391e+00, 5.00000000e+00],\n",
       "       [2.98000000e+02, 3.52000000e+02, 1.74701635e+00, 5.00000000e+00],\n",
       "       [3.08000000e+02, 3.32000000e+02, 1.76586550e+00, 5.00000000e+00],\n",
       "       [3.59000000e+02, 4.14000000e+02, 1.78439378e+00, 5.00000000e+00],\n",
       "       [1.05000000e+02, 1.39000000e+02, 1.85687078e+00, 2.00000000e+00],\n",
       "       [3.79000000e+02, 4.26000000e+02, 1.96162259e+00, 1.60000000e+01],\n",
       "       [1.66000000e+02, 1.95000000e+02, 1.97761401e+00, 2.00000000e+00],\n",
       "       [3.85000000e+02, 3.88000000e+02, 2.03948676e+00, 7.00000000e+00],\n",
       "       [4.06000000e+02, 4.09000000e+02, 2.05680622e+00, 5.00000000e+00],\n",
       "       [4.05000000e+02, 4.27000000e+02, 2.10360163e+00, 9.00000000e+00],\n",
       "       [3.81000000e+02, 3.87000000e+02, 2.12421469e+00, 5.00000000e+00],\n",
       "       [3.91000000e+02, 3.95000000e+02, 2.12709651e+00, 6.00000000e+00],\n",
       "       [4.11000000e+02, 4.34000000e+02, 2.20107705e+00, 1.30000000e+01],\n",
       "       [3.90000000e+02, 4.07000000e+02, 2.28317101e+00, 1.30000000e+01],\n",
       "       [3.66000000e+02, 3.99000000e+02, 2.37469789e+00, 7.00000000e+00],\n",
       "       [3.55000000e+02, 4.10000000e+02, 2.38611811e+00, 1.40000000e+01],\n",
       "       [3.44000000e+02, 4.25000000e+02, 2.39154970e+00, 6.00000000e+00],\n",
       "       [2.06000000e+02, 2.23000000e+02, 2.40791038e+00, 2.00000000e+00],\n",
       "       [5.40000000e+01, 4.36000000e+02, 2.41469826e+00, 6.00000000e+00],\n",
       "       [3.83000000e+02, 4.31000000e+02, 2.47402620e+00, 9.00000000e+00],\n",
       "       [7.40000000e+01, 4.16000000e+02, 2.53386847e+00, 6.00000000e+00],\n",
       "       [1.26000000e+02, 3.62000000e+02, 2.56446440e+00, 4.00000000e+00],\n",
       "       [4.17000000e+02, 4.19000000e+02, 2.59675322e+00, 1.00000000e+01],\n",
       "       [4.04000000e+02, 4.47000000e+02, 2.76542951e+00, 1.80000000e+01],\n",
       "       [4.13000000e+02, 4.23000000e+02, 2.79211974e+00, 8.00000000e+00],\n",
       "       [3.80000000e+02, 4.33000000e+02, 2.81922466e+00, 1.10000000e+01],\n",
       "       [1.13000000e+02, 4.38000000e+02, 2.84890805e+00, 3.00000000e+00],\n",
       "       [4.03000000e+02, 4.48000000e+02, 3.09618828e+00, 1.10000000e+01],\n",
       "       [4.18000000e+02, 4.29000000e+02, 3.13426790e+00, 1.00000000e+01],\n",
       "       [4.21000000e+02, 4.32000000e+02, 3.32312741e+00, 1.50000000e+01],\n",
       "       [4.01000000e+02, 4.22000000e+02, 3.38988728e+00, 1.50000000e+01],\n",
       "       [4.08000000e+02, 4.58000000e+02, 3.48976613e+00, 1.10000000e+01],\n",
       "       [3.73000000e+02, 4.28000000e+02, 3.70022266e+00, 1.00000000e+01],\n",
       "       [3.89000000e+02, 4.41000000e+02, 3.70619808e+00, 9.00000000e+00],\n",
       "       [4.15000000e+02, 4.50000000e+02, 3.78763886e+00, 1.10000000e+01],\n",
       "       [4.30000000e+02, 4.55000000e+02, 3.83425151e+00, 7.00000000e+00],\n",
       "       [7.80000000e+01, 4.61000000e+02, 3.98024521e+00, 1.20000000e+01],\n",
       "       [4.49000000e+02, 4.53000000e+02, 4.27073938e+00, 2.30000000e+01],\n",
       "       [4.35000000e+02, 4.56000000e+02, 4.55350855e+00, 1.50000000e+01],\n",
       "       [3.60000000e+02, 4.67000000e+02, 4.59625411e+00, 1.10000000e+01],\n",
       "       [4.40000000e+02, 4.59000000e+02, 5.24398226e+00, 1.30000000e+01],\n",
       "       [4.43000000e+02, 4.44000000e+02, 5.41074875e+00, 1.40000000e+01],\n",
       "       [4.42000000e+02, 4.51000000e+02, 5.57763653e+00, 7.00000000e+00],\n",
       "       [4.46000000e+02, 4.65000000e+02, 5.65768050e+00, 2.40000000e+01],\n",
       "       [4.54000000e+02, 4.66000000e+02, 6.05040521e+00, 1.60000000e+01],\n",
       "       [4.62000000e+02, 4.64000000e+02, 6.09361009e+00, 2.50000000e+01],\n",
       "       [4.37000000e+02, 4.74000000e+02, 6.10394748e+00, 1.80000000e+01],\n",
       "       [4.45000000e+02, 4.72000000e+02, 6.27852605e+00, 2.10000000e+01],\n",
       "       [4.24000000e+02, 4.79000000e+02, 6.36727312e+00, 2.80000000e+01],\n",
       "       [4.52000000e+02, 4.63000000e+02, 6.66607687e+00, 2.10000000e+01],\n",
       "       [4.39000000e+02, 4.57000000e+02, 7.18230935e+00, 3.40000000e+01],\n",
       "       [4.71000000e+02, 4.78000000e+02, 8.88587405e+00, 3.90000000e+01],\n",
       "       [4.75000000e+02, 4.81000000e+02, 9.01777353e+00, 3.50000000e+01],\n",
       "       [4.68000000e+02, 4.84000000e+02, 9.34643872e+00, 4.50000000e+01],\n",
       "       [4.70000000e+02, 4.83000000e+02, 1.07259886e+01, 3.30000000e+01],\n",
       "       [4.73000000e+02, 4.77000000e+02, 1.10829643e+01, 3.50000000e+01],\n",
       "       [4.60000000e+02, 4.86000000e+02, 1.20960191e+01, 3.80000000e+01],\n",
       "       [4.69000000e+02, 4.76000000e+02, 1.24106717e+01, 1.40000000e+01],\n",
       "       [4.80000000e+02, 4.87000000e+02, 1.34369356e+01, 6.30000000e+01],\n",
       "       [4.90000000e+02, 4.91000000e+02, 1.48684030e+01, 5.20000000e+01],\n",
       "       [4.82000000e+02, 4.88000000e+02, 1.75529592e+01, 6.10000000e+01],\n",
       "       [4.89000000e+02, 4.92000000e+02, 2.10727399e+01, 9.80000000e+01],\n",
       "       [4.85000000e+02, 4.94000000e+02, 2.13268884e+01, 1.00000000e+02],\n",
       "       [4.93000000e+02, 4.95000000e+02, 8.02330507e+01, 1.50000000e+02],\n",
       "       [4.96000000e+02, 4.97000000e+02, 2.21057296e+02, 2.50000000e+02]])"
      ]
     },
     "execution_count": 32,
     "metadata": {},
     "output_type": "execute_result"
    }
   ],
   "source": [
    "from scipy.cluster.hierarchy import cophenet, dendrogram, linkage, fcluster\n",
    "from scipy.spatial.distance import pdist\n",
    "Z = linkage(data_hirar, method='ward',metric='euclidean')\n",
    "Z"
   ]
  },
  {
   "cell_type": "markdown",
   "metadata": {},
   "source": [
    "### 12. Plot the dendrogram for the consolidated dataframe"
   ]
  },
  {
   "cell_type": "code",
   "execution_count": 33,
   "metadata": {},
   "outputs": [
    {
     "data": {
      "image/png": "[encoded data removed]",
      "text/plain": [
       "<Figure size 720x720 with 1 Axes>"
      ]
     },
     "metadata": {
      "needs_background": "light"
     },
     "output_type": "display_data"
    }
   ],
   "source": [
    "plt.figure(figsize=(10, 10))\n",
    "plt.title('Agglomerative Hierarchical Clustering Dendogram')\n",
    "plt.xlabel('sample index')\n",
    "plt.ylabel('Distance')\n",
    "dendrogram(Z)\n",
    "plt.tight_layout()"
   ]
  },
  {
   "cell_type": "markdown",
   "metadata": {},
   "source": [
    "### 13. Recreate the dendrogram for last 12 merged clusters "
   ]
  },
  {
   "cell_type": "markdown",
   "metadata": {},
   "source": [
    "Hint: Use truncate_mode='lastp' attribute in dendrogram function to arrive at dendrogram "
   ]
  },
  {
   "cell_type": "code",
   "execution_count": 34,
   "metadata": {},
   "outputs": [
    {
     "data": {
      "image/png": "[encoded data removed]",
      "text/plain": [
       "<Figure size 720x720 with 1 Axes>"
      ]
     },
     "metadata": {
      "needs_background": "light"
     },
     "output_type": "display_data"
    }
   ],
   "source": [
    "plt.figure(figsize=(10, 10))\n",
    "plt.title('Agglomerative Hierarchical Clustering Dendogram')\n",
    "plt.xlabel('sample index')\n",
    "plt.ylabel('Distance')\n",
    "dendrogram(Z,p=12, truncate_mode='lastp')\n",
    "plt.tight_layout()"
   ]
  },
  {
   "cell_type": "markdown",
   "metadata": {},
   "source": [
    "### 14. From the truncated dendrogram, find out the optimal distance between clusters which u want to use an input for clustering data"
   ]
  },
  {
   "cell_type": "code",
   "execution_count": 35,
   "metadata": {},
   "outputs": [],
   "source": [
    "## From the above dendogram, we can observe that the optimul distance would be 26 to 79"
   ]
  },
  {
   "cell_type": "markdown",
   "metadata": {},
   "source": [
    "### 15. Using this distance measure and fcluster function to cluster the data into 3 different groups"
   ]
  },
  {
   "cell_type": "code",
   "execution_count": 36,
   "metadata": {},
   "outputs": [
    {
     "data": {
      "text/plain": [
       "array([1, 1, 1, 1, 1, 1, 1, 1, 1, 1, 1, 1, 1, 1, 1, 1, 1, 1, 1, 1, 1, 1,\n",
       "       1, 1, 1, 1, 1, 1, 1, 1, 1, 1, 1, 1, 1, 1, 1, 1, 1, 1, 1, 1, 1, 1,\n",
       "       1, 1, 1, 1, 1, 1, 1, 1, 1, 1, 1, 1, 1, 1, 1, 1, 1, 1, 1, 1, 1, 1,\n",
       "       1, 1, 1, 1, 1, 1, 1, 1, 1, 1, 1, 1, 1, 1, 1, 1, 1, 1, 1, 1, 1, 1,\n",
       "       1, 1, 1, 1, 1, 1, 1, 1, 1, 1, 1, 1, 2, 2, 2, 2, 2, 2, 2, 2, 2, 2,\n",
       "       2, 2, 2, 2, 2, 2, 2, 2, 2, 2, 2, 2, 2, 2, 2, 2, 2, 2, 2, 2, 2, 2,\n",
       "       2, 2, 2, 2, 2, 2, 2, 2, 2, 2, 2, 2, 2, 2, 2, 2, 2, 2, 3, 3, 3, 3,\n",
       "       3, 3, 3, 3, 3, 3, 3, 3, 3, 3, 3, 3, 3, 3, 3, 3, 3, 3, 3, 3, 3, 3,\n",
       "       3, 3, 3, 3, 3, 3, 3, 3, 3, 3, 3, 3, 3, 3, 3, 3, 3, 3, 3, 3, 3, 3,\n",
       "       3, 3, 3, 3, 3, 3, 3, 3, 2, 3, 3, 3, 3, 3, 3, 3, 3, 3, 3, 3, 3, 3,\n",
       "       3, 3, 3, 2, 3, 3, 3, 3, 3, 3, 3, 3, 3, 3, 3, 3, 3, 3, 3, 3, 3, 3,\n",
       "       3, 3, 3, 3, 3, 3, 3, 3], dtype=int32)"
      ]
     },
     "execution_count": 36,
     "metadata": {},
     "output_type": "execute_result"
    }
   ],
   "source": [
    "optimum_cluster=fcluster(Z,t=79,criterion='distance')\n",
    "optimum_cluster"
   ]
  },
  {
   "cell_type": "markdown",
   "metadata": {},
   "source": [
    "### Use matplotlib to visually observe the clusters in 2D space "
   ]
  },
  {
   "cell_type": "code",
   "execution_count": 41,
   "metadata": {},
   "outputs": [
    {
     "data": {
      "text/plain": [
       "<matplotlib.collections.PathCollection at 0x16a634874e0>"
      ]
     },
     "execution_count": 41,
     "metadata": {},
     "output_type": "execute_result"
    },
    {
     "data": {
      "image/png": "[encoded data removed]",
      "text/plain": [
       "<Figure size 432x288 with 1 Axes>"
      ]
     },
     "metadata": {
      "needs_background": "light"
     },
     "output_type": "display_data"
    }
   ],
   "source": [
    "plt.scatter(data_hirar[0],data_hirar[1],c=optimum_cluster)"
   ]
  }
 ],
 "metadata": {
  "kernelspec": {
   "display_name": "Python 3",
   "language": "python",
   "name": "python3"
  },
  "language_info": {
   "codemirror_mode": {
    "name": "ipython",
    "version": 3
   },
   "file_extension": ".py",
   "mimetype": "text/x-python",
   "name": "python",
   "nbconvert_exporter": "python",
   "pygments_lexer": "ipython3",
   "version": "3.7.6"
  }
 },
 "nbformat": 4,
 "nbformat_minor": 2
}
