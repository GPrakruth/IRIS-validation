{
 "cells": [
  {
   "cell_type": "code",
   "execution_count": 1,
   "metadata": {
    "colab": {
     "base_uri": "https://localhost:8080/",
     "height": 79
    },
    "colab_type": "code",
    "id": "B3r1aM-6BPGo",
    "outputId": "2286d66d-272e-4ec9-c606-73e17d6cf438"
   },
   "outputs": [
    {
     "name": "stderr",
     "output_type": "stream",
     "text": [
      "Using TensorFlow backend.\n"
     ]
    },
    {
     "data": {
      "text/html": [
       "<p style=\"color: red;\">\n",
       "The default version of TensorFlow in Colab will soon switch to TensorFlow 2.x.<br>\n",
       "We recommend you <a href=\"https://www.tensorflow.org/guide/migrate\" target=\"_blank\">upgrade</a> now \n",
       "or ensure your notebook will continue to use TensorFlow 1.x via the <code>%tensorflow_version 1.x</code> magic:\n",
       "<a href=\"https://colab.research.google.com/notebooks/tensorflow_version.ipynb\" target=\"_blank\">more info</a>.</p>\n"
      ],
      "text/plain": [
       "<IPython.core.display.HTML object>"
      ]
     },
     "metadata": {
      "tags": []
     },
     "output_type": "display_data"
    }
   ],
   "source": [
    "import h5py\n",
    "import numpy as np\n",
    "import keras"
   ]
  },
  {
   "cell_type": "code",
   "execution_count": 0,
   "metadata": {
    "colab": {},
    "colab_type": "code",
    "id": "Ib-DNA6STHzo"
   },
   "outputs": [],
   "source": [
    "from sklearn.cluster import KMeans\n",
    "from sklearn import metrics\n",
    "from scipy.spatial.distance import cdist\n",
    "import numpy as np\n",
    "import matplotlib.pyplot as plt\n"
   ]
  },
  {
   "cell_type": "code",
   "execution_count": 0,
   "metadata": {
    "colab": {},
    "colab_type": "code",
    "id": "Wj-9Ia_eclCo"
   },
   "outputs": [],
   "source": [
    "import tensorflow as tf\n",
    "from sklearn.metrics import classification_report\n"
   ]
  },
  {
   "cell_type": "code",
   "execution_count": 4,
   "metadata": {
    "colab": {
     "base_uri": "https://localhost:8080/",
     "height": 121
    },
    "colab_type": "code",
    "id": "MDaD--bwBdP-",
    "outputId": "09d8c3b1-7816-4d95-d75a-258465d6fb78"
   },
   "outputs": [
    {
     "name": "stdout",
     "output_type": "stream",
     "text": [
      "Go to this URL in a browser: https://accounts.google.com/o/oauth2/auth?client_id=947318989803-6bn6qk8qdgf4n4g3pfee6491hc0brc4i.apps.googleusercontent.com&redirect_uri=urn%3aietf%3awg%3aoauth%3a2.0%3aoob&response_type=code&scope=email%20https%3a%2f%2fwww.googleapis.com%2fauth%2fdocs.test%20https%3a%2f%2fwww.googleapis.com%2fauth%2fdrive%20https%3a%2f%2fwww.googleapis.com%2fauth%2fdrive.photos.readonly%20https%3a%2f%2fwww.googleapis.com%2fauth%2fpeopleapi.readonly\n",
      "\n",
      "Enter your authorization code:\n",
      "··········\n",
      "Mounted at /content/drive\n"
     ]
    }
   ],
   "source": [
    "from google.colab import drive\n",
    "drive.mount('/content/drive')"
   ]
  },
  {
   "cell_type": "code",
   "execution_count": 0,
   "metadata": {
    "colab": {},
    "colab_type": "code",
    "id": "Z3TinbFgBeO4"
   },
   "outputs": [],
   "source": [
    "import pandas as pd"
   ]
  },
  {
   "cell_type": "code",
   "execution_count": 0,
   "metadata": {
    "colab": {},
    "colab_type": "code",
    "id": "2GGrlHsGNNwv"
   },
   "outputs": [],
   "source": [
    "from sklearn.cluster import KMeans\n",
    "from sklearn import metrics\n",
    "from scipy.spatial.distance import cdist\n",
    "import numpy as np\n",
    "import matplotlib.pyplot as plt"
   ]
  },
  {
   "cell_type": "code",
   "execution_count": 0,
   "metadata": {
    "colab": {},
    "colab_type": "code",
    "id": "8GqJE5W7CtrD"
   },
   "outputs": [],
   "source": [
    "f1 = h5py.File(\"/content/drive/My Drive/Colab folder/SVHN_single_grey1.h5\",'r')\n",
    "#print(list(f1.keys()))"
   ]
  },
  {
   "cell_type": "code",
   "execution_count": 8,
   "metadata": {
    "colab": {
     "base_uri": "https://localhost:8080/",
     "height": 34
    },
    "colab_type": "code",
    "id": "wKKjrxmdHHKy",
    "outputId": "4a8ade5d-52a8-4c09-c83f-308f90469227"
   },
   "outputs": [
    {
     "name": "stdout",
     "output_type": "stream",
     "text": [
      "['X_test', 'X_train', 'X_val', 'y_test', 'y_train', 'y_val']\n"
     ]
    }
   ],
   "source": [
    "print(list(f1.keys()))"
   ]
  },
  {
   "cell_type": "code",
   "execution_count": 0,
   "metadata": {
    "colab": {},
    "colab_type": "code",
    "id": "YrtPI9BFHjt3"
   },
   "outputs": [],
   "source": [
    "X_train = np.array(f1['X_train'])\n",
    "X_test = np.array(f1['X_test'])\n",
    "X_val = np.array(f1['X_val'])\n",
    "y_test = np.array(f1['y_test'])\n",
    "y_train = np.array(f1['y_train'])\n",
    "y_val = np.array(f1['y_val'])"
   ]
  },
  {
   "cell_type": "code",
   "execution_count": 10,
   "metadata": {
    "colab": {
     "base_uri": "https://localhost:8080/",
     "height": 34
    },
    "colab_type": "code",
    "id": "22i3eLStgPYX",
    "outputId": "a6c035c3-8171-4afe-8b6a-f5a6be193402"
   },
   "outputs": [
    {
     "name": "stdout",
     "output_type": "stream",
     "text": [
      "(42000, 32, 32) (18000, 32, 32) (60000, 32, 32) (42000,) (18000,) (60000,)\n"
     ]
    }
   ],
   "source": [
    "print(X_train.shape,X_test.shape,X_val.shape,y_train.shape,y_test.shape,y_val.shape)"
   ]
  },
  {
   "cell_type": "markdown",
   "metadata": {
    "colab_type": "text",
    "id": "TywNDX70ALRW"
   },
   "source": []
  },
  {
   "cell_type": "code",
   "execution_count": 0,
   "metadata": {
    "colab": {},
    "colab_type": "code",
    "id": "ZZ58llqu4ObO"
   },
   "outputs": [],
   "source": [
    "from sklearn.neighbors import KNeighborsClassifier"
   ]
  },
  {
   "cell_type": "code",
   "execution_count": 12,
   "metadata": {
    "colab": {
     "base_uri": "https://localhost:8080/",
     "height": 34
    },
    "colab_type": "code",
    "id": "a3A4LFbZ53m7",
    "outputId": "cc2984ca-ccd6-4058-8d3a-1f294b4481f0"
   },
   "outputs": [
    {
     "data": {
      "text/plain": [
       "(42000, 32, 32)"
      ]
     },
     "execution_count": 12,
     "metadata": {
      "tags": []
     },
     "output_type": "execute_result"
    }
   ],
   "source": [
    "X_train.shape"
   ]
  },
  {
   "cell_type": "code",
   "execution_count": 0,
   "metadata": {
    "colab": {},
    "colab_type": "code",
    "id": "60WEMGeW8qRf"
   },
   "outputs": [],
   "source": [
    "#nxtrainsamples, nxtrain1, nytrain1 = X_train.shape\n",
    "#X_train_new = X_train.reshape((nxtrainsamples,nxtrain1*nytrain1))\n",
    "#nxtestsamples, nxtest1, nytest1 = X_test.shape\n",
    "#X_test_new = X_test.reshape((nxtestsamples,28*28))\n",
    "\n",
    "#nytainsamples, nxtrain2, nytrain2 = y_train.shape\n",
    "#y_train_new = y_train.reshape((nytrainsamples,nxtrain2*nytrain2))\n",
    "#nytestsamples, nxtest2, nytest2 = y_test.shape\n",
    "#y_test_new = y_test.reshape((nytestsamples,nxtest2*nytest2))\n",
    "\n",
    "#nvalsxsamples, nxtrain3, nytrain3 = X_val.shape\n",
    "#X_val_new = X_val.reshape((nvalsxsamples,28*28))\n",
    "#nvalsysamples, nxtest3, nytest3 = y_val.shape\n",
    "#y_val_new = y_val.reshape((nvalsysamples,nxtest3*nytest3))"
   ]
  },
  {
   "cell_type": "code",
   "execution_count": 0,
   "metadata": {
    "colab": {},
    "colab_type": "code",
    "id": "a48gQkGs5_z4"
   },
   "outputs": [],
   "source": [
    "nxtrainsamples, nxtrain1, nytrain1 = X_train.shape\n",
    "X_train_new = X_train.reshape((nxtrainsamples,nxtrain1*nytrain1))\n",
    "nxtestsamples, nxtest1, nytest1 = X_test.shape\n",
    "X_test_new = X_test.reshape((nxtestsamples,nxtest1*nytest1))\n",
    "\n",
    "#nytainsamples, nxtrain2, nytrain2 = y_train.shape\n",
    "#y_train_new = y_train.reshape((nytrainsamples,nxtrain2*nytrain2))\n",
    "#nytestsamples, nxtest2, nytest2 = y_test.shape\n",
    "#y_test_new = y_test.reshape((nytestsamples,nxtest2*nytest2))\n",
    "\n",
    "nvalsxsamples, nxtrain3, nytrain3 = X_val.shape\n",
    "X_val_new = X_val.reshape((nvalsxsamples,nxtrain3*nytrain3))\n",
    "#nvalsysamples, nxtest3, nytest3 = y_val.shape\n",
    "#y_val_new = y_val.reshape((nvalsysamples,nxtest3*nytest3))"
   ]
  },
  {
   "cell_type": "code",
   "execution_count": 14,
   "metadata": {
    "colab": {
     "base_uri": "https://localhost:8080/",
     "height": 34
    },
    "colab_type": "code",
    "id": "dBM_XfWR3jDQ",
    "outputId": "27bbff7c-9471-4fb5-c856-c3e2b9c9747b"
   },
   "outputs": [
    {
     "name": "stdout",
     "output_type": "stream",
     "text": [
      "(60000, 1024)\n"
     ]
    }
   ],
   "source": [
    "print(X_val_new.shape)"
   ]
  },
  {
   "cell_type": "code",
   "execution_count": 15,
   "metadata": {
    "colab": {
     "base_uri": "https://localhost:8080/",
     "height": 50
    },
    "colab_type": "code",
    "id": "9XbKWlmC6zI8",
    "outputId": "36964d4a-bef8-4714-e838-2b1668f9e0b6"
   },
   "outputs": [
    {
     "name": "stdout",
     "output_type": "stream",
     "text": [
      "(42000, 28, 28)\n",
      "(18000, 28, 28)\n"
     ]
    }
   ],
   "source": [
    "import cv2\n",
    "\n",
    "#Create a resized dataset for training and testing inputs with corresponding size. Here we are resizing it to 28X28 (same input size as MNIST)\n",
    "x_train_res = np.zeros((X_train.shape[0],28,28), dtype=np.float32)\n",
    "for i in range(X_train.shape[0]):\n",
    "  #using cv2.resize to resize each train example to 28X28 size using Cubic interpolation\n",
    "  x_train_res[i,:,:] = cv2.resize(X_train[i], dsize=(28, 28), interpolation=cv2.INTER_CUBIC)\n",
    "\n",
    "x_test_res = np.zeros((X_test.shape[0],28,28), dtype=np.float32)\n",
    "for i in range(X_test.shape[0]):\n",
    "  #using cv2.resize to resize each test example to 28X28 size using Cubic interpolation\n",
    "  x_test_res[i,:,:] = cv2.resize(X_test[i], dsize=(28, 28), interpolation=cv2.INTER_CUBIC)\n",
    "\n",
    "x_val_res = np.zeros((X_val.shape[0],28,28), dtype=np.float32)\n",
    "for i in range(X_val.shape[0]):\n",
    "  #using cv2.resize to resize each test example to 28X28 size using Cubic interpolation\n",
    "  x_val_res[i,:,:] = cv2.resize(X_val[i], dsize=(28, 28), interpolation=cv2.INTER_CUBIC)\n",
    "  \n",
    "#We don't need the original dataset anynmore so we can clear up memory consumed by original dataset\n",
    "#del x_train\n",
    "#del x_test\n",
    "\n",
    "print(x_train_res.shape)\n",
    "print(x_test_res.shape)\n"
   ]
  },
  {
   "cell_type": "code",
   "execution_count": 0,
   "metadata": {
    "colab": {
     "base_uri": "https://localhost:8080/",
     "height": 1000
    },
    "colab_type": "code",
    "id": "gsITTdq32DQt",
    "outputId": "9b98bf8a-e538-4ab0-e82a-e920a67eb2df"
   },
   "outputs": [
    {
     "name": "stdout",
     "output_type": "stream",
     "text": [
      "              precision    recall  f1-score   support\n",
      "\n",
      "           0       0.47      0.52      0.49      1814\n",
      "           1       0.50      0.57      0.53      1828\n",
      "           2       0.54      0.48      0.51      1803\n",
      "           3       0.37      0.35      0.36      1719\n",
      "           4       0.60      0.57      0.59      1812\n",
      "           5       0.38      0.33      0.36      1768\n",
      "           6       0.38      0.39      0.39      1832\n",
      "           7       0.63      0.59      0.61      1808\n",
      "           8       0.34      0.37      0.36      1812\n",
      "           9       0.39      0.40      0.40      1804\n",
      "\n",
      "    accuracy                           0.46     18000\n",
      "   macro avg       0.46      0.46      0.46     18000\n",
      "weighted avg       0.46      0.46      0.46     18000\n",
      "\n",
      "1 0.45916666666666667\n",
      "              precision    recall  f1-score   support\n",
      "\n",
      "           0       0.34      0.68      0.46      1814\n",
      "           1       0.40      0.71      0.52      1828\n",
      "           2       0.49      0.54      0.51      1803\n",
      "           3       0.35      0.38      0.36      1719\n",
      "           4       0.60      0.56      0.58      1812\n",
      "           5       0.45      0.32      0.37      1768\n",
      "           6       0.48      0.31      0.38      1832\n",
      "           7       0.78      0.55      0.64      1808\n",
      "           8       0.45      0.25      0.32      1812\n",
      "           9       0.60      0.32      0.41      1804\n",
      "\n",
      "    accuracy                           0.46     18000\n",
      "   macro avg       0.49      0.46      0.46     18000\n",
      "weighted avg       0.50      0.46      0.46     18000\n",
      "\n",
      "3 0.4617777777777778\n",
      "              precision    recall  f1-score   support\n",
      "\n",
      "           0       0.38      0.66      0.48      1814\n",
      "           1       0.44      0.70      0.54      1828\n",
      "           2       0.55      0.52      0.53      1803\n",
      "           3       0.42      0.39      0.41      1719\n",
      "           4       0.67      0.61      0.64      1812\n",
      "           5       0.48      0.36      0.41      1768\n",
      "           6       0.47      0.38      0.42      1832\n",
      "           7       0.72      0.58      0.64      1808\n",
      "           8       0.42      0.33      0.37      1812\n",
      "           9       0.52      0.36      0.43      1804\n",
      "\n",
      "    accuracy                           0.49     18000\n",
      "   macro avg       0.51      0.49      0.49     18000\n",
      "weighted avg       0.51      0.49      0.49     18000\n",
      "\n",
      "5 0.49016666666666664\n",
      "              precision    recall  f1-score   support\n",
      "\n",
      "           0       0.42      0.67      0.52      1814\n",
      "           1       0.46      0.72      0.56      1828\n",
      "           2       0.56      0.54      0.55      1803\n",
      "           3       0.40      0.41      0.41      1719\n",
      "           4       0.65      0.63      0.64      1812\n",
      "           5       0.47      0.38      0.42      1768\n",
      "           6       0.48      0.41      0.44      1832\n",
      "           7       0.72      0.60      0.66      1808\n",
      "           8       0.44      0.33      0.37      1812\n",
      "           9       0.57      0.38      0.46      1804\n",
      "\n",
      "    accuracy                           0.51     18000\n",
      "   macro avg       0.52      0.51      0.50     18000\n",
      "weighted avg       0.52      0.51      0.50     18000\n",
      "\n",
      "7 0.5070555555555556\n",
      "              precision    recall  f1-score   support\n",
      "\n",
      "           0       0.43      0.68      0.52      1814\n",
      "           1       0.46      0.73      0.56      1828\n",
      "           2       0.57      0.55      0.56      1803\n",
      "           3       0.42      0.41      0.42      1719\n",
      "           4       0.64      0.63      0.64      1812\n",
      "           5       0.49      0.38      0.43      1768\n",
      "           6       0.49      0.40      0.44      1832\n",
      "           7       0.73      0.60      0.66      1808\n",
      "           8       0.45      0.34      0.39      1812\n",
      "           9       0.56      0.39      0.46      1804\n",
      "\n",
      "    accuracy                           0.51     18000\n",
      "   macro avg       0.52      0.51      0.51     18000\n",
      "weighted avg       0.52      0.51      0.51     18000\n",
      "\n",
      "9 0.5124444444444445\n"
     ]
    }
   ],
   "source": [
    "for i in range(1,10,2):\n",
    "  knn = KNeighborsClassifier(n_neighbors=i)\n",
    "  modelknn = knn.fit(X_train_new,y_train)\n",
    "  predknn = knn.predict(X_test_new)\n",
    "  w= metrics.accuracy_score(predknn,y_test)\n",
    "  print(classification_report(y_test, predknn))\n",
    "  print (i,w)"
   ]
  },
  {
   "cell_type": "code",
   "execution_count": 0,
   "metadata": {
    "colab": {},
    "colab_type": "code",
    "id": "Z-NTQEH4SuT0"
   },
   "outputs": [],
   "source": [
    "#y_pred_new = knn.predict(X_test_new)"
   ]
  },
  {
   "cell_type": "code",
   "execution_count": 0,
   "metadata": {
    "colab": {
     "base_uri": "https://localhost:8080/",
     "height": 302
    },
    "colab_type": "code",
    "id": "35HUdeYrSqF3",
    "outputId": "bd7a62d3-f3cc-4a7d-8230-9c35fec69087"
   },
   "outputs": [
    {
     "name": "stdout",
     "output_type": "stream",
     "text": [
      "              precision    recall  f1-score   support\n",
      "\n",
      "           0       0.43      0.68      0.52      1814\n",
      "           1       0.46      0.73      0.56      1828\n",
      "           2       0.57      0.55      0.56      1803\n",
      "           3       0.42      0.41      0.42      1719\n",
      "           4       0.64      0.63      0.64      1812\n",
      "           5       0.49      0.38      0.43      1768\n",
      "           6       0.49      0.40      0.44      1832\n",
      "           7       0.73      0.60      0.66      1808\n",
      "           8       0.45      0.34      0.39      1812\n",
      "           9       0.56      0.39      0.46      1804\n",
      "\n",
      "    accuracy                           0.51     18000\n",
      "   macro avg       0.52      0.51      0.51     18000\n",
      "weighted avg       0.52      0.51      0.51     18000\n",
      "\n"
     ]
    }
   ],
   "source": [
    "from sklearn.metrics import classification_report\n",
    "print(classification_report(y_test, predknn))"
   ]
  },
  {
   "cell_type": "code",
   "execution_count": 0,
   "metadata": {
    "colab": {
     "base_uri": "https://localhost:8080/",
     "height": 295
    },
    "colab_type": "code",
    "id": "GSuOOzrII2vL",
    "outputId": "45a085f1-b6f7-4073-9658-8ab25fd78c33"
   },
   "outputs": [
    {
     "data": {
      "image/png": "[encoded data removed]",
      "text/plain": [
       "<Figure size 432x288 with 1 Axes>"
      ]
     },
     "metadata": {
      "tags": []
     },
     "output_type": "display_data"
    }
   ],
   "source": [
    "distortions = []\n",
    "K = range(1,15)\n",
    "for k in K:\n",
    "    kmeanModel = KMeans(n_clusters=k)\n",
    "    kmeanModel.fit(X_train_new)\n",
    "    distortions.append(sum(np.min(cdist(X_train_new, kmeanModel.cluster_centers_, 'euclidean'), axis=1)) / X_train_new.shape[0])\n",
    "\n",
    "# Plot the elbow\n",
    "plt.plot(K, distortions, 'bx-')\n",
    "plt.xlabel('k')\n",
    "plt.ylabel('Distortion')\n",
    "plt.title('The Elbow Method showing the optimal k')\n",
    "plt.show()"
   ]
  },
  {
   "cell_type": "code",
   "execution_count": 0,
   "metadata": {
    "colab": {},
    "colab_type": "code",
    "id": "3nFcVKKeT6RK"
   },
   "outputs": [],
   "source": [
    "kmean_y_pred = kmeanModel.predict(X_test_new)"
   ]
  },
  {
   "cell_type": "code",
   "execution_count": 0,
   "metadata": {
    "colab": {
     "base_uri": "https://localhost:8080/",
     "height": 423
    },
    "colab_type": "code",
    "id": "fN7XdGYMn0Xi",
    "outputId": "1007e23f-c006-45de-a928-e71107ffc017"
   },
   "outputs": [
    {
     "name": "stdout",
     "output_type": "stream",
     "text": [
      "              precision    recall  f1-score   support\n",
      "\n",
      "           0       0.15      0.07      0.10      1814\n",
      "           1       0.14      0.05      0.07      1828\n",
      "           2       0.16      0.04      0.07      1803\n",
      "           3       0.09      0.10      0.10      1719\n",
      "           4       0.10      0.06      0.07      1812\n",
      "           5       0.11      0.12      0.11      1768\n",
      "           6       0.09      0.09      0.09      1832\n",
      "           7       0.11      0.11      0.11      1808\n",
      "           8       0.10      0.08      0.09      1812\n",
      "           9       0.10      0.11      0.11      1804\n",
      "          10       0.00      0.00      0.00         0\n",
      "          11       0.00      0.00      0.00         0\n",
      "          12       0.00      0.00      0.00         0\n",
      "          13       0.00      0.00      0.00         0\n",
      "\n",
      "    accuracy                           0.08     18000\n",
      "   macro avg       0.08      0.06      0.07     18000\n",
      "weighted avg       0.12      0.08      0.09     18000\n",
      "\n"
     ]
    },
    {
     "name": "stderr",
     "output_type": "stream",
     "text": [
      "/usr/local/lib/python3.6/dist-packages/sklearn/metrics/classification.py:1439: UndefinedMetricWarning: Recall and F-score are ill-defined and being set to 0.0 in labels with no true samples.\n",
      "  'recall', 'true', average, warn_for)\n"
     ]
    }
   ],
   "source": [
    "from sklearn.metrics import classification_report\n",
    "print(classification_report(y_test, kmean_y_pred))"
   ]
  },
  {
   "cell_type": "markdown",
   "metadata": {
    "colab_type": "text",
    "id": "tu3BeJYURjmB"
   },
   "source": [
    "from the above elbow curve optimal K is 5"
   ]
  },
  {
   "cell_type": "code",
   "execution_count": 0,
   "metadata": {
    "colab": {},
    "colab_type": "code",
    "id": "9-OdpnUoZZsF"
   },
   "outputs": [],
   "source": [
    "trainY = tf.keras.utils.to_categorical(y_train, num_classes=10)\n",
    "testY = tf.keras.utils.to_categorical(y_test, num_classes=10)\n",
    "valy = tf.keras.utils.to_categorical(y_val, num_classes=10)"
   ]
  },
  {
   "cell_type": "markdown",
   "metadata": {
    "colab_type": "text",
    "id": "LuU0EqwDK0HM"
   },
   "source": [
    "model without Batch normalization\n"
   ]
  },
  {
   "cell_type": "code",
   "execution_count": 0,
   "metadata": {
    "colab": {},
    "colab_type": "code",
    "id": "OCC9YsSYchwj"
   },
   "outputs": [],
   "source": [
    "#Initialize Sequential model\n",
    "model = tf.keras.models.Sequential()\n",
    "\n",
    "#Reshape data from 2D to 1D -> 28x28 to 784\n",
    "model.add(tf.keras.layers.Reshape((784,),input_shape=(28,28,)))\n",
    "\n",
    "#Normalize the data\n",
    "#model.add(tf.keras.layers.BatchNormalization())"
   ]
  },
  {
   "cell_type": "code",
   "execution_count": 0,
   "metadata": {
    "colab": {},
    "colab_type": "code",
    "id": "0AxTs7Cm46r3"
   },
   "outputs": [],
   "source": [
    "tf.keras.backend.clear_session()\n",
    "model = tf.keras.models.Sequential()\n",
    "model.add(tf.keras.layers.Reshape((784,),input_shape=(28,28,)))\n",
    "#model.add(tf.keras.layers.BatchNormalization())"
   ]
  },
  {
   "cell_type": "code",
   "execution_count": 19,
   "metadata": {
    "colab": {
     "base_uri": "https://localhost:8080/",
     "height": 87
    },
    "colab_type": "code",
    "id": "ujtP3pxOFh8H",
    "outputId": "f4bc29b1-7479-42c1-d8cc-9c4079eac24b"
   },
   "outputs": [
    {
     "name": "stdout",
     "output_type": "stream",
     "text": [
      "WARNING:tensorflow:From /usr/local/lib/python3.6/dist-packages/tensorflow_core/python/ops/resource_variable_ops.py:1630: calling BaseResourceVariable.__init__ (from tensorflow.python.ops.resource_variable_ops) with constraint is deprecated and will be removed in a future version.\n",
      "Instructions for updating:\n",
      "If using Keras pass *_constraint arguments to layers.\n"
     ]
    }
   ],
   "source": [
    "#Hidden layers\n",
    "model.add(tf.keras.layers.Dense(200, activation='relu', name='Layer_1'))\n",
    "\n",
    "#model.add(tf.keras.layers.BatchNormalization())\n",
    "\n",
    "model.add(tf.keras.layers.Dense(100, activation='relu', name='Layer_2'))\n",
    "#model.add(tf.keras.layers.BatchNormalization())\n",
    "#Dropout layer\n",
    "#model.add(tf.keras.layers.Dropout(0.5))\n",
    "\n",
    "#Hidden layers\n",
    "model.add(tf.keras.layers.Dense(60, activation='relu', name='Layer_3'))\n",
    "#model.add(tf.keras.layers.BatchNormalization())\n",
    "model.add(tf.keras.layers.Dense(30, activation='relu', name='Layer_4'))\n",
    "\n",
    "#Dropout layer\n",
    "model.add(tf.keras.layers.Dropout(0.3))"
   ]
  },
  {
   "cell_type": "code",
   "execution_count": 0,
   "metadata": {
    "colab": {},
    "colab_type": "code",
    "id": "a0pkhMJpFnW0"
   },
   "outputs": [],
   "source": [
    "#Output layer\n",
    "model.add(tf.keras.layers.Dense(10, activation='softmax', name='Output'))"
   ]
  },
  {
   "cell_type": "code",
   "execution_count": 0,
   "metadata": {
    "colab": {},
    "colab_type": "code",
    "id": "WFbLD-03FpiV"
   },
   "outputs": [],
   "source": [
    "model.compile(optimizer='sgd', loss='categorical_crossentropy', metrics=['accuracy'])"
   ]
  },
  {
   "cell_type": "code",
   "execution_count": 0,
   "metadata": {
    "colab": {},
    "colab_type": "code",
    "id": "niKuHv0S0YVU"
   },
   "outputs": [],
   "source": [
    "early_stopping = keras.callbacks.EarlyStopping(monitor='val_acc', patience=10, verbose=1, mode='auto')\n",
    "callback_list = [early_stopping]"
   ]
  },
  {
   "cell_type": "code",
   "execution_count": 0,
   "metadata": {
    "colab": {},
    "colab_type": "code",
    "id": "phLP46_qIBZd"
   },
   "outputs": [],
   "source": [
    "batch_size = 128\n",
    "num_classes = 10\n",
    "epochs = 12"
   ]
  },
  {
   "cell_type": "code",
   "execution_count": 24,
   "metadata": {
    "colab": {
     "base_uri": "https://localhost:8080/",
     "height": 1000
    },
    "colab_type": "code",
    "id": "nrs5hWjt0YS7",
    "outputId": "7a19f476-dfca-4fae-be53-96477d7f8151"
   },
   "outputs": [
    {
     "name": "stdout",
     "output_type": "stream",
     "text": [
      "CPU times: user 3 µs, sys: 1 µs, total: 4 µs\n",
      "Wall time: 8.58 µs\n",
      "Train on 42000 samples, validate on 60000 samples\n",
      "Epoch 1/96\n",
      "42000/42000 [==============================] - 3s 71us/sample - loss: nan - acc: 0.0995 - val_loss: nan - val_acc: 0.1000\n",
      "Epoch 2/96\n",
      "42000/42000 [==============================] - 3s 62us/sample - loss: nan - acc: 0.0997 - val_loss: nan - val_acc: 0.1000\n",
      "Epoch 3/96\n",
      "42000/42000 [==============================] - 3s 61us/sample - loss: nan - acc: 0.0997 - val_loss: nan - val_acc: 0.1000\n",
      "Epoch 4/96\n",
      "42000/42000 [==============================] - 3s 61us/sample - loss: nan - acc: 0.0997 - val_loss: nan - val_acc: 0.1000\n",
      "Epoch 5/96\n",
      "42000/42000 [==============================] - 3s 61us/sample - loss: nan - acc: 0.0997 - val_loss: nan - val_acc: 0.1000\n",
      "Epoch 6/96\n",
      "42000/42000 [==============================] - 3s 62us/sample - loss: nan - acc: 0.0997 - val_loss: nan - val_acc: 0.1000\n",
      "Epoch 7/96\n",
      "42000/42000 [==============================] - 3s 61us/sample - loss: nan - acc: 0.0997 - val_loss: nan - val_acc: 0.1000\n",
      "Epoch 8/96\n",
      "42000/42000 [==============================] - 3s 61us/sample - loss: nan - acc: 0.0997 - val_loss: nan - val_acc: 0.1000\n",
      "Epoch 9/96\n",
      "42000/42000 [==============================] - 3s 60us/sample - loss: nan - acc: 0.0997 - val_loss: nan - val_acc: 0.1000\n",
      "Epoch 10/96\n",
      "42000/42000 [==============================] - 3s 61us/sample - loss: nan - acc: 0.0997 - val_loss: nan - val_acc: 0.1000\n",
      "Epoch 11/96\n",
      "42000/42000 [==============================] - 3s 62us/sample - loss: nan - acc: 0.0997 - val_loss: nan - val_acc: 0.1000\n",
      "Epoch 12/96\n",
      "42000/42000 [==============================] - 3s 60us/sample - loss: nan - acc: 0.0997 - val_loss: nan - val_acc: 0.1000\n",
      "Epoch 13/96\n",
      "42000/42000 [==============================] - 3s 61us/sample - loss: nan - acc: 0.0997 - val_loss: nan - val_acc: 0.1000\n",
      "Epoch 14/96\n",
      "42000/42000 [==============================] - 3s 61us/sample - loss: nan - acc: 0.0997 - val_loss: nan - val_acc: 0.1000\n",
      "Epoch 15/96\n",
      "42000/42000 [==============================] - 3s 61us/sample - loss: nan - acc: 0.0997 - val_loss: nan - val_acc: 0.1000\n",
      "Epoch 16/96\n",
      "42000/42000 [==============================] - 3s 61us/sample - loss: nan - acc: 0.0997 - val_loss: nan - val_acc: 0.1000\n",
      "Epoch 17/96\n",
      "42000/42000 [==============================] - 3s 62us/sample - loss: nan - acc: 0.0997 - val_loss: nan - val_acc: 0.1000\n",
      "Epoch 18/96\n",
      "42000/42000 [==============================] - 3s 61us/sample - loss: nan - acc: 0.0997 - val_loss: nan - val_acc: 0.1000\n",
      "Epoch 19/96\n",
      "42000/42000 [==============================] - 3s 61us/sample - loss: nan - acc: 0.0997 - val_loss: nan - val_acc: 0.1000\n",
      "Epoch 20/96\n",
      "42000/42000 [==============================] - 3s 61us/sample - loss: nan - acc: 0.0997 - val_loss: nan - val_acc: 0.1000\n",
      "Epoch 21/96\n",
      "42000/42000 [==============================] - 3s 61us/sample - loss: nan - acc: 0.0997 - val_loss: nan - val_acc: 0.1000\n",
      "Epoch 22/96\n",
      "42000/42000 [==============================] - 3s 61us/sample - loss: nan - acc: 0.0997 - val_loss: nan - val_acc: 0.1000\n",
      "Epoch 23/96\n",
      "42000/42000 [==============================] - 3s 61us/sample - loss: nan - acc: 0.0997 - val_loss: nan - val_acc: 0.1000\n",
      "Epoch 24/96\n",
      "42000/42000 [==============================] - 3s 61us/sample - loss: nan - acc: 0.0997 - val_loss: nan - val_acc: 0.1000\n",
      "Epoch 25/96\n",
      "42000/42000 [==============================] - 3s 62us/sample - loss: nan - acc: 0.0997 - val_loss: nan - val_acc: 0.1000\n",
      "Epoch 26/96\n",
      "42000/42000 [==============================] - 3s 61us/sample - loss: nan - acc: 0.0997 - val_loss: nan - val_acc: 0.1000\n",
      "Epoch 27/96\n",
      "42000/42000 [==============================] - 3s 61us/sample - loss: nan - acc: 0.0997 - val_loss: nan - val_acc: 0.1000\n",
      "Epoch 28/96\n",
      "42000/42000 [==============================] - 3s 60us/sample - loss: nan - acc: 0.0997 - val_loss: nan - val_acc: 0.1000\n",
      "Epoch 29/96\n",
      "42000/42000 [==============================] - 3s 61us/sample - loss: nan - acc: 0.0997 - val_loss: nan - val_acc: 0.1000\n",
      "Epoch 30/96\n",
      "42000/42000 [==============================] - 3s 61us/sample - loss: nan - acc: 0.0997 - val_loss: nan - val_acc: 0.1000\n",
      "Epoch 31/96\n",
      "42000/42000 [==============================] - 3s 62us/sample - loss: nan - acc: 0.0997 - val_loss: nan - val_acc: 0.1000\n",
      "Epoch 32/96\n",
      "42000/42000 [==============================] - 3s 61us/sample - loss: nan - acc: 0.0997 - val_loss: nan - val_acc: 0.1000\n",
      "Epoch 33/96\n",
      "42000/42000 [==============================] - 3s 62us/sample - loss: nan - acc: 0.0997 - val_loss: nan - val_acc: 0.1000\n",
      "Epoch 34/96\n",
      "42000/42000 [==============================] - 3s 62us/sample - loss: nan - acc: 0.0997 - val_loss: nan - val_acc: 0.1000\n",
      "Epoch 35/96\n",
      "42000/42000 [==============================] - 3s 62us/sample - loss: nan - acc: 0.0997 - val_loss: nan - val_acc: 0.1000\n",
      "Epoch 36/96\n",
      "42000/42000 [==============================] - 3s 61us/sample - loss: nan - acc: 0.0997 - val_loss: nan - val_acc: 0.1000\n",
      "Epoch 37/96\n",
      "42000/42000 [==============================] - 3s 61us/sample - loss: nan - acc: 0.0997 - val_loss: nan - val_acc: 0.1000\n",
      "Epoch 38/96\n",
      "42000/42000 [==============================] - 3s 61us/sample - loss: nan - acc: 0.0997 - val_loss: nan - val_acc: 0.1000\n",
      "Epoch 39/96\n",
      "42000/42000 [==============================] - 3s 62us/sample - loss: nan - acc: 0.0997 - val_loss: nan - val_acc: 0.1000\n",
      "Epoch 40/96\n",
      "42000/42000 [==============================] - 3s 61us/sample - loss: nan - acc: 0.0997 - val_loss: nan - val_acc: 0.1000\n",
      "Epoch 41/96\n",
      "42000/42000 [==============================] - 3s 60us/sample - loss: nan - acc: 0.0997 - val_loss: nan - val_acc: 0.1000\n",
      "Epoch 42/96\n",
      "42000/42000 [==============================] - 3s 61us/sample - loss: nan - acc: 0.0997 - val_loss: nan - val_acc: 0.1000\n",
      "Epoch 43/96\n",
      "42000/42000 [==============================] - 3s 61us/sample - loss: nan - acc: 0.0997 - val_loss: nan - val_acc: 0.1000\n",
      "Epoch 44/96\n",
      "42000/42000 [==============================] - 3s 61us/sample - loss: nan - acc: 0.0997 - val_loss: nan - val_acc: 0.1000\n",
      "Epoch 45/96\n",
      "42000/42000 [==============================] - 3s 61us/sample - loss: nan - acc: 0.0997 - val_loss: nan - val_acc: 0.1000\n",
      "Epoch 46/96\n",
      "42000/42000 [==============================] - 3s 61us/sample - loss: nan - acc: 0.0997 - val_loss: nan - val_acc: 0.1000\n",
      "Epoch 47/96\n",
      "42000/42000 [==============================] - 3s 61us/sample - loss: nan - acc: 0.0997 - val_loss: nan - val_acc: 0.1000\n",
      "Epoch 48/96\n",
      "42000/42000 [==============================] - 3s 61us/sample - loss: nan - acc: 0.0997 - val_loss: nan - val_acc: 0.1000\n",
      "Epoch 49/96\n",
      "42000/42000 [==============================] - 3s 62us/sample - loss: nan - acc: 0.0997 - val_loss: nan - val_acc: 0.1000\n",
      "Epoch 50/96\n",
      "42000/42000 [==============================] - 3s 61us/sample - loss: nan - acc: 0.0997 - val_loss: nan - val_acc: 0.1000\n",
      "Epoch 51/96\n",
      "42000/42000 [==============================] - 3s 61us/sample - loss: nan - acc: 0.0997 - val_loss: nan - val_acc: 0.1000\n",
      "Epoch 52/96\n",
      "42000/42000 [==============================] - 3s 60us/sample - loss: nan - acc: 0.0997 - val_loss: nan - val_acc: 0.1000\n",
      "Epoch 53/96\n",
      "42000/42000 [==============================] - 3s 60us/sample - loss: nan - acc: 0.0997 - val_loss: nan - val_acc: 0.1000\n",
      "Epoch 54/96\n",
      "42000/42000 [==============================] - 3s 61us/sample - loss: nan - acc: 0.0997 - val_loss: nan - val_acc: 0.1000\n",
      "Epoch 55/96\n",
      "42000/42000 [==============================] - 3s 61us/sample - loss: nan - acc: 0.0997 - val_loss: nan - val_acc: 0.1000\n",
      "Epoch 56/96\n",
      "42000/42000 [==============================] - 3s 61us/sample - loss: nan - acc: 0.0997 - val_loss: nan - val_acc: 0.1000\n",
      "Epoch 57/96\n",
      "42000/42000 [==============================] - 3s 61us/sample - loss: nan - acc: 0.0997 - val_loss: nan - val_acc: 0.1000\n",
      "Epoch 58/96\n",
      "42000/42000 [==============================] - 3s 61us/sample - loss: nan - acc: 0.0997 - val_loss: nan - val_acc: 0.1000\n",
      "Epoch 59/96\n",
      "42000/42000 [==============================] - 3s 61us/sample - loss: nan - acc: 0.0997 - val_loss: nan - val_acc: 0.1000\n",
      "Epoch 60/96\n",
      "42000/42000 [==============================] - 3s 62us/sample - loss: nan - acc: 0.0997 - val_loss: nan - val_acc: 0.1000\n",
      "Epoch 61/96\n",
      "42000/42000 [==============================] - 3s 61us/sample - loss: nan - acc: 0.0997 - val_loss: nan - val_acc: 0.1000\n",
      "Epoch 62/96\n",
      "42000/42000 [==============================] - 3s 62us/sample - loss: nan - acc: 0.0997 - val_loss: nan - val_acc: 0.1000\n",
      "Epoch 63/96\n",
      "42000/42000 [==============================] - 3s 61us/sample - loss: nan - acc: 0.0997 - val_loss: nan - val_acc: 0.1000\n",
      "Epoch 64/96\n",
      "42000/42000 [==============================] - 3s 62us/sample - loss: nan - acc: 0.0997 - val_loss: nan - val_acc: 0.1000\n",
      "Epoch 65/96\n",
      "42000/42000 [==============================] - 3s 65us/sample - loss: nan - acc: 0.0997 - val_loss: nan - val_acc: 0.1000\n",
      "Epoch 66/96\n",
      "42000/42000 [==============================] - 3s 65us/sample - loss: nan - acc: 0.0997 - val_loss: nan - val_acc: 0.1000\n",
      "Epoch 67/96\n",
      "42000/42000 [==============================] - 3s 62us/sample - loss: nan - acc: 0.0997 - val_loss: nan - val_acc: 0.1000\n",
      "Epoch 68/96\n",
      "42000/42000 [==============================] - 3s 61us/sample - loss: nan - acc: 0.0997 - val_loss: nan - val_acc: 0.1000\n",
      "Epoch 69/96\n",
      "42000/42000 [==============================] - 3s 62us/sample - loss: nan - acc: 0.0997 - val_loss: nan - val_acc: 0.1000\n",
      "Epoch 70/96\n",
      "42000/42000 [==============================] - 3s 61us/sample - loss: nan - acc: 0.0997 - val_loss: nan - val_acc: 0.1000\n",
      "Epoch 71/96\n",
      "42000/42000 [==============================] - 3s 61us/sample - loss: nan - acc: 0.0997 - val_loss: nan - val_acc: 0.1000\n",
      "Epoch 72/96\n",
      "42000/42000 [==============================] - 3s 62us/sample - loss: nan - acc: 0.0997 - val_loss: nan - val_acc: 0.1000\n",
      "Epoch 73/96\n",
      "42000/42000 [==============================] - 3s 62us/sample - loss: nan - acc: 0.0997 - val_loss: nan - val_acc: 0.1000\n",
      "Epoch 74/96\n",
      "42000/42000 [==============================] - 3s 65us/sample - loss: nan - acc: 0.0997 - val_loss: nan - val_acc: 0.1000\n",
      "Epoch 75/96\n",
      "42000/42000 [==============================] - 3s 65us/sample - loss: nan - acc: 0.0997 - val_loss: nan - val_acc: 0.1000\n",
      "Epoch 76/96\n",
      "42000/42000 [==============================] - 3s 65us/sample - loss: nan - acc: 0.0997 - val_loss: nan - val_acc: 0.1000\n",
      "Epoch 77/96\n",
      "42000/42000 [==============================] - 3s 63us/sample - loss: nan - acc: 0.0997 - val_loss: nan - val_acc: 0.1000\n",
      "Epoch 78/96\n",
      "42000/42000 [==============================] - 3s 61us/sample - loss: nan - acc: 0.0997 - val_loss: nan - val_acc: 0.1000\n",
      "Epoch 79/96\n",
      "42000/42000 [==============================] - 3s 62us/sample - loss: nan - acc: 0.0997 - val_loss: nan - val_acc: 0.1000\n",
      "Epoch 80/96\n",
      "42000/42000 [==============================] - 3s 61us/sample - loss: nan - acc: 0.0997 - val_loss: nan - val_acc: 0.1000\n",
      "Epoch 81/96\n",
      "42000/42000 [==============================] - 3s 61us/sample - loss: nan - acc: 0.0997 - val_loss: nan - val_acc: 0.1000\n",
      "Epoch 82/96\n",
      "42000/42000 [==============================] - 3s 61us/sample - loss: nan - acc: 0.0997 - val_loss: nan - val_acc: 0.1000\n",
      "Epoch 83/96\n",
      "42000/42000 [==============================] - 3s 62us/sample - loss: nan - acc: 0.0997 - val_loss: nan - val_acc: 0.1000\n",
      "Epoch 84/96\n",
      "42000/42000 [==============================] - 3s 61us/sample - loss: nan - acc: 0.0997 - val_loss: nan - val_acc: 0.1000\n",
      "Epoch 85/96\n",
      "42000/42000 [==============================] - 3s 61us/sample - loss: nan - acc: 0.0997 - val_loss: nan - val_acc: 0.1000\n",
      "Epoch 86/96\n",
      "42000/42000 [==============================] - 3s 62us/sample - loss: nan - acc: 0.0997 - val_loss: nan - val_acc: 0.1000\n",
      "Epoch 87/96\n",
      "42000/42000 [==============================] - 3s 61us/sample - loss: nan - acc: 0.0997 - val_loss: nan - val_acc: 0.1000\n",
      "Epoch 88/96\n",
      "42000/42000 [==============================] - 3s 61us/sample - loss: nan - acc: 0.0997 - val_loss: nan - val_acc: 0.1000\n",
      "Epoch 89/96\n",
      "42000/42000 [==============================] - 3s 61us/sample - loss: nan - acc: 0.0997 - val_loss: nan - val_acc: 0.1000\n",
      "Epoch 90/96\n",
      "42000/42000 [==============================] - 3s 61us/sample - loss: nan - acc: 0.0997 - val_loss: nan - val_acc: 0.1000\n",
      "Epoch 91/96\n",
      "42000/42000 [==============================] - 3s 63us/sample - loss: nan - acc: 0.0997 - val_loss: nan - val_acc: 0.1000\n",
      "Epoch 92/96\n",
      "42000/42000 [==============================] - 3s 61us/sample - loss: nan - acc: 0.0997 - val_loss: nan - val_acc: 0.1000\n",
      "Epoch 93/96\n",
      "42000/42000 [==============================] - 3s 61us/sample - loss: nan - acc: 0.0997 - val_loss: nan - val_acc: 0.1000\n",
      "Epoch 94/96\n",
      "42000/42000 [==============================] - 3s 61us/sample - loss: nan - acc: 0.0997 - val_loss: nan - val_acc: 0.1000\n",
      "Epoch 95/96\n",
      "42000/42000 [==============================] - 3s 62us/sample - loss: nan - acc: 0.0997 - val_loss: nan - val_acc: 0.1000\n",
      "Epoch 96/96\n",
      "42000/42000 [==============================] - 3s 61us/sample - loss: nan - acc: 0.0997 - val_loss: nan - val_acc: 0.1000\n"
     ]
    },
    {
     "data": {
      "text/plain": [
       "<tensorflow.python.keras.callbacks.History at 0x7f2d45b96d68>"
      ]
     },
     "execution_count": 24,
     "metadata": {
      "tags": []
     },
     "output_type": "execute_result"
    }
   ],
   "source": [
    "%time\n",
    "#Training on the dataset\n",
    "model.fit(x_train_res, trainY,\n",
    "          batch_size=batch_size,\n",
    "          epochs=96,\n",
    "          verbose=1,\n",
    "          validation_data=(x_val_res, valy))"
   ]
  },
  {
   "cell_type": "code",
   "execution_count": 26,
   "metadata": {
    "colab": {
     "base_uri": "https://localhost:8080/",
     "height": 386
    },
    "colab_type": "code",
    "id": "z7ZJAlaFFq2n",
    "outputId": "ae185397-3c56-40cf-eb60-b7be29db2c2a"
   },
   "outputs": [
    {
     "name": "stdout",
     "output_type": "stream",
     "text": [
      "Model: \"sequential\"\n",
      "_________________________________________________________________\n",
      "Layer (type)                 Output Shape              Param #   \n",
      "=================================================================\n",
      "reshape (Reshape)            (None, 784)               0         \n",
      "_________________________________________________________________\n",
      "Layer_1 (Dense)              (None, 200)               157000    \n",
      "_________________________________________________________________\n",
      "Layer_2 (Dense)              (None, 100)               20100     \n",
      "_________________________________________________________________\n",
      "Layer_3 (Dense)              (None, 60)                6060      \n",
      "_________________________________________________________________\n",
      "Layer_4 (Dense)              (None, 30)                1830      \n",
      "_________________________________________________________________\n",
      "dropout (Dropout)            (None, 30)                0         \n",
      "_________________________________________________________________\n",
      "Output (Dense)               (None, 10)                310       \n",
      "=================================================================\n",
      "Total params: 185,300\n",
      "Trainable params: 185,300\n",
      "Non-trainable params: 0\n",
      "_________________________________________________________________\n"
     ]
    }
   ],
   "source": [
    "model.summary()"
   ]
  },
  {
   "cell_type": "code",
   "execution_count": 37,
   "metadata": {
    "colab": {
     "base_uri": "https://localhost:8080/",
     "height": 34
    },
    "colab_type": "code",
    "id": "HDYT04GDKTen",
    "outputId": "565ef5bb-879e-4b26-c7bc-71939a24ddae"
   },
   "outputs": [
    {
     "data": {
      "text/plain": [
       "(60000, 10)"
      ]
     },
     "execution_count": 37,
     "metadata": {
      "tags": []
     },
     "output_type": "execute_result"
    }
   ],
   "source": [
    "valy.shape"
   ]
  },
  {
   "cell_type": "markdown",
   "metadata": {
    "colab_type": "text",
    "id": "C3QZbEItK42A"
   },
   "source": [
    "model with batch normalization"
   ]
  },
  {
   "cell_type": "code",
   "execution_count": 0,
   "metadata": {
    "colab": {},
    "colab_type": "code",
    "id": "_dF_wijPFsR2"
   },
   "outputs": [],
   "source": [
    "#Initialize Sequential model\n",
    "model_2 = tf.keras.models.Sequential()\n",
    "\n",
    "#Reshape data from 2D to 1D -> 28x28 to 784\n",
    "model_2.add(tf.keras.layers.Reshape((784,),input_shape=(28,28,)))\n",
    "\n",
    "#Normalize the data\n",
    "model_2.add(tf.keras.layers.BatchNormalization())"
   ]
  },
  {
   "cell_type": "code",
   "execution_count": 0,
   "metadata": {
    "colab": {},
    "colab_type": "code",
    "id": "F924jMFKLBBz"
   },
   "outputs": [],
   "source": [
    "tf.keras.backend.clear_session()\n",
    "model_2 = tf.keras.models.Sequential()\n",
    "model_2.add(tf.keras.layers.Reshape((784,),input_shape=(28,28,)))\n",
    "model_2.add(tf.keras.layers.BatchNormalization())"
   ]
  },
  {
   "cell_type": "code",
   "execution_count": 0,
   "metadata": {
    "colab": {},
    "colab_type": "code",
    "id": "3mSi-oc_LIRR"
   },
   "outputs": [],
   "source": [
    "#Hidden layers\n",
    "model_2.add(tf.keras.layers.Dense(200, activation='relu', name='Layer_1'))\n",
    "\n",
    "model_2.add(tf.keras.layers.BatchNormalization())\n",
    "\n",
    "model_2.add(tf.keras.layers.Dense(100, activation='relu', name='Layer_2'))\n",
    "model_2.add(tf.keras.layers.BatchNormalization())\n",
    "#Dropout layer\n",
    "model_2.add(tf.keras.layers.Dropout(0.5))\n",
    "\n",
    "#Hidden layers\n",
    "model_2.add(tf.keras.layers.Dense(60, activation='relu', name='Layer_3'))\n",
    "model_2.add(tf.keras.layers.BatchNormalization())\n",
    "model_2.add(tf.keras.layers.Dense(30, activation='relu', name='Layer_4'))\n",
    "\n",
    "#Dropout layer\n",
    "model_2.add(tf.keras.layers.Dropout(0.3))"
   ]
  },
  {
   "cell_type": "code",
   "execution_count": 0,
   "metadata": {
    "colab": {},
    "colab_type": "code",
    "id": "Ub8_2e1ALSn4"
   },
   "outputs": [],
   "source": [
    "#Output layer\n",
    "model_2.add(tf.keras.layers.Dense(10, activation='softmax', name='Output'))"
   ]
  },
  {
   "cell_type": "code",
   "execution_count": 0,
   "metadata": {
    "colab": {},
    "colab_type": "code",
    "id": "Mz1wRZYTLVva"
   },
   "outputs": [],
   "source": [
    "model_2.compile(optimizer='sgd', loss='categorical_crossentropy', metrics=['accuracy'])"
   ]
  },
  {
   "cell_type": "code",
   "execution_count": 48,
   "metadata": {
    "colab": {
     "base_uri": "https://localhost:8080/",
     "height": 1000
    },
    "colab_type": "code",
    "id": "fu1TWCJv9m4l",
    "outputId": "ac9087c0-2277-4049-c5cb-8b2e01ae5207"
   },
   "outputs": [
    {
     "name": "stdout",
     "output_type": "stream",
     "text": [
      "CPU times: user 5 µs, sys: 0 ns, total: 5 µs\n",
      "Wall time: 10 µs\n",
      "Train on 42000 samples, validate on 60000 samples\n",
      "Epoch 1/96\n",
      "42000/42000 [==============================] - 5s 126us/sample - loss: 2.4945 - acc: 0.1280 - val_loss: 2.1566 - val_acc: 0.2315\n",
      "Epoch 2/96\n",
      "42000/42000 [==============================] - 4s 106us/sample - loss: 2.2286 - acc: 0.1906 - val_loss: 1.9694 - val_acc: 0.3414\n",
      "Epoch 3/96\n",
      "42000/42000 [==============================] - 4s 106us/sample - loss: 2.0732 - acc: 0.2517 - val_loss: 1.7809 - val_acc: 0.4383\n",
      "Epoch 4/96\n",
      "42000/42000 [==============================] - 4s 105us/sample - loss: 1.9073 - acc: 0.3206 - val_loss: 1.5940 - val_acc: 0.5124\n",
      "Epoch 5/96\n",
      "42000/42000 [==============================] - 4s 106us/sample - loss: 1.7657 - acc: 0.3755 - val_loss: 1.4551 - val_acc: 0.5522\n",
      "Epoch 6/96\n",
      "42000/42000 [==============================] - 5s 109us/sample - loss: 1.6461 - acc: 0.4252 - val_loss: 1.3469 - val_acc: 0.5839\n",
      "Epoch 7/96\n",
      "42000/42000 [==============================] - 4s 106us/sample - loss: 1.5478 - acc: 0.4672 - val_loss: 1.2382 - val_acc: 0.6145\n",
      "Epoch 8/96\n",
      "42000/42000 [==============================] - 4s 106us/sample - loss: 1.4703 - acc: 0.4978 - val_loss: 1.1578 - val_acc: 0.6465\n",
      "Epoch 9/96\n",
      "42000/42000 [==============================] - 4s 106us/sample - loss: 1.4063 - acc: 0.5229 - val_loss: 1.1745 - val_acc: 0.6301\n",
      "Epoch 10/96\n",
      "42000/42000 [==============================] - 5s 107us/sample - loss: 1.3489 - acc: 0.5457 - val_loss: 1.0514 - val_acc: 0.6741\n",
      "Epoch 11/96\n",
      "42000/42000 [==============================] - 4s 105us/sample - loss: 1.3013 - acc: 0.5667 - val_loss: 1.1552 - val_acc: 0.6277\n",
      "Epoch 12/96\n",
      "42000/42000 [==============================] - 5s 108us/sample - loss: 1.2562 - acc: 0.5848 - val_loss: 1.7883 - val_acc: 0.5181\n",
      "Epoch 13/96\n",
      "42000/42000 [==============================] - 4s 105us/sample - loss: 1.2245 - acc: 0.5953 - val_loss: 0.9352 - val_acc: 0.7113\n",
      "Epoch 14/96\n",
      "42000/42000 [==============================] - 5s 110us/sample - loss: 1.1792 - acc: 0.6147 - val_loss: 1.1806 - val_acc: 0.6358\n",
      "Epoch 15/96\n",
      "42000/42000 [==============================] - 4s 106us/sample - loss: 1.1507 - acc: 0.6262 - val_loss: 1.1592 - val_acc: 0.6382\n",
      "Epoch 16/96\n",
      "42000/42000 [==============================] - 5s 121us/sample - loss: 1.1121 - acc: 0.6383 - val_loss: 1.8905 - val_acc: 0.5178\n",
      "Epoch 17/96\n",
      "42000/42000 [==============================] - 5s 108us/sample - loss: 1.0872 - acc: 0.6506 - val_loss: 1.0182 - val_acc: 0.6815\n",
      "Epoch 18/96\n",
      "42000/42000 [==============================] - 4s 107us/sample - loss: 1.0569 - acc: 0.6636 - val_loss: 0.8492 - val_acc: 0.7361\n",
      "Epoch 19/96\n",
      "42000/42000 [==============================] - 5s 108us/sample - loss: 1.0282 - acc: 0.6724 - val_loss: 0.8241 - val_acc: 0.7407\n",
      "Epoch 20/96\n",
      "42000/42000 [==============================] - 4s 107us/sample - loss: 1.0065 - acc: 0.6804 - val_loss: 0.7737 - val_acc: 0.7587\n",
      "Epoch 21/96\n",
      "42000/42000 [==============================] - 4s 106us/sample - loss: 0.9838 - acc: 0.6899 - val_loss: 1.2261 - val_acc: 0.6519\n",
      "Epoch 22/96\n",
      "42000/42000 [==============================] - 4s 106us/sample - loss: 0.9697 - acc: 0.6936 - val_loss: 0.7976 - val_acc: 0.7494\n",
      "Epoch 23/96\n",
      "42000/42000 [==============================] - 5s 107us/sample - loss: 0.9543 - acc: 0.7031 - val_loss: 0.8402 - val_acc: 0.7352\n",
      "Epoch 24/96\n",
      "42000/42000 [==============================] - 4s 107us/sample - loss: 0.9361 - acc: 0.7071 - val_loss: 0.6813 - val_acc: 0.7911\n",
      "Epoch 25/96\n",
      "42000/42000 [==============================] - 5s 107us/sample - loss: 0.9135 - acc: 0.7146 - val_loss: 0.7356 - val_acc: 0.7668\n",
      "Epoch 26/96\n",
      "42000/42000 [==============================] - 4s 107us/sample - loss: 0.9092 - acc: 0.7180 - val_loss: 0.8555 - val_acc: 0.7389\n",
      "Epoch 27/96\n",
      "42000/42000 [==============================] - 4s 106us/sample - loss: 0.8923 - acc: 0.7253 - val_loss: 1.9954 - val_acc: 0.5672\n",
      "Epoch 28/96\n",
      "42000/42000 [==============================] - 5s 107us/sample - loss: 0.8889 - acc: 0.7248 - val_loss: 1.0017 - val_acc: 0.7031\n",
      "Epoch 29/96\n",
      "42000/42000 [==============================] - 4s 107us/sample - loss: 0.8657 - acc: 0.7339 - val_loss: 0.6323 - val_acc: 0.8067\n",
      "Epoch 30/96\n",
      "42000/42000 [==============================] - 4s 107us/sample - loss: 0.8421 - acc: 0.7406 - val_loss: 0.8465 - val_acc: 0.7418\n",
      "Epoch 31/96\n",
      "42000/42000 [==============================] - 4s 107us/sample - loss: 0.8368 - acc: 0.7410 - val_loss: 0.8964 - val_acc: 0.7323\n",
      "Epoch 32/96\n",
      "42000/42000 [==============================] - 4s 106us/sample - loss: 0.8374 - acc: 0.7438 - val_loss: 0.7796 - val_acc: 0.7621\n",
      "Epoch 33/96\n",
      "42000/42000 [==============================] - 5s 110us/sample - loss: 0.8217 - acc: 0.7481 - val_loss: 0.8683 - val_acc: 0.7350\n",
      "Epoch 34/96\n",
      "42000/42000 [==============================] - 4s 107us/sample - loss: 0.8141 - acc: 0.7500 - val_loss: 0.7263 - val_acc: 0.7729\n",
      "Epoch 35/96\n",
      "42000/42000 [==============================] - 5s 108us/sample - loss: 0.7971 - acc: 0.7573 - val_loss: 0.7290 - val_acc: 0.7706\n",
      "Epoch 36/96\n",
      "42000/42000 [==============================] - 4s 106us/sample - loss: 0.7849 - acc: 0.7613 - val_loss: 0.6014 - val_acc: 0.8140\n",
      "Epoch 37/96\n",
      "42000/42000 [==============================] - 5s 107us/sample - loss: 0.7741 - acc: 0.7625 - val_loss: 1.4057 - val_acc: 0.6742\n",
      "Epoch 38/96\n",
      "42000/42000 [==============================] - 4s 106us/sample - loss: 0.7775 - acc: 0.7623 - val_loss: 0.6181 - val_acc: 0.8076\n",
      "Epoch 39/96\n",
      "42000/42000 [==============================] - 4s 107us/sample - loss: 0.7572 - acc: 0.7693 - val_loss: 1.0307 - val_acc: 0.7146\n",
      "Epoch 40/96\n",
      "42000/42000 [==============================] - 4s 107us/sample - loss: 0.7599 - acc: 0.7680 - val_loss: 0.6813 - val_acc: 0.7905\n",
      "Epoch 41/96\n",
      "42000/42000 [==============================] - 5s 108us/sample - loss: 0.7443 - acc: 0.7745 - val_loss: 1.1851 - val_acc: 0.6910\n",
      "Epoch 42/96\n",
      "42000/42000 [==============================] - 4s 106us/sample - loss: 0.7520 - acc: 0.7732 - val_loss: 1.3706 - val_acc: 0.6778\n",
      "Epoch 43/96\n",
      "42000/42000 [==============================] - 4s 106us/sample - loss: 0.7357 - acc: 0.7778 - val_loss: 1.3077 - val_acc: 0.6792\n",
      "Epoch 44/96\n",
      "42000/42000 [==============================] - 5s 107us/sample - loss: 0.7321 - acc: 0.7769 - val_loss: 0.8645 - val_acc: 0.7424\n",
      "Epoch 45/96\n",
      "42000/42000 [==============================] - 5s 108us/sample - loss: 0.7222 - acc: 0.7803 - val_loss: 0.5519 - val_acc: 0.8331\n",
      "Epoch 46/96\n",
      "42000/42000 [==============================] - 5s 108us/sample - loss: 0.7103 - acc: 0.7857 - val_loss: 0.6131 - val_acc: 0.8108\n",
      "Epoch 47/96\n",
      "42000/42000 [==============================] - 5s 109us/sample - loss: 0.6978 - acc: 0.7905 - val_loss: 2.1473 - val_acc: 0.5704\n",
      "Epoch 48/96\n",
      "42000/42000 [==============================] - 4s 105us/sample - loss: 0.7125 - acc: 0.7854 - val_loss: 0.8398 - val_acc: 0.7496\n",
      "Epoch 49/96\n",
      "42000/42000 [==============================] - 4s 105us/sample - loss: 0.7021 - acc: 0.7876 - val_loss: 0.7678 - val_acc: 0.7734\n",
      "Epoch 50/96\n",
      "42000/42000 [==============================] - 4s 107us/sample - loss: 0.6921 - acc: 0.7902 - val_loss: 0.8921 - val_acc: 0.7452\n",
      "Epoch 51/96\n",
      "42000/42000 [==============================] - 4s 105us/sample - loss: 0.6783 - acc: 0.7952 - val_loss: 0.5079 - val_acc: 0.8430\n",
      "Epoch 52/96\n",
      "42000/42000 [==============================] - 4s 106us/sample - loss: 0.6727 - acc: 0.7954 - val_loss: 0.5961 - val_acc: 0.8174\n",
      "Epoch 53/96\n",
      "42000/42000 [==============================] - 4s 106us/sample - loss: 0.6758 - acc: 0.7970 - val_loss: 1.4111 - val_acc: 0.6728\n",
      "Epoch 54/96\n",
      "42000/42000 [==============================] - 5s 107us/sample - loss: 0.6683 - acc: 0.7984 - val_loss: 0.5275 - val_acc: 0.8363\n",
      "Epoch 55/96\n",
      "42000/42000 [==============================] - 5s 107us/sample - loss: 0.6602 - acc: 0.8015 - val_loss: 0.9090 - val_acc: 0.7503\n",
      "Epoch 56/96\n",
      "42000/42000 [==============================] - 5s 115us/sample - loss: 0.6624 - acc: 0.8010 - val_loss: 0.6530 - val_acc: 0.8063\n",
      "Epoch 57/96\n",
      "42000/42000 [==============================] - 4s 106us/sample - loss: 0.6507 - acc: 0.8055 - val_loss: 0.7665 - val_acc: 0.7703\n",
      "Epoch 58/96\n",
      "42000/42000 [==============================] - 4s 106us/sample - loss: 0.6453 - acc: 0.8058 - val_loss: 0.4996 - val_acc: 0.8449\n",
      "Epoch 59/96\n",
      "42000/42000 [==============================] - 4s 106us/sample - loss: 0.6460 - acc: 0.8066 - val_loss: 0.7141 - val_acc: 0.7997\n",
      "Epoch 60/96\n",
      "42000/42000 [==============================] - 4s 105us/sample - loss: 0.6417 - acc: 0.8083 - val_loss: 0.5825 - val_acc: 0.8182\n",
      "Epoch 61/96\n",
      "42000/42000 [==============================] - 5s 108us/sample - loss: 0.6363 - acc: 0.8096 - val_loss: 0.4474 - val_acc: 0.8633\n",
      "Epoch 62/96\n",
      "42000/42000 [==============================] - 5s 108us/sample - loss: 0.6292 - acc: 0.8118 - val_loss: 0.5282 - val_acc: 0.8355\n",
      "Epoch 63/96\n",
      "42000/42000 [==============================] - 5s 107us/sample - loss: 0.6181 - acc: 0.8148 - val_loss: 0.6106 - val_acc: 0.8154\n",
      "Epoch 64/96\n",
      "42000/42000 [==============================] - 4s 105us/sample - loss: 0.6221 - acc: 0.8143 - val_loss: 1.0224 - val_acc: 0.7333\n",
      "Epoch 65/96\n",
      "42000/42000 [==============================] - 5s 113us/sample - loss: 0.6260 - acc: 0.8140 - val_loss: 0.5776 - val_acc: 0.8312\n",
      "Epoch 66/96\n",
      "42000/42000 [==============================] - 5s 111us/sample - loss: 0.6128 - acc: 0.8177 - val_loss: 0.7042 - val_acc: 0.7888\n",
      "Epoch 67/96\n",
      "42000/42000 [==============================] - 5s 108us/sample - loss: 0.6089 - acc: 0.8191 - val_loss: 0.8156 - val_acc: 0.7639\n",
      "Epoch 68/96\n",
      "42000/42000 [==============================] - 4s 105us/sample - loss: 0.6041 - acc: 0.8184 - val_loss: 1.2091 - val_acc: 0.6982\n",
      "Epoch 69/96\n",
      "42000/42000 [==============================] - 4s 107us/sample - loss: 0.6126 - acc: 0.8182 - val_loss: 0.7726 - val_acc: 0.7830\n",
      "Epoch 70/96\n",
      "42000/42000 [==============================] - 5s 109us/sample - loss: 0.6039 - acc: 0.8207 - val_loss: 0.6764 - val_acc: 0.7925\n",
      "Epoch 71/96\n",
      "42000/42000 [==============================] - 4s 106us/sample - loss: 0.5922 - acc: 0.8238 - val_loss: 1.6717 - val_acc: 0.6542\n",
      "Epoch 72/96\n",
      "42000/42000 [==============================] - 4s 107us/sample - loss: 0.6022 - acc: 0.8228 - val_loss: 0.8492 - val_acc: 0.7649\n",
      "Epoch 73/96\n",
      "42000/42000 [==============================] - 4s 107us/sample - loss: 0.5950 - acc: 0.8227 - val_loss: 0.6599 - val_acc: 0.8061\n",
      "Epoch 74/96\n",
      "42000/42000 [==============================] - 4s 106us/sample - loss: 0.5926 - acc: 0.8246 - val_loss: 0.4325 - val_acc: 0.8693\n",
      "Epoch 75/96\n",
      "42000/42000 [==============================] - 4s 105us/sample - loss: 0.5751 - acc: 0.8292 - val_loss: 0.4467 - val_acc: 0.8640\n",
      "Epoch 76/96\n",
      "42000/42000 [==============================] - 4s 106us/sample - loss: 0.5746 - acc: 0.8305 - val_loss: 0.5275 - val_acc: 0.8407\n",
      "Epoch 77/96\n",
      "42000/42000 [==============================] - 4s 105us/sample - loss: 0.5728 - acc: 0.8274 - val_loss: 0.5925 - val_acc: 0.8249\n",
      "Epoch 78/96\n",
      "42000/42000 [==============================] - 4s 106us/sample - loss: 0.5740 - acc: 0.8304 - val_loss: 0.9217 - val_acc: 0.7619\n",
      "Epoch 79/96\n",
      "42000/42000 [==============================] - 4s 106us/sample - loss: 0.5820 - acc: 0.8272 - val_loss: 0.6098 - val_acc: 0.8174\n",
      "Epoch 80/96\n",
      "42000/42000 [==============================] - 4s 104us/sample - loss: 0.5705 - acc: 0.8317 - val_loss: 0.6311 - val_acc: 0.8282\n",
      "Epoch 81/96\n",
      "42000/42000 [==============================] - 4s 107us/sample - loss: 0.5663 - acc: 0.8318 - val_loss: 0.5265 - val_acc: 0.8399\n",
      "Epoch 82/96\n",
      "42000/42000 [==============================] - 4s 105us/sample - loss: 0.5636 - acc: 0.8322 - val_loss: 0.5698 - val_acc: 0.8263\n",
      "Epoch 83/96\n",
      "42000/42000 [==============================] - 4s 106us/sample - loss: 0.5577 - acc: 0.8361 - val_loss: 0.5173 - val_acc: 0.8407\n",
      "Epoch 84/96\n",
      "42000/42000 [==============================] - 4s 106us/sample - loss: 0.5543 - acc: 0.8349 - val_loss: 0.7385 - val_acc: 0.7996\n",
      "Epoch 85/96\n",
      "42000/42000 [==============================] - 4s 107us/sample - loss: 0.5537 - acc: 0.8337 - val_loss: 0.6276 - val_acc: 0.8222\n",
      "Epoch 86/96\n",
      "42000/42000 [==============================] - 5s 108us/sample - loss: 0.5552 - acc: 0.8362 - val_loss: 0.9396 - val_acc: 0.7549\n",
      "Epoch 87/96\n",
      "42000/42000 [==============================] - 4s 106us/sample - loss: 0.5561 - acc: 0.8352 - val_loss: 0.7009 - val_acc: 0.8006\n",
      "Epoch 88/96\n",
      "42000/42000 [==============================] - 4s 107us/sample - loss: 0.5498 - acc: 0.8379 - val_loss: 1.3287 - val_acc: 0.6874\n",
      "Epoch 89/96\n",
      "42000/42000 [==============================] - 5s 108us/sample - loss: 0.5550 - acc: 0.8370 - val_loss: 0.5246 - val_acc: 0.8372\n",
      "Epoch 90/96\n",
      "42000/42000 [==============================] - 4s 107us/sample - loss: 0.5339 - acc: 0.8412 - val_loss: 0.4840 - val_acc: 0.8518\n",
      "Epoch 91/96\n",
      "42000/42000 [==============================] - 4s 106us/sample - loss: 0.5441 - acc: 0.8389 - val_loss: 1.1133 - val_acc: 0.7190\n",
      "Epoch 92/96\n",
      "42000/42000 [==============================] - 4s 107us/sample - loss: 0.5589 - acc: 0.8352 - val_loss: 0.4388 - val_acc: 0.8685\n",
      "Epoch 93/96\n",
      "42000/42000 [==============================] - 4s 106us/sample - loss: 0.5439 - acc: 0.8400 - val_loss: 0.4439 - val_acc: 0.8653\n",
      "Epoch 94/96\n",
      "42000/42000 [==============================] - 4s 106us/sample - loss: 0.5349 - acc: 0.8419 - val_loss: 0.8550 - val_acc: 0.7769\n",
      "Epoch 95/96\n",
      "42000/42000 [==============================] - 4s 106us/sample - loss: 0.5344 - acc: 0.8415 - val_loss: 0.6082 - val_acc: 0.8272\n",
      "Epoch 96/96\n",
      "42000/42000 [==============================] - 5s 108us/sample - loss: 0.5389 - acc: 0.8390 - val_loss: 0.4020 - val_acc: 0.8781\n"
     ]
    },
    {
     "data": {
      "text/plain": [
       "<tensorflow.python.keras.callbacks.History at 0x7f2d35ebceb8>"
      ]
     },
     "execution_count": 48,
     "metadata": {
      "tags": []
     },
     "output_type": "execute_result"
    }
   ],
   "source": [
    "%time\n",
    "#Training on the dataset\n",
    "model_2.fit(x_train_res, trainY,\n",
    "          batch_size=batch_size,\n",
    "          epochs=96,\n",
    "          verbose=1,\n",
    "          validation_data=(x_val_res, valy))"
   ]
  },
  {
   "cell_type": "code",
   "execution_count": 52,
   "metadata": {
    "colab": {
     "base_uri": "https://localhost:8080/",
     "height": 554
    },
    "colab_type": "code",
    "id": "lQmnKy94LXQW",
    "outputId": "95b3f565-55a1-42ef-e137-fecd978aff17"
   },
   "outputs": [
    {
     "name": "stdout",
     "output_type": "stream",
     "text": [
      "Model: \"sequential\"\n",
      "_________________________________________________________________\n",
      "Layer (type)                 Output Shape              Param #   \n",
      "=================================================================\n",
      "reshape (Reshape)            (None, 784)               0         \n",
      "_________________________________________________________________\n",
      "batch_normalization (BatchNo (None, 784)               3136      \n",
      "_________________________________________________________________\n",
      "Layer_1 (Dense)              (None, 200)               157000    \n",
      "_________________________________________________________________\n",
      "batch_normalization_1 (Batch (None, 200)               800       \n",
      "_________________________________________________________________\n",
      "Layer_2 (Dense)              (None, 100)               20100     \n",
      "_________________________________________________________________\n",
      "batch_normalization_2 (Batch (None, 100)               400       \n",
      "_________________________________________________________________\n",
      "dropout (Dropout)            (None, 100)               0         \n",
      "_________________________________________________________________\n",
      "Layer_3 (Dense)              (None, 60)                6060      \n",
      "_________________________________________________________________\n",
      "batch_normalization_3 (Batch (None, 60)                240       \n",
      "_________________________________________________________________\n",
      "Layer_4 (Dense)              (None, 30)                1830      \n",
      "_________________________________________________________________\n",
      "dropout_1 (Dropout)          (None, 30)                0         \n",
      "_________________________________________________________________\n",
      "Output (Dense)               (None, 10)                310       \n",
      "=================================================================\n",
      "Total params: 189,876\n",
      "Trainable params: 187,588\n",
      "Non-trainable params: 2,288\n",
      "_________________________________________________________________\n"
     ]
    }
   ],
   "source": [
    "model_2.summary()"
   ]
  },
  {
   "cell_type": "markdown",
   "metadata": {
    "colab_type": "text",
    "id": "fPyQywTAw8lE"
   },
   "source": [
    "Based on our experimentation of various classification mechanisms both classical as well through Deep Neural Networks, we may reach the conclusion that DNNs are quite efficient for image classification.\n",
    "\n",
    "Metrics show accuracy to be sub par i.e. below 50% for classical ML KNN models whereas they show a healthy accuracy for tuned models around 84%"
   ]
  }
 ],
 "metadata": {
  "colab": {
   "collapsed_sections": [],
   "name": "Untitled5.ipynb",
   "provenance": []
  },
  "kernelspec": {
   "display_name": "Python 3",
   "language": "python",
   "name": "python3"
  },
  "language_info": {
   "codemirror_mode": {
    "name": "ipython",
    "version": 3
   },
   "file_extension": ".py",
   "mimetype": "text/x-python",
   "name": "python",
   "nbconvert_exporter": "python",
   "pygments_lexer": "ipython3",
   "version": "3.7.6"
  }
 },
 "nbformat": 4,
 "nbformat_minor": 1
}
